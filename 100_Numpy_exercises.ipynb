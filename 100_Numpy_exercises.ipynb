{
 "cells": [
  {
   "cell_type": "markdown",
   "id": "46d79837",
   "metadata": {},
   "source": [
    "#### 1. Import the numpy package under the name `np` (★☆☆)"
   ]
  },
  {
   "cell_type": "code",
   "execution_count": 2,
   "id": "a296ae73",
   "metadata": {},
   "outputs": [],
   "source": [
    "import numpy as np"
   ]
  },
  {
   "cell_type": "markdown",
   "id": "0f3bef83",
   "metadata": {},
   "source": [
    "#### 2. Print the numpy version and the configuration (★☆☆)"
   ]
  },
  {
   "cell_type": "code",
   "execution_count": 2,
   "id": "5293bdc8",
   "metadata": {},
   "outputs": [
    {
     "name": "stdout",
     "output_type": "stream",
     "text": [
      "Version =  1.19.2\n",
      "\n",
      "blas_mkl_info:\n",
      "  NOT AVAILABLE\n",
      "blis_info:\n",
      "  NOT AVAILABLE\n",
      "openblas_info:\n",
      "    libraries = ['openblas', 'openblas']\n",
      "    library_dirs = ['/usr/local/lib']\n",
      "    language = c\n",
      "    define_macros = [('HAVE_CBLAS', None)]\n",
      "blas_opt_info:\n",
      "    libraries = ['openblas', 'openblas']\n",
      "    library_dirs = ['/usr/local/lib']\n",
      "    language = c\n",
      "    define_macros = [('HAVE_CBLAS', None)]\n",
      "lapack_mkl_info:\n",
      "  NOT AVAILABLE\n",
      "openblas_lapack_info:\n",
      "    libraries = ['openblas', 'openblas']\n",
      "    library_dirs = ['/usr/local/lib']\n",
      "    language = c\n",
      "    define_macros = [('HAVE_CBLAS', None)]\n",
      "lapack_opt_info:\n",
      "    libraries = ['openblas', 'openblas']\n",
      "    library_dirs = ['/usr/local/lib']\n",
      "    language = c\n",
      "    define_macros = [('HAVE_CBLAS', None)]\n"
     ]
    }
   ],
   "source": [
    "print(\"Version = \", np.__version__)\n",
    "print()\n",
    "np.show_config()"
   ]
  },
  {
   "cell_type": "markdown",
   "id": "0861826f",
   "metadata": {},
   "source": [
    "#### 3. Create a null vector of size 10 (★☆☆)"
   ]
  },
  {
   "cell_type": "code",
   "execution_count": 3,
   "id": "7b1ae979",
   "metadata": {},
   "outputs": [
    {
     "name": "stdout",
     "output_type": "stream",
     "text": [
      "[0. 0. 0. 0. 0. 0. 0. 0. 0. 0.]\n"
     ]
    }
   ],
   "source": [
    "zeroVector = np.zeros(10)\n",
    "print(zeroVector)"
   ]
  },
  {
   "cell_type": "markdown",
   "id": "c8f50b5b",
   "metadata": {},
   "source": [
    "#### 4. How to find the memory size of any array (★☆☆)"
   ]
  },
  {
   "cell_type": "code",
   "execution_count": 4,
   "id": "f814a5c4",
   "metadata": {},
   "outputs": [
    {
     "name": "stdout",
     "output_type": "stream",
     "text": [
      "Size of array = 80 bytes\n"
     ]
    }
   ],
   "source": [
    "print(\"Size of array = %d bytes\" % zeroVector.nbytes)"
   ]
  },
  {
   "cell_type": "markdown",
   "id": "2886a4f5",
   "metadata": {},
   "source": [
    "#### 5. How to get the documentation of the numpy add function from the command line? (★☆☆)"
   ]
  },
  {
   "cell_type": "code",
   "execution_count": 5,
   "id": "6ab0bc7a",
   "metadata": {},
   "outputs": [],
   "source": [
    "np.add?"
   ]
  },
  {
   "cell_type": "markdown",
   "id": "4d7daafb",
   "metadata": {},
   "source": [
    "#### 6. Create a null vector of size 10 but the fifth value which is 1 (★☆☆)"
   ]
  },
  {
   "cell_type": "code",
   "execution_count": 6,
   "id": "c17330ca",
   "metadata": {},
   "outputs": [
    {
     "name": "stdout",
     "output_type": "stream",
     "text": [
      "[0. 0. 0. 0. 1. 0. 0. 0. 0. 0.]\n"
     ]
    }
   ],
   "source": [
    "vectorWithUnit = np.zeros(10)\n",
    "vectorWithUnit[4] = 1\n",
    "print(vectorWithUnit)"
   ]
  },
  {
   "cell_type": "markdown",
   "id": "8cdef669",
   "metadata": {},
   "source": [
    "#### 7. Create a vector with values ranging from 10 to 49 (★☆☆)"
   ]
  },
  {
   "cell_type": "code",
   "execution_count": 7,
   "id": "033ee5d6",
   "metadata": {},
   "outputs": [
    {
     "name": "stdout",
     "output_type": "stream",
     "text": [
      "[10 11 12 13 14 15 16 17 18 19 20 21 22 23 24 25 26 27 28 29 30 31 32 33\n",
      " 34 35 36 37 38 39 40 41 42 43 44 45 46 47 48 49]\n"
     ]
    }
   ],
   "source": [
    "vectorRange = np.arange(10, 50)\n",
    "print(vectorRange)"
   ]
  },
  {
   "cell_type": "markdown",
   "id": "9f09a37a",
   "metadata": {},
   "source": [
    "#### 8. Reverse a vector (first element becomes last) (★☆☆)"
   ]
  },
  {
   "cell_type": "code",
   "execution_count": 8,
   "id": "a561d66a",
   "metadata": {},
   "outputs": [
    {
     "name": "stdout",
     "output_type": "stream",
     "text": [
      "[49 48 47 46 45 44 43 42 41 40 39 38 37 36 35 34 33 32 31 30 29 28 27 26\n",
      " 25 24 23 22 21 20 19 18 17 16 15 14 13 12 11 10]\n"
     ]
    }
   ],
   "source": [
    "vectorRange = vectorRange[::-1]\n",
    "print(vectorRange)"
   ]
  },
  {
   "cell_type": "markdown",
   "id": "c04d4d0a",
   "metadata": {},
   "source": [
    "#### 9. Create a 3x3 matrix with values ranging from 0 to 8 (★☆☆)"
   ]
  },
  {
   "cell_type": "code",
   "execution_count": 9,
   "id": "e72733c0",
   "metadata": {},
   "outputs": [
    {
     "name": "stdout",
     "output_type": "stream",
     "text": [
      "[[0 1 2]\n",
      " [3 4 5]\n",
      " [6 7 8]]\n"
     ]
    }
   ],
   "source": [
    "matrix = np.arange(0, 9).reshape(3, 3)\n",
    "print(matrix)"
   ]
  },
  {
   "cell_type": "markdown",
   "id": "860d9360",
   "metadata": {},
   "source": [
    "#### 10. Find indices of non-zero elements from [1,2,0,0,4,0] (★☆☆)"
   ]
  },
  {
   "cell_type": "code",
   "execution_count": 10,
   "id": "a6f04441",
   "metadata": {},
   "outputs": [
    {
     "name": "stdout",
     "output_type": "stream",
     "text": [
      "(array([0, 1, 4]),)\n"
     ]
    }
   ],
   "source": [
    "indexsNotNull = np.nonzero([1,2,0,0,4,0])\n",
    "print(indexsNotNull)"
   ]
  },
  {
   "cell_type": "markdown",
   "id": "8d95b74b",
   "metadata": {},
   "source": [
    "#### 11. Create a 3x3 identity matrix (★☆☆)"
   ]
  },
  {
   "cell_type": "code",
   "execution_count": 11,
   "id": "24ac4185",
   "metadata": {},
   "outputs": [
    {
     "name": "stdout",
     "output_type": "stream",
     "text": [
      "[[1. 0. 0.]\n",
      " [0. 1. 0.]\n",
      " [0. 0. 1.]]\n"
     ]
    }
   ],
   "source": [
    "identityMatrix = np.eye(3)\n",
    "print(identityMatrix)"
   ]
  },
  {
   "cell_type": "markdown",
   "id": "c394b5cc",
   "metadata": {},
   "source": [
    "#### 12. Create a 3x3x3 array with random values (★☆☆)"
   ]
  },
  {
   "cell_type": "code",
   "execution_count": 12,
   "id": "660015ba",
   "metadata": {},
   "outputs": [
    {
     "name": "stdout",
     "output_type": "stream",
     "text": [
      "[[[0.53965074 0.70546438 0.01676873]\n",
      "  [0.62613731 0.86836858 0.98885103]\n",
      "  [0.70949039 0.45619579 0.71177505]]\n",
      "\n",
      " [[0.13435944 0.71728119 0.62200561]\n",
      "  [0.05701329 0.00348799 0.61420084]\n",
      "  [0.03972737 0.69645998 0.77501744]]\n",
      "\n",
      " [[0.93890171 0.69512081 0.09820307]\n",
      "  [0.47058565 0.81373357 0.07131808]\n",
      "  [0.73546457 0.71112485 0.59166476]]]\n"
     ]
    }
   ],
   "source": [
    "randomArray = np.random.random((3,3,3))\n",
    "print(randomArray)"
   ]
  },
  {
   "cell_type": "markdown",
   "id": "67e2637e",
   "metadata": {},
   "source": [
    "#### 13. Create a 10x10 array with random values and find the minimum and maximum values (★☆☆)"
   ]
  },
  {
   "cell_type": "code",
   "execution_count": 13,
   "id": "944bf6fc",
   "metadata": {},
   "outputs": [
    {
     "name": "stdout",
     "output_type": "stream",
     "text": [
      "min = 0.03746668024945288 , max = 0.9846654097821436\n"
     ]
    }
   ],
   "source": [
    "randomArray = np.random.random((10, 10))\n",
    "minValue, maxValue = randomArray.min(), randomArray.max()\n",
    "print(\"min =\", minValue, \", max =\", maxValue)"
   ]
  },
  {
   "cell_type": "markdown",
   "id": "2326cbf4",
   "metadata": {},
   "source": [
    "#### 14. Create a random vector of size 30 and find the mean value (★☆☆)"
   ]
  },
  {
   "cell_type": "code",
   "execution_count": 14,
   "id": "7b48503f",
   "metadata": {},
   "outputs": [
    {
     "name": "stdout",
     "output_type": "stream",
     "text": [
      "0.4503384129852857\n"
     ]
    }
   ],
   "source": [
    "randomArray = np.random.random(30)\n",
    "mean = randomArray.mean()\n",
    "print(mean)"
   ]
  },
  {
   "cell_type": "markdown",
   "id": "10156198",
   "metadata": {},
   "source": [
    "#### 15. Create a 2d array with 1 on the border and 0 inside (★☆☆)"
   ]
  },
  {
   "cell_type": "code",
   "execution_count": 15,
   "id": "9c5d8cd3",
   "metadata": {},
   "outputs": [
    {
     "name": "stdout",
     "output_type": "stream",
     "text": [
      "[[1. 1. 1. 1. 1.]\n",
      " [1. 0. 0. 0. 1.]\n",
      " [1. 0. 0. 0. 1.]\n",
      " [1. 0. 0. 0. 1.]\n",
      " [1. 1. 1. 1. 1.]]\n"
     ]
    }
   ],
   "source": [
    "onesArray = np.ones((5, 5))\n",
    "onesArray[1:-1, 1:-1] = 0\n",
    "print(onesArray)"
   ]
  },
  {
   "cell_type": "markdown",
   "id": "bf459add",
   "metadata": {},
   "source": [
    "#### 16. How to add a border (filled with 0's) around an existing array? (★☆☆)"
   ]
  },
  {
   "cell_type": "code",
   "execution_count": 16,
   "id": "ce469212",
   "metadata": {},
   "outputs": [
    {
     "name": "stdout",
     "output_type": "stream",
     "text": [
      "[[0. 0. 0. 0. 0. 0. 0.]\n",
      " [0. 1. 1. 1. 1. 1. 0.]\n",
      " [0. 1. 1. 1. 1. 1. 0.]\n",
      " [0. 1. 1. 1. 1. 1. 0.]\n",
      " [0. 1. 1. 1. 1. 1. 0.]\n",
      " [0. 1. 1. 1. 1. 1. 0.]\n",
      " [0. 0. 0. 0. 0. 0. 0.]]\n"
     ]
    }
   ],
   "source": [
    "onesArray = np.ones((5,5))\n",
    "onesArray = np.pad(onesArray, pad_width=1, mode='constant', constant_values=0)\n",
    "print(onesArray)"
   ]
  },
  {
   "cell_type": "markdown",
   "id": "d6140f38",
   "metadata": {},
   "source": [
    "#### 17. What is the result of the following expression? (★☆☆)\n",
    "```python\n",
    "0 * np.nan\n",
    "np.nan == np.nan\n",
    "np.inf > np.nan\n",
    "np.nan - np.nan\n",
    "np.nan in set([np.nan])\n",
    "0.3 == 3 * 0.1\n",
    "```"
   ]
  },
  {
   "cell_type": "code",
   "execution_count": 17,
   "id": "aa90e102",
   "metadata": {},
   "outputs": [
    {
     "name": "stdout",
     "output_type": "stream",
     "text": [
      "nan\n",
      "False\n",
      "False\n",
      "nan\n",
      "True\n",
      "False\n"
     ]
    }
   ],
   "source": [
    "print(0 * np.nan)\n",
    "print(np.nan == np.nan)\n",
    "print(np.inf > np.nan)\n",
    "print(np.nan - np.nan)\n",
    "print(np.nan in set([np.nan]))\n",
    "print(0.3 == 3 * 0.1)"
   ]
  },
  {
   "cell_type": "markdown",
   "id": "2d52f2d4",
   "metadata": {},
   "source": [
    "#### 18. Create a 5x5 matrix with values 1,2,3,4 just below the diagonal (★☆☆)"
   ]
  },
  {
   "cell_type": "code",
   "execution_count": 18,
   "id": "7bdb446f",
   "metadata": {},
   "outputs": [
    {
     "name": "stdout",
     "output_type": "stream",
     "text": [
      "[[0 0 0 0 0]\n",
      " [1 0 0 0 0]\n",
      " [0 2 0 0 0]\n",
      " [0 0 3 0 0]\n",
      " [0 0 0 4 0]]\n"
     ]
    }
   ],
   "source": [
    "matrix = np.diag(np.arange(1, 5), k=-1)\n",
    "print(matrix)"
   ]
  },
  {
   "cell_type": "markdown",
   "id": "f0145ff2",
   "metadata": {},
   "source": [
    "#### 19. Create a 8x8 matrix and fill it with a checkerboard pattern (★☆☆)"
   ]
  },
  {
   "cell_type": "code",
   "execution_count": 19,
   "id": "17008495",
   "metadata": {},
   "outputs": [
    {
     "name": "stdout",
     "output_type": "stream",
     "text": [
      "[[0 1 0 1 0]\n",
      " [1 0 1 0 1]\n",
      " [0 1 0 1 0]\n",
      " [1 0 1 0 1]\n",
      " [0 1 0 1 0]]\n"
     ]
    }
   ],
   "source": [
    "matrix = np.zeros((5,5),dtype=int)\n",
    "matrix[1::2,::2] = 1\n",
    "matrix[::2,1::2] = 1\n",
    "print(matrix)"
   ]
  },
  {
   "cell_type": "markdown",
   "id": "2e948ab4",
   "metadata": {},
   "source": [
    "#### 20. Consider a (6,7,8) shape array, what is the index (x,y,z) of the 100th element? (★☆☆)"
   ]
  },
  {
   "cell_type": "code",
   "execution_count": 20,
   "id": "42196662",
   "metadata": {},
   "outputs": [
    {
     "name": "stdout",
     "output_type": "stream",
     "text": [
      "(1, 5, 3)\n"
     ]
    }
   ],
   "source": [
    "print(np.unravel_index(99,(6,7,8)))"
   ]
  },
  {
   "cell_type": "markdown",
   "id": "83862935",
   "metadata": {},
   "source": [
    "#### 21. Create a checkerboard 8x8 matrix using the tile function (★☆☆)"
   ]
  },
  {
   "cell_type": "code",
   "execution_count": 21,
   "id": "83f0987f",
   "metadata": {},
   "outputs": [
    {
     "name": "stdout",
     "output_type": "stream",
     "text": [
      "[[1 0 1 0 1 0 1 0]\n",
      " [0 1 0 1 0 1 0 1]\n",
      " [1 0 1 0 1 0 1 0]\n",
      " [0 1 0 1 0 1 0 1]\n",
      " [1 0 1 0 1 0 1 0]\n",
      " [0 1 0 1 0 1 0 1]\n",
      " [1 0 1 0 1 0 1 0]\n",
      " [0 1 0 1 0 1 0 1]]\n"
     ]
    }
   ],
   "source": [
    "chessMatrix = np.tile(np.array([[1, 0], [0, 1]]), (4, 4))\n",
    "print(chessMatrix)"
   ]
  },
  {
   "cell_type": "markdown",
   "id": "f1111545",
   "metadata": {},
   "source": [
    "#### 22. Normalize a 5x5 random matrix (★☆☆)"
   ]
  },
  {
   "cell_type": "code",
   "execution_count": 22,
   "id": "082eaacc",
   "metadata": {},
   "outputs": [
    {
     "name": "stdout",
     "output_type": "stream",
     "text": [
      "[[-0.4889423   0.61764739 -1.46816446 -0.62436133  0.98650885]\n",
      " [ 1.37879824  0.37597764 -0.40020671  0.00654208  1.15612416]\n",
      " [-1.83775009  0.89192204 -0.10919998 -1.11925693  0.49827311]\n",
      " [ 0.23590044 -0.1491737   0.5541303  -2.08402682 -0.91125621]\n",
      " [ 1.59076654  0.59777732  0.770095    0.88102534 -1.34914993]]\n"
     ]
    }
   ],
   "source": [
    "randomArray = np.random.random((5, 5))\n",
    "randomArray = (randomArray - randomArray.mean()) / randomArray.std()\n",
    "print(randomArray)"
   ]
  },
  {
   "cell_type": "markdown",
   "id": "e628bb69",
   "metadata": {},
   "source": [
    "#### 23. Create a custom dtype that describes a color as four unsigned bytes (RGBA) (★☆☆)"
   ]
  },
  {
   "cell_type": "code",
   "execution_count": 23,
   "id": "677b51d3",
   "metadata": {},
   "outputs": [],
   "source": [
    "color = np.dtype([('r', np.ubyte),\n",
    "                 ('g', np.ubyte),\n",
    "                 ('b', np.ubyte),\n",
    "                 ('a', np.ubyte)])"
   ]
  },
  {
   "cell_type": "markdown",
   "id": "18ca9e4f",
   "metadata": {},
   "source": [
    "#### 24. Multiply a 5x3 matrix by a 3x2 matrix (real matrix product) (★☆☆)"
   ]
  },
  {
   "cell_type": "code",
   "execution_count": 24,
   "id": "7b7e14ca",
   "metadata": {},
   "outputs": [
    {
     "name": "stdout",
     "output_type": "stream",
     "text": [
      "[[0.558205   0.81434465]\n",
      " [0.7097855  1.240065  ]\n",
      " [0.8422842  1.47123354]\n",
      " [0.09145633 0.14310003]\n",
      " [0.680511   0.82629235]]\n",
      "[[3. 3.]\n",
      " [3. 3.]\n",
      " [3. 3.]\n",
      " [3. 3.]\n",
      " [3. 3.]]\n"
     ]
    }
   ],
   "source": [
    "multiMatrix = np.random.random((5, 3)) @ np.random.random((3, 2))\n",
    "print(multiMatrix)\n",
    "multiMatrix = np.ones((5, 3)) @ np.ones((3, 2))\n",
    "print(multiMatrix)"
   ]
  },
  {
   "cell_type": "markdown",
   "id": "cc875db3",
   "metadata": {},
   "source": [
    "#### 25. Given a 1D array, negate all elements which are between 3 and 8, in place. (★☆☆)"
   ]
  },
  {
   "cell_type": "code",
   "execution_count": 26,
   "id": "ad746dad",
   "metadata": {},
   "outputs": [
    {
     "name": "stdout",
     "output_type": "stream",
     "text": [
      "[ 0  1  2  3 -4 -5 -6 -7  8  9 10]\n"
     ]
    }
   ],
   "source": [
    "array = np.arange(11)\n",
    "array[(3 < array) & (array < 8)] *= -1\n",
    "print(array)"
   ]
  },
  {
   "cell_type": "markdown",
   "id": "eb8fd903",
   "metadata": {},
   "source": [
    "#### 26. What is the output of the following script? (★☆☆)\n",
    "```python\n",
    "# Author: Jake VanderPlas\n",
    "\n",
    "print(sum(range(5),-1))\n",
    "from numpy import *\n",
    "print(sum(range(5),-1))\n",
    "```"
   ]
  },
  {
   "cell_type": "code",
   "execution_count": 27,
   "id": "a602a5b6",
   "metadata": {},
   "outputs": [
    {
     "name": "stdout",
     "output_type": "stream",
     "text": [
      "9\n",
      "10\n"
     ]
    }
   ],
   "source": [
    "print(sum(range(5),-1))\n",
    "from numpy import *\n",
    "print(sum(range(5),-1))"
   ]
  },
  {
   "cell_type": "markdown",
   "id": "8f6d7903",
   "metadata": {},
   "source": [
    "#### 27. Consider an integer vector Z, which of these expressions are legal? (★☆☆)\n",
    "```python\n",
    "Z**Z\n",
    "2 << Z >> 2\n",
    "Z <- Z\n",
    "1j*Z\n",
    "Z/1/1\n",
    "Z<Z>Z\n",
    "```"
   ]
  },
  {
   "cell_type": "code",
   "execution_count": 28,
   "id": "3f341f01",
   "metadata": {},
   "outputs": [
    {
     "name": "stdout",
     "output_type": "stream",
     "text": [
      "[False False False False False]\n",
      "[0.+0.j 0.+1.j 0.+2.j 0.+3.j 0.+4.j]\n",
      "[0. 1. 2. 3. 4.]\n"
     ]
    }
   ],
   "source": [
    "Z = np.arange(5)\n",
    "print(Z <- Z)\n",
    "print(1j*Z)\n",
    "print(Z/1/1)\n"
   ]
  },
  {
   "cell_type": "markdown",
   "id": "1708590d",
   "metadata": {},
   "source": [
    "#### 28. What are the result of the following expressions? (★☆☆)\n",
    "```python\n",
    "np.array(0) / np.array(0)\n",
    "np.array(0) // np.array(0)\n",
    "np.array([np.nan]).astype(int).astype(float)\n",
    "```"
   ]
  },
  {
   "cell_type": "code",
   "execution_count": 29,
   "id": "ab68a2bd",
   "metadata": {},
   "outputs": [
    {
     "name": "stdout",
     "output_type": "stream",
     "text": [
      "nan\n",
      "0\n",
      "[-9.22337204e+18]\n"
     ]
    },
    {
     "name": "stderr",
     "output_type": "stream",
     "text": [
      "<ipython-input-29-2a10de0ee61b>:1: RuntimeWarning: invalid value encountered in true_divide\n",
      "  print(np.array(0) / np.array(0))\n",
      "<ipython-input-29-2a10de0ee61b>:2: RuntimeWarning: divide by zero encountered in floor_divide\n",
      "  print(np.array(0) // np.array(0))\n"
     ]
    }
   ],
   "source": [
    "print(np.array(0) / np.array(0))\n",
    "print(np.array(0) // np.array(0))\n",
    "print(np.array([np.nan]).astype(int).astype(float))"
   ]
  },
  {
   "cell_type": "markdown",
   "id": "06a466a7",
   "metadata": {},
   "source": [
    "#### 29. How to round away from zero a float array ? (★☆☆)"
   ]
  },
  {
   "cell_type": "code",
   "execution_count": 30,
   "id": "2b4a6b1d",
   "metadata": {},
   "outputs": [
    {
     "name": "stdout",
     "output_type": "stream",
     "text": [
      "[ 5.10175262  9.49444454 -7.52795631  1.65391869 -3.47312354 -4.83926556\n",
      "  4.4654376   7.83118119 -9.32699439 -4.78620802]\n",
      "[ 6. 10. -7.  2. -3. -4.  5.  8. -9. -4.]\n"
     ]
    }
   ],
   "source": [
    "matrix = np.random.uniform(-10,+10,10)\n",
    "print(matrix)\n",
    "print(np.ceil(matrix))"
   ]
  },
  {
   "cell_type": "markdown",
   "id": "da08b218",
   "metadata": {},
   "source": [
    "#### 30. How to find common values between two arrays? (★☆☆)"
   ]
  },
  {
   "cell_type": "code",
   "execution_count": 31,
   "id": "4a0ecbc9",
   "metadata": {},
   "outputs": [
    {
     "name": "stdout",
     "output_type": "stream",
     "text": [
      "array 1 = [8 2 2 2 5 2 5 8 1 9]\n",
      "array 2 = [7 8 0 5 1 8 7 5 3 7]\n",
      "common = [1 5 8]\n"
     ]
    }
   ],
   "source": [
    "array1 = np.random.randint(0,10,10)\n",
    "array2 = np.random.randint(0,10,10)\n",
    "print(\"array 1 =\", array1)\n",
    "print(\"array 2 =\", array2)\n",
    "\n",
    "print(\"common =\", np.intersect1d(array1, array2))"
   ]
  },
  {
   "cell_type": "markdown",
   "id": "10a1c35b",
   "metadata": {},
   "source": [
    "#### 31. How to ignore all numpy warnings (not recommended)? (★☆☆)"
   ]
  },
  {
   "cell_type": "code",
   "execution_count": 43,
   "id": "6ab4c4ad",
   "metadata": {},
   "outputs": [
    {
     "data": {
      "text/plain": [
       "{'divide': 'warn', 'over': 'warn', 'under': 'ignore', 'invalid': 'warn'}"
      ]
     },
     "execution_count": 43,
     "metadata": {},
     "output_type": "execute_result"
    }
   ],
   "source": [
    "np.seterr(all='ignore')"
   ]
  },
  {
   "cell_type": "markdown",
   "id": "ca1b32c5",
   "metadata": {},
   "source": [
    "#### 32. Is the following expressions true? (★☆☆)\n",
    "```python\n",
    "np.sqrt(-1) == np.emath.sqrt(-1)\n",
    "```"
   ]
  },
  {
   "cell_type": "code",
   "execution_count": 34,
   "id": "74be1c01",
   "metadata": {},
   "outputs": [
    {
     "name": "stdout",
     "output_type": "stream",
     "text": [
      "False\n"
     ]
    },
    {
     "name": "stderr",
     "output_type": "stream",
     "text": [
      "<ipython-input-34-c6ff0ad7fd7b>:1: RuntimeWarning: invalid value encountered in sqrt\n",
      "  print(np.sqrt(-1) == np.emath.sqrt(-1))\n"
     ]
    }
   ],
   "source": [
    "print(np.sqrt(-1) == np.emath.sqrt(-1))"
   ]
  },
  {
   "cell_type": "markdown",
   "id": "525a0e92",
   "metadata": {},
   "source": [
    "#### 33. How to get the dates of yesterday, today and tomorrow? (★☆☆)"
   ]
  },
  {
   "cell_type": "code",
   "execution_count": 35,
   "id": "0474841c",
   "metadata": {},
   "outputs": [
    {
     "name": "stdout",
     "output_type": "stream",
     "text": [
      "yesterday = 2023-03-30\n",
      "today = 2023-03-31\n",
      "tomorrow = 2023-04-01\n"
     ]
    }
   ],
   "source": [
    "yesterday = np.datetime64('today') - np.timedelta64(1)\n",
    "today     = np.datetime64('today')\n",
    "tomorrow  = np.datetime64('today') + np.timedelta64(1)\n",
    "print(\"yesterday =\", yesterday)\n",
    "print(\"today =\", today)\n",
    "print(\"tomorrow =\", tomorrow)"
   ]
  },
  {
   "cell_type": "markdown",
   "id": "9edcbd8c",
   "metadata": {},
   "source": [
    "#### 34. How to get all the dates corresponding to the month of July 2016? (★★☆)"
   ]
  },
  {
   "cell_type": "code",
   "execution_count": 40,
   "id": "d50822d3",
   "metadata": {},
   "outputs": [
    {
     "name": "stdout",
     "output_type": "stream",
     "text": [
      "['2016-07-01' '2016-07-02' '2016-07-03' '2016-07-04' '2016-07-05'\n",
      " '2016-07-06' '2016-07-07' '2016-07-08' '2016-07-09' '2016-07-10'\n",
      " '2016-07-11' '2016-07-12' '2016-07-13' '2016-07-14' '2016-07-15'\n",
      " '2016-07-16' '2016-07-17' '2016-07-18' '2016-07-19' '2016-07-20'\n",
      " '2016-07-21' '2016-07-22' '2016-07-23' '2016-07-24' '2016-07-25'\n",
      " '2016-07-26' '2016-07-27' '2016-07-28' '2016-07-29' '2016-07-30'\n",
      " '2016-07-31']\n"
     ]
    }
   ],
   "source": [
    "dateJuly = np.arange('2016-07', '2016-08', dtype='datetime64[D]')\n",
    "print(dateJuly)"
   ]
  },
  {
   "cell_type": "markdown",
   "id": "32953295",
   "metadata": {},
   "source": [
    "#### 35. How to compute ((A+B)*(-A/2)) in place (without copy)? (★★☆)"
   ]
  },
  {
   "cell_type": "code",
   "execution_count": 49,
   "id": "ff7bfd4e",
   "metadata": {},
   "outputs": [
    {
     "data": {
      "text/plain": [
       "array([-1.47, -1.47, -1.47])"
      ]
     },
     "execution_count": 49,
     "metadata": {},
     "output_type": "execute_result"
    }
   ],
   "source": [
    "A = np.ones(3)*1/5\n",
    "B = np.ones(3)*14.5\n",
    "np.add(A,B,out=B)\n",
    "np.divide(A,2,out=A)\n",
    "np.negative(A,out=A)\n",
    "np.multiply(A,B,out=A)"
   ]
  },
  {
   "cell_type": "markdown",
   "id": "1aaaa1eb",
   "metadata": {},
   "source": [
    "#### 36. Extract the integer part of a random array of positive numbers using 4 different methods (★★☆)"
   ]
  },
  {
   "cell_type": "code",
   "execution_count": 55,
   "id": "a7f2dc8d",
   "metadata": {},
   "outputs": [
    {
     "name": "stdout",
     "output_type": "stream",
     "text": [
      "randomArray = [5.04303389 4.54494285 8.75232314 6.21926044 9.6008516 ]\n",
      "[5. 4. 8. 6. 9.]\n",
      "[5. 4. 8. 6. 9.]\n",
      "[5 4 8 6 9]\n",
      "[5. 4. 8. 6. 9.]\n"
     ]
    }
   ],
   "source": [
    "randomArray = np.random.uniform(0,10,5)\n",
    "print('randomArray =', randomArray)\n",
    "print(randomArray // 1)\n",
    "print(np.floor(randomArray))\n",
    "print(randomArray.astype(int))\n",
    "print(np.trunc(randomArray))"
   ]
  },
  {
   "cell_type": "markdown",
   "id": "a51d53a8",
   "metadata": {},
   "source": [
    "#### 37. Create a 5x5 matrix with row values ranging from 0 to 4 (★★☆)"
   ]
  },
  {
   "cell_type": "code",
   "execution_count": 61,
   "id": "a42c136a",
   "metadata": {},
   "outputs": [
    {
     "name": "stdout",
     "output_type": "stream",
     "text": [
      "[[4 0 3 2 2]\n",
      " [3 2 2 4 2]\n",
      " [3 3 3 4 4]\n",
      " [3 4 0 3 1]\n",
      " [4 2 2 4 3]]\n"
     ]
    }
   ],
   "source": [
    "randomMatrix = np.random.randint(0, 5, 25).reshape((5, 5))\n",
    "print(randomMatrix)"
   ]
  },
  {
   "cell_type": "markdown",
   "id": "b6a222fc",
   "metadata": {},
   "source": [
    "#### 38. Consider a generator function that generates 10 integers and use it to build an array (★☆☆)"
   ]
  },
  {
   "cell_type": "code",
   "execution_count": 63,
   "id": "38a7dd69",
   "metadata": {},
   "outputs": [
    {
     "name": "stdout",
     "output_type": "stream",
     "text": [
      "[0 1 2 3 4 5 6 7 8 9]\n"
     ]
    }
   ],
   "source": [
    "def generator():\n",
    "    for x in range(10):\n",
    "        yield x\n",
    "generateArray = np.fromiter(generator(),dtype=int,count=-1)\n",
    "print(generateArray)"
   ]
  },
  {
   "cell_type": "markdown",
   "id": "b48015f0",
   "metadata": {},
   "source": [
    "#### 39. Create a vector of size 10 with values ranging from 0 to 1, both excluded (★★☆)"
   ]
  },
  {
   "cell_type": "code",
   "execution_count": 67,
   "id": "d06f2a78",
   "metadata": {},
   "outputs": [
    {
     "name": "stdout",
     "output_type": "stream",
     "text": [
      "[0.         0.09090909 0.18181818 0.27272727 0.36363636 0.45454545\n",
      " 0.54545455 0.63636364 0.72727273 0.81818182 0.90909091]\n"
     ]
    }
   ],
   "source": [
    "vector = np.linspace(0,1,11,endpoint=False)\n",
    "print(vector)"
   ]
  },
  {
   "cell_type": "markdown",
   "id": "9e0fb7a3",
   "metadata": {},
   "source": [
    "#### 40. Create a random vector of size 10 and sort it (★★☆)"
   ]
  },
  {
   "cell_type": "code",
   "execution_count": 79,
   "id": "2defeb7e",
   "metadata": {},
   "outputs": [
    {
     "name": "stdout",
     "output_type": "stream",
     "text": [
      "[35 43 54 61 63 75 87 93 95 96]\n"
     ]
    }
   ],
   "source": [
    "randomSortVector = np.random.randint(0, 100, 10)\n",
    "randomSortVector.sort()\n",
    "print(randomSortVector)"
   ]
  },
  {
   "cell_type": "markdown",
   "id": "d2b1a758",
   "metadata": {},
   "source": [
    "#### 41. How to sum a small array faster than np.sum? (★★☆)"
   ]
  },
  {
   "cell_type": "code",
   "execution_count": 81,
   "id": "661b76a6",
   "metadata": {},
   "outputs": [
    {
     "name": "stdout",
     "output_type": "stream",
     "text": [
      "45\n"
     ]
    }
   ],
   "source": [
    "vector = np.arange(10)\n",
    "print(np.add.reduce(vector))"
   ]
  },
  {
   "cell_type": "markdown",
   "id": "d7fe11ed",
   "metadata": {},
   "source": [
    "#### 42. Consider two random array A and B, check if they are equal (★★☆)"
   ]
  },
  {
   "cell_type": "code",
   "execution_count": 87,
   "id": "49c0e1c0",
   "metadata": {},
   "outputs": [
    {
     "name": "stdout",
     "output_type": "stream",
     "text": [
      "A = [54 94  9  2 95 40 57 56 28 49]\n",
      "B = [15 57 42 87  0 35 50 24 62 81]\n",
      "False\n"
     ]
    }
   ],
   "source": [
    "A = np.random.randint(0, 100, 10)\n",
    "B = np.random.randint(0, 100, 10)\n",
    "print(\"A =\", A)\n",
    "print(\"B =\", B)\n",
    "print(np.array_equal(A, B))"
   ]
  },
  {
   "cell_type": "markdown",
   "id": "5d8cf1f9",
   "metadata": {},
   "source": [
    "#### 43. Make an array immutable (read-only) (★★☆)"
   ]
  },
  {
   "cell_type": "code",
   "execution_count": 88,
   "id": "fbda6d79",
   "metadata": {},
   "outputs": [
    {
     "ename": "ValueError",
     "evalue": "assignment destination is read-only",
     "output_type": "error",
     "traceback": [
      "\u001b[0;31m---------------------------------------------------------------------------\u001b[0m",
      "\u001b[0;31mValueError\u001b[0m                                Traceback (most recent call last)",
      "\u001b[0;32m<ipython-input-88-b4827ddac6f0>\u001b[0m in \u001b[0;36m<module>\u001b[0;34m\u001b[0m\n\u001b[1;32m      1\u001b[0m \u001b[0mreadArray\u001b[0m \u001b[0;34m=\u001b[0m \u001b[0mnp\u001b[0m\u001b[0;34m.\u001b[0m\u001b[0mzeros\u001b[0m\u001b[0;34m(\u001b[0m\u001b[0;36m10\u001b[0m\u001b[0;34m)\u001b[0m\u001b[0;34m\u001b[0m\u001b[0;34m\u001b[0m\u001b[0m\n\u001b[1;32m      2\u001b[0m \u001b[0mreadArray\u001b[0m\u001b[0;34m.\u001b[0m\u001b[0mflags\u001b[0m\u001b[0;34m.\u001b[0m\u001b[0mwriteable\u001b[0m \u001b[0;34m=\u001b[0m \u001b[0;32mFalse\u001b[0m\u001b[0;34m\u001b[0m\u001b[0;34m\u001b[0m\u001b[0m\n\u001b[0;32m----> 3\u001b[0;31m \u001b[0mreadArray\u001b[0m\u001b[0;34m[\u001b[0m\u001b[0;36m5\u001b[0m\u001b[0;34m]\u001b[0m \u001b[0;34m=\u001b[0m \u001b[0;36m811\u001b[0m\u001b[0;34m\u001b[0m\u001b[0;34m\u001b[0m\u001b[0m\n\u001b[0m",
      "\u001b[0;31mValueError\u001b[0m: assignment destination is read-only"
     ]
    }
   ],
   "source": [
    "readArray = np.zeros(10)\n",
    "readArray.flags.writeable = False\n",
    "readArray[5] = 811"
   ]
  },
  {
   "cell_type": "markdown",
   "id": "008f6860",
   "metadata": {},
   "source": [
    "#### 44. Consider a random 10x2 matrix representing cartesian coordinates, convert them to polar coordinates (★★☆)"
   ]
  },
  {
   "cell_type": "code",
   "execution_count": 90,
   "id": "cbd99809",
   "metadata": {},
   "outputs": [
    {
     "name": "stdout",
     "output_type": "stream",
     "text": [
      "[0.96086229 0.61949595 1.13931775 0.82927267 0.47237304 1.01019946\n",
      " 0.68181351 0.84527013 0.57413348 0.76822401]\n",
      "[1.13221417 1.26091489 0.55468314 0.03043795 1.06546295 0.50245087\n",
      " 0.17541889 0.89193079 1.44899739 0.09397511]\n"
     ]
    }
   ],
   "source": [
    "decart = np.random.random((10,2))\n",
    "X,Y = decart[:,0], decart[:,1]\n",
    "R = np.sqrt(X**2+Y**2)\n",
    "fi = np.arctan2(Y,X)\n",
    "print(R)\n",
    "print(fi)"
   ]
  },
  {
   "cell_type": "markdown",
   "id": "31337e39",
   "metadata": {},
   "source": [
    "#### 45. Create random vector of size 10 and replace the maximum value by 0 (★★☆)"
   ]
  },
  {
   "cell_type": "code",
   "execution_count": 91,
   "id": "7a3b023c",
   "metadata": {},
   "outputs": [
    {
     "name": "stdout",
     "output_type": "stream",
     "text": [
      "[75 97 24 77 71 34 77 31 27 99]\n",
      "[75 97 24 77 71 34 77 31 27  0]\n"
     ]
    }
   ],
   "source": [
    "randomVector = np.random.randint(0, 100, 10)\n",
    "print(randomVector)\n",
    "randomVector[randomVector.argmax()] = 0\n",
    "print(randomVector)\n"
   ]
  },
  {
   "cell_type": "markdown",
   "id": "063ce9b7",
   "metadata": {},
   "source": [
    "#### 46. Create a structured array with `x` and `y` coordinates covering the [0,1]x[0,1] area (★★☆)"
   ]
  },
  {
   "cell_type": "code",
   "execution_count": 93,
   "id": "8ecd3f5a",
   "metadata": {},
   "outputs": [
    {
     "name": "stdout",
     "output_type": "stream",
     "text": [
      "[[(0.  , 0.  ) (0.25, 0.  ) (0.5 , 0.  ) (0.75, 0.  ) (1.  , 0.  )]\n",
      " [(0.  , 0.25) (0.25, 0.25) (0.5 , 0.25) (0.75, 0.25) (1.  , 0.25)]\n",
      " [(0.  , 0.5 ) (0.25, 0.5 ) (0.5 , 0.5 ) (0.75, 0.5 ) (1.  , 0.5 )]\n",
      " [(0.  , 0.75) (0.25, 0.75) (0.5 , 0.75) (0.75, 0.75) (1.  , 0.75)]\n",
      " [(0.  , 1.  ) (0.25, 1.  ) (0.5 , 1.  ) (0.75, 1.  ) (1.  , 1.  )]]\n"
     ]
    }
   ],
   "source": [
    "coordinates = np.zeros((5,5), [('x',float),('y',float)])\n",
    "coordinates['x'], coordinates['y'] = np.meshgrid(np.linspace(0,1,5),\n",
    "                             np.linspace(0,1,5))\n",
    "print(coordinates)"
   ]
  },
  {
   "cell_type": "markdown",
   "id": "b3b9b1d4",
   "metadata": {},
   "source": [
    "#### 47. Given two arrays, X and Y, construct the Cauchy matrix C (Cij =1/(xi - yj)) (★★☆)"
   ]
  },
  {
   "cell_type": "code",
   "execution_count": 101,
   "id": "1a8c7f1d",
   "metadata": {},
   "outputs": [
    {
     "name": "stdout",
     "output_type": "stream",
     "text": [
      "[[-2.          0.08       -0.06896552 -0.01273885  0.4        -0.05714286\n",
      "  -2.         -0.01183432 -0.04651163 -0.01526718]\n",
      " [-0.07407407 -2.         -0.03636364 -0.01092896 -0.0952381  -0.03278689\n",
      "  -0.07407407 -0.01025641 -0.02898551 -0.01273885]\n",
      " [ 0.07407407  0.03773585 -2.         -0.01550388  0.06060606 -0.28571429\n",
      "   0.07407407 -0.0141844  -0.13333333 -0.01941748]\n",
      " [ 0.01290323  0.01104972  0.01574803 -2.          0.01242236  0.01652893\n",
      "   0.01290323 -0.15384615  0.01769912  0.08      ]\n",
      " [-0.28571429  0.10526316 -0.05714286 -0.01226994 -2.         -0.04878049\n",
      "  -0.28571429 -0.01142857 -0.04081633 -0.01459854]\n",
      " [ 0.06060606  0.03389831  0.4        -0.01626016  0.05128205 -2.\n",
      "   0.06060606 -0.01481481 -0.22222222 -0.02061856]\n",
      " [-2.          0.08       -0.06896552 -0.01273885  0.4        -0.05714286\n",
      "  -2.         -0.01183432 -0.04651163 -0.01526718]\n",
      " [ 0.01197605  0.01036269  0.01438849  0.18181818  0.01156069  0.01503759\n",
      "   0.01197605 -2.          0.016       0.05405405]\n",
      " [ 0.04878049  0.02985075  0.15384615 -0.0173913   0.04255319  0.28571429\n",
      "   0.04878049 -0.01574803 -2.         -0.02247191]\n",
      " [ 0.01550388  0.01290323  0.01980198 -0.07407407  0.01481481  0.02105263\n",
      "   0.01550388 -0.05128205  0.02298851 -2.        ]]\n"
     ]
    }
   ],
   "source": [
    "X = np.random.randint(1, 100, 10)\n",
    "Y = X + 0.5\n",
    "\n",
    "C = 1.0 / np.subtract.outer(X, Y)\n",
    "print(C)"
   ]
  },
  {
   "cell_type": "markdown",
   "id": "5aa0f1cb",
   "metadata": {},
   "source": [
    "#### 48. Print the minimum and maximum representable value for each numpy scalar type (★★☆)"
   ]
  },
  {
   "cell_type": "code",
   "execution_count": 109,
   "id": "1dbaa00b",
   "metadata": {},
   "outputs": [
    {
     "name": "stdout",
     "output_type": "stream",
     "text": [
      "<class 'numpy.int8'>\n",
      "min =  -128\n",
      "max = 127\n",
      "<class 'numpy.int32'>\n",
      "min =  -2147483648\n",
      "max = 2147483647\n",
      "<class 'numpy.int64'>\n",
      "min =  -9223372036854775808\n",
      "max = 9223372036854775807\n",
      "<class 'numpy.float32'>\n",
      "min =  -3.4028235e+38\n",
      "max =  3.4028235e+38\n",
      "<class 'numpy.float64'>\n",
      "min =  -1.7976931348623157e+308\n",
      "max =  1.7976931348623157e+308\n"
     ]
    }
   ],
   "source": [
    "for dtype in [np.int8, np.int32, np.int64]:\n",
    "   print(dtype)\n",
    "   print(\"min = \", np.iinfo(dtype).min)\n",
    "   print(\"max =\" ,np.iinfo(dtype).max)\n",
    "for dtype in [np.float32, np.float64]:\n",
    "   print(dtype)\n",
    "   print(\"min = \", np.finfo(dtype).min)\n",
    "   print(\"max = \", np.finfo(dtype).max)"
   ]
  },
  {
   "cell_type": "markdown",
   "id": "3b37398d",
   "metadata": {},
   "source": [
    "#### 49. How to print all the values of an array? (★★☆)"
   ]
  },
  {
   "cell_type": "code",
   "execution_count": 114,
   "id": "4b60b9bd",
   "metadata": {},
   "outputs": [
    {
     "name": "stdout",
     "output_type": "stream",
     "text": [
      "[[1. 1. 1. 1. 1. 1. 1. 1. 1. 1. 1. 1. 1. 1. 1. 1. 1. 1. 1. 1. 1. 1. 1. 1. 1. 1. 1. 1. 1. 1. 1. 1. 1. 1. 1. 1. 1.]\n",
      " [1. 1. 1. 1. 1. 1. 1. 1. 1. 1. 1. 1. 1. 1. 1. 1. 1. 1. 1. 1. 1. 1. 1. 1. 1. 1. 1. 1. 1. 1. 1. 1. 1. 1. 1. 1. 1.]\n",
      " [1. 1. 1. 1. 1. 1. 1. 1. 1. 1. 1. 1. 1. 1. 1. 1. 1. 1. 1. 1. 1. 1. 1. 1. 1. 1. 1. 1. 1. 1. 1. 1. 1. 1. 1. 1. 1.]\n",
      " [1. 1. 1. 1. 1. 1. 1. 1. 1. 1. 1. 1. 1. 1. 1. 1. 1. 1. 1. 1. 1. 1. 1. 1. 1. 1. 1. 1. 1. 1. 1. 1. 1. 1. 1. 1. 1.]\n",
      " [1. 1. 1. 1. 1. 1. 1. 1. 1. 1. 1. 1. 1. 1. 1. 1. 1. 1. 1. 1. 1. 1. 1. 1. 1. 1. 1. 1. 1. 1. 1. 1. 1. 1. 1. 1. 1.]\n",
      " [1. 1. 1. 1. 1. 1. 1. 1. 1. 1. 1. 1. 1. 1. 1. 1. 1. 1. 1. 1. 1. 1. 1. 1. 1. 1. 1. 1. 1. 1. 1. 1. 1. 1. 1. 1. 1.]\n",
      " [1. 1. 1. 1. 1. 1. 1. 1. 1. 1. 1. 1. 1. 1. 1. 1. 1. 1. 1. 1. 1. 1. 1. 1. 1. 1. 1. 1. 1. 1. 1. 1. 1. 1. 1. 1. 1.]\n",
      " [1. 1. 1. 1. 1. 1. 1. 1. 1. 1. 1. 1. 1. 1. 1. 1. 1. 1. 1. 1. 1. 1. 1. 1. 1. 1. 1. 1. 1. 1. 1. 1. 1. 1. 1. 1. 1.]\n",
      " [1. 1. 1. 1. 1. 1. 1. 1. 1. 1. 1. 1. 1. 1. 1. 1. 1. 1. 1. 1. 1. 1. 1. 1. 1. 1. 1. 1. 1. 1. 1. 1. 1. 1. 1. 1. 1.]\n",
      " [1. 1. 1. 1. 1. 1. 1. 1. 1. 1. 1. 1. 1. 1. 1. 1. 1. 1. 1. 1. 1. 1. 1. 1. 1. 1. 1. 1. 1. 1. 1. 1. 1. 1. 1. 1. 1.]\n",
      " [1. 1. 1. 1. 1. 1. 1. 1. 1. 1. 1. 1. 1. 1. 1. 1. 1. 1. 1. 1. 1. 1. 1. 1. 1. 1. 1. 1. 1. 1. 1. 1. 1. 1. 1. 1. 1.]\n",
      " [1. 1. 1. 1. 1. 1. 1. 1. 1. 1. 1. 1. 1. 1. 1. 1. 1. 1. 1. 1. 1. 1. 1. 1. 1. 1. 1. 1. 1. 1. 1. 1. 1. 1. 1. 1. 1.]\n",
      " [1. 1. 1. 1. 1. 1. 1. 1. 1. 1. 1. 1. 1. 1. 1. 1. 1. 1. 1. 1. 1. 1. 1. 1. 1. 1. 1. 1. 1. 1. 1. 1. 1. 1. 1. 1. 1.]\n",
      " [1. 1. 1. 1. 1. 1. 1. 1. 1. 1. 1. 1. 1. 1. 1. 1. 1. 1. 1. 1. 1. 1. 1. 1. 1. 1. 1. 1. 1. 1. 1. 1. 1. 1. 1. 1. 1.]\n",
      " [1. 1. 1. 1. 1. 1. 1. 1. 1. 1. 1. 1. 1. 1. 1. 1. 1. 1. 1. 1. 1. 1. 1. 1. 1. 1. 1. 1. 1. 1. 1. 1. 1. 1. 1. 1. 1.]\n",
      " [1. 1. 1. 1. 1. 1. 1. 1. 1. 1. 1. 1. 1. 1. 1. 1. 1. 1. 1. 1. 1. 1. 1. 1. 1. 1. 1. 1. 1. 1. 1. 1. 1. 1. 1. 1. 1.]\n",
      " [1. 1. 1. 1. 1. 1. 1. 1. 1. 1. 1. 1. 1. 1. 1. 1. 1. 1. 1. 1. 1. 1. 1. 1. 1. 1. 1. 1. 1. 1. 1. 1. 1. 1. 1. 1. 1.]\n",
      " [1. 1. 1. 1. 1. 1. 1. 1. 1. 1. 1. 1. 1. 1. 1. 1. 1. 1. 1. 1. 1. 1. 1. 1. 1. 1. 1. 1. 1. 1. 1. 1. 1. 1. 1. 1. 1.]\n",
      " [1. 1. 1. 1. 1. 1. 1. 1. 1. 1. 1. 1. 1. 1. 1. 1. 1. 1. 1. 1. 1. 1. 1. 1. 1. 1. 1. 1. 1. 1. 1. 1. 1. 1. 1. 1. 1.]\n",
      " [1. 1. 1. 1. 1. 1. 1. 1. 1. 1. 1. 1. 1. 1. 1. 1. 1. 1. 1. 1. 1. 1. 1. 1. 1. 1. 1. 1. 1. 1. 1. 1. 1. 1. 1. 1. 1.]\n",
      " [1. 1. 1. 1. 1. 1. 1. 1. 1. 1. 1. 1. 1. 1. 1. 1. 1. 1. 1. 1. 1. 1. 1. 1. 1. 1. 1. 1. 1. 1. 1. 1. 1. 1. 1. 1. 1.]\n",
      " [1. 1. 1. 1. 1. 1. 1. 1. 1. 1. 1. 1. 1. 1. 1. 1. 1. 1. 1. 1. 1. 1. 1. 1. 1. 1. 1. 1. 1. 1. 1. 1. 1. 1. 1. 1. 1.]\n",
      " [1. 1. 1. 1. 1. 1. 1. 1. 1. 1. 1. 1. 1. 1. 1. 1. 1. 1. 1. 1. 1. 1. 1. 1. 1. 1. 1. 1. 1. 1. 1. 1. 1. 1. 1. 1. 1.]\n",
      " [1. 1. 1. 1. 1. 1. 1. 1. 1. 1. 1. 1. 1. 1. 1. 1. 1. 1. 1. 1. 1. 1. 1. 1. 1. 1. 1. 1. 1. 1. 1. 1. 1. 1. 1. 1. 1.]\n",
      " [1. 1. 1. 1. 1. 1. 1. 1. 1. 1. 1. 1. 1. 1. 1. 1. 1. 1. 1. 1. 1. 1. 1. 1. 1. 1. 1. 1. 1. 1. 1. 1. 1. 1. 1. 1. 1.]\n",
      " [1. 1. 1. 1. 1. 1. 1. 1. 1. 1. 1. 1. 1. 1. 1. 1. 1. 1. 1. 1. 1. 1. 1. 1. 1. 1. 1. 1. 1. 1. 1. 1. 1. 1. 1. 1. 1.]\n",
      " [1. 1. 1. 1. 1. 1. 1. 1. 1. 1. 1. 1. 1. 1. 1. 1. 1. 1. 1. 1. 1. 1. 1. 1. 1. 1. 1. 1. 1. 1. 1. 1. 1. 1. 1. 1. 1.]\n",
      " [1. 1. 1. 1. 1. 1. 1. 1. 1. 1. 1. 1. 1. 1. 1. 1. 1. 1. 1. 1. 1. 1. 1. 1. 1. 1. 1. 1. 1. 1. 1. 1. 1. 1. 1. 1. 1.]\n",
      " [1. 1. 1. 1. 1. 1. 1. 1. 1. 1. 1. 1. 1. 1. 1. 1. 1. 1. 1. 1. 1. 1. 1. 1. 1. 1. 1. 1. 1. 1. 1. 1. 1. 1. 1. 1. 1.]\n",
      " [1. 1. 1. 1. 1. 1. 1. 1. 1. 1. 1. 1. 1. 1. 1. 1. 1. 1. 1. 1. 1. 1. 1. 1. 1. 1. 1. 1. 1. 1. 1. 1. 1. 1. 1. 1. 1.]]\n"
     ]
    }
   ],
   "source": [
    "np.set_printoptions(threshold=float(\"inf\"), linewidth = 1000)\n",
    "vector = np.ones((30,37))\n",
    "print(vector)"
   ]
  },
  {
   "cell_type": "markdown",
   "id": "2b928f12",
   "metadata": {},
   "source": [
    "#### 50. How to find the closest value (to a given scalar) in a vector? (★★☆)"
   ]
  },
  {
   "cell_type": "code",
   "execution_count": 118,
   "id": "f9e8ae32",
   "metadata": {},
   "outputs": [
    {
     "name": "stdout",
     "output_type": "stream",
     "text": [
      "[89  3 80 92 67 98 49 62 50 38]\n",
      "77.1741301208398\n",
      "80\n"
     ]
    }
   ],
   "source": [
    "vector = np.random.randint(0, 100, 10)\n",
    "value = np.random.uniform(0,100)\n",
    "index = (np.abs(vector-value)).argmin()\n",
    "print(vector)\n",
    "print(value)\n",
    "print(vector[index])"
   ]
  },
  {
   "cell_type": "markdown",
   "id": "d40fc46e",
   "metadata": {},
   "source": [
    "#### 51. Create a structured array representing a position (x,y) and a color (r,g,b) (★★☆)"
   ]
  },
  {
   "cell_type": "code",
   "execution_count": 122,
   "id": "422605d6",
   "metadata": {},
   "outputs": [
    {
     "name": "stdout",
     "output_type": "stream",
     "text": [
      "[((0., 0.), (0., 0., 0.)) ((0., 0.), (0., 0., 0.)) ((0., 0.), (0., 0., 0.)) ((0., 0.), (0., 0., 0.)) ((0., 0.), (0., 0., 0.)) ((0., 0.), (0., 0., 0.)) ((0., 0.), (0., 0., 0.)) ((0., 0.), (0., 0., 0.)) ((0., 0.), (0., 0., 0.)) ((0., 0.), (0., 0., 0.))]\n"
     ]
    },
    {
     "name": "stderr",
     "output_type": "stream",
     "text": [
      "<ipython-input-122-03833951ef48>:1: FutureWarning: Passing (type, 1) or '1type' as a synonym of type is deprecated; in a future version of numpy, it will be understood as (type, (1,)) / '(1,)type'.\n",
      "  structure = np.zeros(10, [ ('position', [ ('x', float, 1),\n"
     ]
    }
   ],
   "source": [
    "structure = np.zeros(10, [ ('position', [ ('x', float, 1),\n",
    "                                          ('y', float, 1)]),\n",
    "                           ('color',    [ ('r', float, 1),\n",
    "                                          ('g', float, 1),\n",
    "                                          ('b', float, 1)])])\n",
    "print(structure)"
   ]
  },
  {
   "cell_type": "markdown",
   "id": "5f9fa530",
   "metadata": {},
   "source": [
    "#### 52. Consider a random vector with shape (100,2) representing coordinates, find point by point distances (★★☆)"
   ]
  },
  {
   "cell_type": "code",
   "execution_count": 124,
   "id": "3b218a55",
   "metadata": {},
   "outputs": [
    {
     "name": "stdout",
     "output_type": "stream",
     "text": [
      "[[0.         0.79371304 0.69765572 0.13439088 0.66728992 0.7718361  0.75871296 1.03378302 0.6186887  0.85586798 0.55473482 0.4051527  0.58307477 0.56695744 0.09891818 0.79831571 0.74376432 0.63084659 0.57948779 1.05682604 0.75285303 0.23701292 0.77553965 0.48377966 0.25078173 0.95253415 0.72302948 0.69534349 0.3900791  0.30859499 0.21693337 0.78670578 0.55176481 0.93123258 0.64452818 0.63937507 0.80483544 0.46379969 0.44658578 0.18309143 0.42626161 0.26912009 0.97536992 0.85651893 0.5884159  0.66501837 0.08165479 0.79220176 1.00265885 0.56212617 0.701852   0.22351826 0.54028809 0.83525909 0.56742823 0.63064411 1.16268958 0.54152775 0.72655353 0.65296867 0.65080397 0.67187202 0.71791511 0.74842636 1.15216036 0.98111577 0.38108893 1.01614798 0.43771863 0.7775086  0.44441299 0.75506091 0.50714817 0.72250514 0.55200877 0.5868244  0.81370698 0.74640314 0.0718533  0.72090889 0.56345411 1.06142504 1.0959431  0.81333111 1.15001537 0.19527992 0.69484553 0.91328463 0.83291069 0.96939184\n",
      "  0.74400291 0.20628336 0.27754735 0.85493406 0.69105355 0.611178   0.61607354 0.80770503 0.56127862 0.18890337]\n",
      " [0.79371304 0.         1.08904491 0.7947273  1.12577305 0.60118493 0.56271389 0.64897799 1.08703795 0.9055059  0.63308791 0.78647563 0.36512033 0.82323106 0.78352457 0.56383465 0.87031684 0.89840966 0.89067699 0.79162565 0.88742307 0.74360935 0.96800466 0.87969077 0.63953487 0.42013216 0.33266566 0.53373588 0.72865876 0.86847813 0.61723524 1.04794307 0.51000778 0.14670494 0.99657856 0.31157844 0.46593056 0.65464663 0.96798912 0.63574538 0.8465283  0.81492113 0.36128618 0.10599475 0.62944787 0.16752436 0.80982498 0.10875895 0.76592337 1.0622078  0.84530469 0.58247987 0.63042283 0.54892994 0.9510596  0.26932214 0.8743415  0.2728409  0.6605756  0.33463958 0.77898116 0.47487355 1.14771479 0.98201516 0.90617233 0.61656404 0.41262418 0.47966447 0.91247281 1.0708563  0.43623344 1.08139068 0.49570521 0.32834861 0.32940356 0.41299766 0.87031023 0.44937476 0.72197036 0.252009   0.23930437 0.64853058 0.8262765  0.08603228 0.82482368 0.60014712 0.45926471 0.20801233 0.17710393 0.30729607\n",
      "  0.7426019  0.75346422 0.52901345 0.08668573 0.49769417 0.99168683 0.64010198 0.12116715 0.77260845 0.61570177]\n",
      " [0.69765572 1.08904491 0.         0.56488677 0.08711341 0.60675595 0.6312127  0.84975975 0.10710846 0.39544605 0.46008787 0.34316049 0.7248568  0.26662484 0.79611662 0.66322335 0.31185445 0.19989516 0.19836824 0.75476603 0.30167359 0.49147189 0.23605129 0.23808927 0.566024   0.94369801 0.80301195 0.61325301 0.39521531 0.38906376 0.83926562 0.16241506 0.58127957 1.1653586  0.09289314 0.78434157 0.75365269 0.43837367 0.25601212 0.8059998  0.29315335 0.43358554 1.02148703 1.08231005 0.47177082 0.92199868 0.61634099 1.01582448 0.70665578 0.16244824 0.30379496 0.80155027 0.46060569 0.71021657 0.14905724 0.82096704 0.82977619 0.84098924 0.51471943 0.76823812 0.34301047 0.65341725 0.06598101 0.18983332 0.78706203 0.81142618 0.81576455 0.97338708 0.26121786 0.12677847 0.67353267 0.08598905 0.59367583 0.80619673 0.76205183 0.67988174 0.38306068 0.72148925 0.70953933 0.86607588 0.88136249 0.8866707  0.77750267 1.04926206 0.85479037 0.71452248 0.6797455  1.07050889 1.00328101 1.06000508\n",
      "  0.44700465 0.5127321  0.70182605 1.09701999 0.64340002 0.10216178 0.47078259 1.01992773 0.31843635 0.67876029]\n",
      " [0.13439088 0.7947273  0.56488677 0.         0.53850618 0.67520425 0.66702543 0.9466786  0.48960652 0.73021377 0.4482759  0.27471492 0.52941413 0.43725359 0.23163467 0.70800083 0.61626342 0.49824794 0.44618078 0.95367312 0.62446189 0.11443571 0.64333414 0.34954132 0.17357612 0.89236903 0.66784739 0.60633161 0.2672018  0.17640483 0.30157541 0.65247021 0.4683323  0.92258568 0.51019519 0.59215823 0.7291992  0.35390119 0.31719667 0.26523839 0.29226952 0.13475055 0.92691167 0.84278822 0.48282568 0.64841518 0.05776929 0.77481234 0.89864583 0.43470152 0.57472959 0.28341993 0.43423745 0.74873414 0.43309016 0.59387947 1.05821428 0.52654839 0.62017743 0.59997006 0.52774817 0.59234117 0.58780883 0.61509795 1.04343685 0.89430825 0.39425572 0.9522166  0.30416568 0.64312066 0.39512958 0.62088739 0.42983882 0.66809037 0.51253544 0.52195897 0.6889833  0.6717041  0.15084887 0.68026502 0.55607695 0.97668927 0.99173388 0.80006946 1.05021855 0.21484873 0.6179738  0.88595508 0.80485025 0.92985297\n",
      "  0.62843051 0.08290929 0.26700881 0.84513121 0.60777217 0.47706183 0.50928992 0.78832309 0.43599472 0.18734516]\n",
      " [0.66728992 1.12577305 0.08711341 0.53850618 0.         0.67436883 0.69615853 0.92581963 0.04898619 0.48029052 0.50773163 0.35306416 0.76517418 0.31558461 0.76619571 0.73028348 0.39100128 0.26331354 0.24560407 0.83691903 0.38225771 0.48045783 0.32140958 0.25004458 0.56629416 1.00748    0.85394483 0.67245523 0.40963098 0.36300947 0.82637447 0.24938758 0.62479759 1.21031419 0.15442984 0.82742465 0.81600653 0.47112838 0.22131179 0.79173097 0.2959273  0.41443861 1.08197965 1.12643012 0.52402668 0.95824903 0.58568871 1.05855755 0.78775233 0.10613558 0.37807491 0.79323763 0.50604102 0.77804665 0.17549173 0.8606741  0.91419255 0.86914191 0.58242912 0.81384718 0.40836848 0.70784321 0.05497929 0.27471585 0.8724116  0.88570336 0.82641873 1.04070888 0.24653825 0.21288672 0.69970125 0.17151918 0.63093106 0.85686587 0.79657629 0.72311388 0.46556154 0.77996125 0.68760056 0.91251598 0.90912253 0.96268684 0.86078177 1.09152801 0.93770563 0.70774595 0.73522478 1.12141302 1.05127179 1.11715496\n",
      "  0.51992769 0.49731457 0.70582643 1.13973832 0.70050017 0.14109419 0.52690986 1.06397961 0.36780154 0.67205208]\n",
      " [0.7718361  0.60118493 0.60675595 0.67520425 0.67436883 0.         0.03847368 0.2795119  0.65383823 0.31229037 0.23251335 0.46149059 0.29818767 0.37209929 0.83338799 0.05663381 0.31279039 0.41106466 0.43636583 0.28881155 0.32840793 0.56391607 0.41387988 0.4921908  0.52107625 0.33939857 0.26852112 0.09052653 0.43065991 0.61141349 0.74895608 0.50672543 0.22874364 0.62462086 0.52060007 0.31240217 0.15805275 0.32659994 0.62128276 0.73608083 0.50044418 0.59042691 0.42320621 0.55205029 0.19859604 0.46325051 0.7260761  0.50018967 0.23752533 0.65931855 0.30634287 0.69311937 0.24520813 0.1036871  0.51494507 0.36276881 0.395347   0.46143641 0.09209303 0.28243966 0.26603538 0.14628701 0.67268016 0.44387887 0.39485892 0.22983012 0.57111575 0.36672636 0.56215715 0.53989054 0.38397646 0.56472057 0.27857686 0.27283649 0.36392054 0.25334348 0.28393386 0.15272171 0.72589273 0.3492796  0.49250382 0.3134351  0.32909753 0.53268063 0.37834746 0.63092988 0.14892641 0.50638751 0.45877329 0.47091659\n",
      "  0.16741824 0.59375755 0.55258069 0.57326373 0.11796709 0.53564509 0.17725275 0.4960462  0.32659766 0.61153497]\n",
      " [0.75871296 0.56271389 0.6312127  0.66702543 0.69615853 0.03847368 0.         0.28048926 0.67351504 0.34932989 0.23323946 0.46570173 0.26455157 0.38861329 0.81674753 0.04163781 0.34385154 0.43343634 0.45498341 0.31103501 0.35989976 0.55758929 0.44546549 0.50419401 0.50817945 0.31251823 0.23005189 0.06482897 0.43075823 0.61318052 0.72611978 0.53730318 0.20930093 0.58740226 0.5433391  0.27539307 0.12525459 0.32455375 0.63172866 0.71472319 0.50813187 0.58875433 0.39314793 0.51420449 0.20112058 0.42537469 0.71635195 0.46186619 0.26242548 0.67595518 0.33425731 0.67026364 0.24464468 0.0881572  0.53294717 0.32571352 0.41697    0.42689501 0.11895305 0.24520395 0.28850439 0.11294225 0.69694274 0.47353163 0.42083218 0.22873357 0.54242106 0.34527096 0.57179844 0.56943651 0.35817667 0.59274379 0.25790905 0.23436612 0.33031569 0.22186012 0.31966708 0.11453509 0.7101655  0.31080635 0.45704455 0.31223869 0.35164992 0.49442806 0.39519435 0.61117268 0.11213774 0.47041005 0.42123994 0.43837567\n",
      "  0.19947336 0.58665343 0.53073045 0.53526054 0.08475645 0.55627462 0.18391731 0.45788073 0.34076663 0.59345442]\n",
      " [1.03378302 0.64897799 0.84975975 0.9466786  0.92581963 0.2795119  0.28048926 0.         0.91201926 0.48249134 0.51129524 0.74094838 0.48653814 0.64163516 1.0857708  0.23905832 0.53846353 0.66651905 0.70066167 0.16976247 0.55007964 0.83794963 0.62800537 0.76670427 0.78460056 0.23939924 0.37630927 0.34040924 0.70955218 0.89084553 0.97947565 0.72201918 0.48212752 0.60654483 0.77188786 0.46169431 0.24236198 0.60429087 0.89687059 0.97291895 0.77865985 0.86858587 0.3269471  0.56228635 0.47778816 0.57025489 0.9949908  0.54086525 0.17857528 0.92489601 0.54774476 0.92433467 0.52350181 0.19863122 0.77923838 0.50285517 0.22821448 0.62455168 0.35974375 0.43384222 0.52703077 0.36338379 0.91506256 0.66809439 0.26906436 0.05266725 0.77509993 0.20624849 0.83875013 0.7601094  0.61040949 0.79254836 0.52707428 0.3796061  0.54497441 0.46168342 0.47689022 0.29793211 0.98148576 0.43877359 0.64219444 0.03691101 0.19244633 0.56421969 0.17593608 0.87491997 0.34339283 0.47585499 0.47305181 0.39338671\n",
      "  0.40711398 0.86680685 0.79017851 0.58718207 0.34280561 0.79302766 0.45673179 0.5278507  0.6002338  0.86118423]\n",
      " [0.6186887  1.08703795 0.10710846 0.48960652 0.04898619 0.65383823 0.67351504 0.91201926 0.         0.48119969 0.47593407 0.30881056 0.72862709 0.2873205  0.71760453 0.70906151 0.38393518 0.24556349 0.21878664 0.83117805 0.37712129 0.43198626 0.32525798 0.20804803 0.51903707 0.98299431 0.82210555 0.64605327 0.36607068 0.31403075 0.77754728 0.26446372 0.59023309 1.17488121 0.14343773 0.79188591 0.79106294 0.43306802 0.17243938 0.74285256 0.25056662 0.36553546 1.05513391 1.09073889 0.49451514 0.91959653 0.53706191 1.02236376 0.78055187 0.05980453 0.36604662 0.7447174  0.47316862 0.75722922 0.1428532  0.82360247 0.91243438 0.82782077 0.56252351 0.7794986  0.38846496 0.67842335 0.1002502  0.27841647 0.87297476 0.87018206 0.78058069 1.0187583  0.19851445 0.23177725 0.65816293 0.1921776  0.59364201 0.8248812  0.75763611 0.68798286 0.46223253 0.75263865 0.63862387 0.87829287 0.86760084 0.94875005 0.85689509 1.0550798  0.9329926  0.65941603 0.70629023 1.08897994 1.01750279 1.0881812\n",
      "  0.50492268 0.44851304 0.65892285 1.10341308 0.67267095 0.11905318 0.499583   1.02835667 0.33863878 0.62375876]\n",
      " [0.85586798 0.9055059  0.39544605 0.73021377 0.48029052 0.31229037 0.34932989 0.48249134 0.48119969 0.         0.34498531 0.457588   0.56641825 0.29747467 0.94036056 0.36214157 0.11698456 0.26411515 0.31743869 0.3638911  0.11415382 0.61924701 0.15948341 0.41685557 0.63027022 0.6341274  0.57532068 0.37185742 0.46580602 0.59733778 0.90882528 0.24687257 0.44041879 0.93672857 0.33952891 0.60125866 0.46839856 0.40998291 0.5343719  0.88549277 0.45930684 0.60646788 0.72419873 0.86300919 0.32429348 0.75597255 0.78784359 0.8084378  0.32027427 0.51327726 0.15649965 0.85667273 0.35734296 0.39789747 0.38054148 0.65003652 0.43436519 0.72505346 0.24527063 0.57427708 0.20685157 0.43156177 0.45624676 0.20569442 0.39225526 0.45450291 0.78581903 0.64425038 0.49195473 0.28663583 0.59689798 0.32382392 0.48225134 0.57951117 0.62672272 0.51504031 0.04421531 0.46327141 0.83342132 0.65443093 0.76196754 0.51851686 0.38356613 0.84154022 0.46138025 0.77641504 0.44627986 0.81834853 0.77049907 0.77732625\n",
      "  0.16604008 0.65056379 0.72034025 0.88360584 0.40785176 0.3721166  0.30023483 0.80562016 0.29466177 0.74666132]\n",
      " [0.55473482 0.63308791 0.46008787 0.4482759  0.50773163 0.23251335 0.23323946 0.51129524 0.47593407 0.34498531 0.         0.23303031 0.2680754  0.19383431 0.62633764 0.27468801 0.2635171  0.26551117 0.26358579 0.50540207 0.27946056 0.33498687 0.34859619 0.28435944 0.3082834  0.51957655 0.34633893 0.18480742 0.19826606 0.38005111 0.57102115 0.41910601 0.1231219  0.7053031  0.36720093 0.32480897 0.33005198 0.09502233 0.40600332 0.55085615 0.27889827 0.35794206 0.58415442 0.62223056 0.03465241 0.46790317 0.50154707 0.55601146 0.45042783 0.46637641 0.2283139  0.51720555 0.0144993  0.32092593 0.33345098 0.36378626 0.61016022 0.40482209 0.17229502 0.30815278 0.15771218 0.20465292 0.52178719 0.35425572 0.59754085 0.4605495  0.44195151 0.56482089 0.34518078 0.43914151 0.25683539 0.44832067 0.14862995 0.34920173 0.31402791 0.22075451 0.3010353  0.2834799  0.51739633 0.4061643  0.44456618 0.54431631 0.54359091 0.58955947 0.60235782 0.44147999 0.23329821 0.61368749 0.54410416 0.61343586\n",
      "  0.19808249 0.36572642 0.37807172 0.63714269 0.2037003  0.36791787 0.06139626 0.55986396 0.14168198 0.41518904]\n",
      " [0.4051527  0.78647563 0.34316049 0.27471492 0.35306416 0.46149059 0.46570173 0.74094838 0.30881056 0.457588   0.23303031 0.         0.43945276 0.16255266 0.49637399 0.50689356 0.34238361 0.22735062 0.17945925 0.71530491 0.35002849 0.17020641 0.37090725 0.10543628 0.22454888 0.74705765 0.55269958 0.41722325 0.05807348 0.15262079 0.50628126 0.391509   0.31642111 0.88463319 0.26555074 0.50576148 0.56065257 0.15195877 0.18570993 0.4753672  0.0601174  0.1493165  0.80481872 0.80016343 0.26460148 0.62013673 0.33246886 0.7305051  0.65982083 0.27675877 0.30130361 0.46407803 0.22299005 0.55366687 0.19442905 0.53059879 0.81553649 0.5217993  0.38680954 0.4990788  0.26077419 0.42870127 0.38764765 0.34647242 0.7934114  0.69117189 0.47455962 0.79554574 0.12694231 0.38972505 0.35236502 0.37628979 0.30507061 0.55466691 0.45862053 0.40654282 0.41754491 0.51060141 0.39547646 0.5962775  0.56108847 0.77487094 0.7506297  0.76203641 0.81636667 0.37666054 0.45763701 0.81155642 0.73529062 0.82663834\n",
      "  0.37374067 0.19937997 0.35867209 0.81045723 0.43283963 0.24200003 0.28423786 0.73857833 0.16707895 0.34137644]\n",
      " [0.58307477 0.36512033 0.7248568  0.52941413 0.76517418 0.29818767 0.26455157 0.48653814 0.72862709 0.56641825 0.2680754  0.43945276 0.         0.45854376 0.61746264 0.28828448 0.51423977 0.53329128 0.52661964 0.56622515 0.53121902 0.44400166 0.60854551 0.52393228 0.35591019 0.36952248 0.14009094 0.21004775 0.38404888 0.54848482 0.49569272 0.6850334  0.14495389 0.44688762 0.63217081 0.06707072 0.24419431 0.29620973 0.62504061 0.49247579 0.49803239 0.50325623 0.39751384 0.36250826 0.26647313 0.20010495 0.56488091 0.2937642  0.52223705 0.70890909 0.48565946 0.44149137 0.26532225 0.30390233 0.58975272 0.09612262 0.66899504 0.16383319 0.32561559 0.0706831  0.41735795 0.15197173 0.78453853 0.61942648 0.68013929 0.43624641 0.28911797 0.43394658 0.56620678 0.70666567 0.1386643  0.71638793 0.1355505  0.13979207 0.06578011 0.05155942 0.52687059 0.18993363 0.52096207 0.15878591 0.19745761 0.50680592 0.60654018 0.32646888 0.6374543  0.40303447 0.15614837 0.37417119 0.29632932 0.40316456\n",
      "  0.40039892 0.46415831 0.31535262 0.37478633 0.18033775 0.62880268 0.28022497 0.30033385 0.40761891 0.39701756]\n",
      " [0.56695744 0.82323106 0.26662484 0.43725359 0.31558461 0.37209929 0.38861329 0.64163516 0.2873205  0.29747467 0.19383431 0.16255266 0.45854376 0.         0.65650781 0.4257869  0.18102831 0.08227057 0.0700995  0.58750486 0.18776841 0.33051289 0.21333387 0.13011243 0.36433433 0.69608486 0.53897531 0.35875561 0.18410899 0.30036903 0.65105333 0.25301311 0.31466955 0.89906026 0.17377245 0.51771814 0.50408855 0.18152538 0.25968101 0.62283722 0.16310908 0.3098557  0.76785059 0.81584083 0.20844999 0.65658534 0.49501347 0.74921323 0.53309498 0.28745677 0.14116023 0.60409199 0.19398327 0.47423626 0.14498897 0.55466526 0.68176926 0.58110236 0.28334847 0.50188279 0.1185736  0.39227578 0.32795294 0.19701528 0.6533277  0.59616811 0.57916883 0.73358564 0.2065627  0.26296763 0.41770075 0.26369989 0.32902603 0.54199174 0.49796607 0.41325833 0.25937052 0.46539284 0.5531418  0.59999569 0.62152415 0.67764254 0.61948293 0.78263949 0.690413   0.5181062  0.41976104 0.8066219  0.73783314 0.80175883\n",
      "  0.24243133 0.36072002 0.48189619 0.83041718 0.38554072 0.17482036 0.21226981 0.75343111 0.05238643 0.48454787]\n",
      " [0.09891818 0.78352457 0.79611662 0.23163467 0.76619571 0.83338799 0.81674753 1.0857708  0.71760453 0.94036056 0.62633764 0.49637399 0.61746264 0.65650781 0.         0.85486822 0.83042576 0.72338963 0.67314571 1.12124758 0.84035797 0.32631432 0.8672659  0.57941983 0.31805813 0.98499914 0.75518569 0.75228146 0.4757792  0.40709186 0.1707303  0.88203818 0.60754181 0.92600945 0.74144217 0.6676847  0.85049216 0.53942165 0.54549705 0.14783119 0.52142783 0.36568816 0.99892111 0.85612126 0.65887702 0.67060567 0.18056653 0.79558567 1.06807122 0.66097584 0.78832065 0.20138468 0.61184584 0.88858107 0.664348   0.65172804 1.22767546 0.5498655  0.795908   0.68505578 0.73394378 0.72239999 0.81682475 0.84183014 1.22070218 1.03327929 0.37757977 1.0507682  0.53573569 0.87397911 0.48107684 0.85238691 0.56001935 0.75411955 0.57744316 0.62891611 0.89748293 0.79221752 0.10894343 0.74263038 0.56542102 1.11139505 1.1610184  0.81330609 1.21126419 0.21442937 0.74306952 0.92204596 0.84340683 0.98642801\n",
      "  0.82036379 0.29718983 0.30219429 0.8516725  0.74393399 0.70862461 0.68700607 0.81227107 0.64691355 0.22459437]\n",
      " [0.79831571 0.56383465 0.66322335 0.70800083 0.73028348 0.05663381 0.04163781 0.23905832 0.70906151 0.36214157 0.27468801 0.50689356 0.28828448 0.4257869  0.85486822 0.         0.36881609 0.46704748 0.49107272 0.2794595  0.38425063 0.59890404 0.46959521 0.54341757 0.54804587 0.28293172 0.23319921 0.10298662 0.47234996 0.65469563 0.76057044 0.5627785  0.24745536 0.57800791 0.5767197  0.29033432 0.10644366 0.3661904  0.67154425 0.75023735 0.54866134 0.63039063 0.36763631 0.5081762  0.24229735 0.43501705 0.75697444 0.4599989  0.23398296 0.71323699 0.36296207 0.7047694  0.28620489 0.04846539 0.56943506 0.33996486 0.38420201 0.4475629  0.14850523 0.25963906 0.32192477 0.14081999 0.72912775 0.50022    0.39211628 0.18716862 0.57174199 0.31049005 0.61183511 0.59622398 0.3910963  0.62129493 0.29506735 0.23753966 0.35347382 0.24964149 0.33640211 0.11631253 0.74877632 0.31387357 0.47541897 0.27062027 0.32004128 0.49163112 0.35910935 0.6478222  0.13218741 0.4568299  0.41376648 0.41687912\n",
      "  0.22337337 0.62784555 0.56618057 0.53022207 0.11451191 0.59116407 0.22422617 0.45437014 0.37897623 0.63105597]\n",
      " [0.74376432 0.87031684 0.31185445 0.61626342 0.39100128 0.31279039 0.34385154 0.53846353 0.38393518 0.11698456 0.2635171  0.34238361 0.51423977 0.18102831 0.83042576 0.36881609 0.         0.15103119 0.20237087 0.44725737 0.01710631 0.50675993 0.10177873 0.30029536 0.52556088 0.65154079 0.5508274  0.34544788 0.35466165 0.48043459 0.80866695 0.1939629  0.37578333 0.91925643 0.24054142 0.55936166 0.46906912 0.31134659 0.42015297 0.78344496 0.34235267 0.49068971 0.73595537 0.84081705 0.25200235 0.71189805 0.67400442 0.78068869 0.3970708  0.40901712 0.04214198 0.7581446  0.27340092 0.41272332 0.2700672  0.60509444 0.53025146 0.66383688 0.2254381  0.53571749 0.10773033 0.39898949 0.37678522 0.13247823 0.49406053 0.50166864 0.70303075 0.67344564 0.37585391 0.22806734 0.52032499 0.25623147 0.41043332 0.55469925 0.56878989 0.46305404 0.08317855 0.44951691 0.72466351 0.62526517 0.70270277 0.57536305 0.47329206 0.81445529 0.54910139 0.67537571 0.41978961 0.80941808 0.75244732 0.78221416\n",
      "  0.14544301 0.53774509 0.62573321 0.8593647  0.38051964 0.2685769  0.23436946 0.78055654 0.18368904 0.64410245]\n",
      " [0.63084659 0.89840966 0.19989516 0.49824794 0.26331354 0.41106466 0.43343634 0.66651905 0.24556349 0.26411515 0.26551117 0.22735062 0.53329128 0.08227057 0.72338963 0.46704748 0.15103119 0.         0.05525355 0.59192351 0.15019465 0.39750755 0.14531234 0.15801033 0.4412879  0.74546746 0.60430917 0.41341964 0.25948727 0.34523403 0.72766507 0.17142291 0.38843643 0.96874881 0.10992043 0.59010106 0.55467743 0.26350458 0.27025735 0.69841121 0.2088873  0.36581891 0.82206127 0.88633039 0.27376283 0.73262955 0.55552801 0.82088248 0.53970311 0.26214975 0.12384445 0.68202799 0.26807751 0.51474749 0.11957058 0.62918614 0.67895521 0.66101948 0.31911643 0.57233812 0.14513626 0.45391222 0.26476043 0.11950932 0.64440587 0.62466516 0.66135467 0.77752074 0.22998103 0.18081602 0.49905836 0.18385233 0.4069604  0.60758646 0.57577283 0.48624693 0.23412998 0.52162983 0.62277359 0.66931393 0.70138867 0.70322631 0.62020298 0.85453454 0.69464794 0.59541083 0.48001308 0.87148918 0.80543346 0.86012006\n",
      "  0.2594051  0.42620127 0.56254476 0.90187054 0.44352283 0.12652326 0.27123244 0.824136   0.12712419 0.56122957]\n",
      " [0.57948779 0.89067699 0.19836824 0.44618078 0.24560407 0.43636583 0.45498341 0.70066167 0.21878664 0.31743869 0.26358579 0.17945925 0.52661964 0.0700995  0.67314571 0.49107272 0.20237087 0.05525355 0.         0.63539669 0.20328516 0.34842751 0.19922841 0.10281094 0.39959504 0.76423431 0.60905181 0.42766963 0.21837467 0.29037887 0.68445081 0.2121905  0.38348375 0.9685115  0.10623318 0.58666243 0.57233434 0.24190572 0.21784971 0.65417122 0.1550454  0.31280965 0.83707189 0.88513293 0.27850718 0.72364569 0.50315231 0.8182076  0.58215078 0.22430782 0.17045455 0.6405481  0.26314383 0.53938633 0.07881103 0.62270867 0.72533134 0.64439822 0.3458632  0.57136281 0.1736486  0.46224808 0.25844491 0.16894708 0.69277682 0.65676567 0.63120223 0.80025316 0.17512388 0.21311969 0.47846493 0.20597726 0.39537365 0.6120574  0.56392037 0.48213967 0.2854348  0.53475804 0.57419848 0.66963745 0.68482613 0.73705771 0.6651759  0.85154528 0.73839842 0.55338399 0.48962791 0.87668784 0.80768492 0.87158452\n",
      "  0.29552108 0.37620381 0.52626068 0.89943814 0.45508993 0.10472711 0.28157776 0.82269502 0.12246705 0.51859298]\n",
      " [1.05682604 0.79162565 0.75476603 0.95367312 0.83691903 0.28881155 0.31103501 0.16976247 0.83117805 0.3638911  0.50540207 0.71530491 0.56622515 0.58750486 1.12124758 0.2794595  0.44725737 0.59192351 0.63539669 0.         0.4548385  0.84015599 0.5212904  0.71751776 0.80669034 0.40114634 0.48617741 0.37534221 0.69621847 0.86789144 1.03684954 0.61075719 0.5174447  0.76490393 0.68779879 0.55961952 0.34009387 0.5999397  0.84701672 1.02465365 0.74163205 0.8564532  0.49224515 0.71329229 0.47088805 0.69047572 1.00674012 0.68291959 0.05552263 0.85390537 0.46809946 0.98098822 0.51948935 0.26457834 0.71071081 0.60683033 0.10655064 0.72151651 0.33380521 0.52925284 0.46899041 0.42021799 0.81756721 0.56582916 0.11654717 0.18048432 0.85119811 0.37521929 0.79350631 0.6504719  0.66914374 0.68707147 0.56709732 0.49016729 0.63057502 0.52907714 0.37171103 0.38162157 1.01329091 0.56013397 0.74607158 0.19511962 0.04063796 0.70958604 0.10303928 0.9197404  0.41039884 0.6339884  0.6203437  0.55778583\n",
      "  0.34581502 0.87105981 0.84092092 0.73783494 0.39338863 0.71493517 0.4444485  0.67209803 0.55632084 0.90014595]\n",
      " [0.75285303 0.88742307 0.30167359 0.62446189 0.38225771 0.32840793 0.35989976 0.55007964 0.37712129 0.11415382 0.27946056 0.35002849 0.53121902 0.18776841 0.84035797 0.38425063 0.01710631 0.15019465 0.20328516 0.4548385  0.         0.51586656 0.08556964 0.30312977 0.5373481  0.66677805 0.56779195 0.36230869 0.36465086 0.48544775 0.82123565 0.17873792 0.39248927 0.93617011 0.23373776 0.57645978 0.48505931 0.32492781 0.42037613 0.79562961 0.34722983 0.49758153 0.75161414 0.85781086 0.26858806 0.7289606  0.68222925 0.79775213 0.40552691 0.40440632 0.054252   0.77106307 0.28909172 0.4277481  0.26784881 0.62216265 0.53563289 0.68047154 0.24172876 0.55282363 0.12280695 0.41602157 0.36608148 0.11879879 0.4979826  0.51416377 0.71816788 0.68785282 0.37791215 0.21369424 0.53616988 0.24315237 0.426736   0.5716714  0.58559112 0.48005833 0.08577024 0.46611225 0.73507244 0.64232269 0.71939908 0.58694937 0.47980972 0.83151505 0.55614904 0.68785782 0.43672466 0.8260663  0.76933903 0.79827276\n",
      "  0.16099034 0.54664919 0.63943473 0.8763933  0.39744104 0.26339045 0.25126029 0.79758638 0.19451694 0.65627908]\n",
      " [0.23701292 0.74360935 0.49147189 0.11443571 0.48045783 0.56391607 0.55758929 0.83794963 0.43198626 0.61924701 0.33498687 0.17020641 0.44400166 0.33051289 0.32631432 0.59890404 0.50675993 0.39750755 0.34842751 0.84015599 0.51586656 0.         0.54099191 0.26018716 0.10540171 0.79719638 0.57830576 0.49841839 0.15400449 0.13382502 0.34793117 0.55940287 0.36499393 0.86188236 0.42509682 0.50959294 0.62680767 0.24021954 0.26701674 0.31453288 0.20180571 0.0756554  0.83851412 0.77946192 0.36961637 0.58705656 0.17049193 0.70993687 0.78501629 0.38404146 0.4648697  0.31278855 0.32112162 0.64100676 0.34918274 0.51883079 0.94439983 0.4708307  0.50644615 0.51319801 0.41514342 0.48926548 0.52451595 0.51642914 0.92912796 0.78585829 0.3708447  0.8545036  0.23433199 0.5546168  0.31898579 0.53704732 0.33121312 0.57904592 0.43817324 0.42902829 0.5773972  0.57035049 0.22579125 0.60035447 0.50520441 0.86881147 0.87800114 0.73782859 0.93732002 0.22760578 0.51603422 0.81210945 0.7316409  0.84716535\n",
      "  0.51407076 0.03174514 0.24063061 0.78472499 0.5025724  0.39585197 0.39571375 0.72171468 0.32458541 0.19210581]\n",
      " [0.77553965 0.96800466 0.23605129 0.64333414 0.32140958 0.41387988 0.44546549 0.62800537 0.32525798 0.15948341 0.34859619 0.37090725 0.60854551 0.21333387 0.8672659  0.46959521 0.10177873 0.14531234 0.19922841 0.5212904  0.08556964 0.54099191 0.         0.30144114 0.57725143 0.75188851 0.65141734 0.44662708 0.39743028 0.48941744 0.86383678 0.09473605 0.4669004  1.02006398 0.18770315 0.65651424 0.57062891 0.37849747 0.4015442  0.8359985  0.35402318 0.51112991 0.83707237 0.94110526 0.34281281 0.80763834 0.70070124 0.88018071 0.47514651 0.36235986 0.12293625 0.8160734  0.35633517 0.51268821 0.24279241 0.70111082 0.59384545 0.75315417 0.32719641 0.633844   0.19192262 0.49911466 0.29690993 0.04693309 0.55109779 0.59435244 0.77819865 0.77179927 0.3694354  0.13210517 0.60232314 0.16613853 0.4972246  0.65523631 0.6603637  0.55792316 0.1518456  0.5512013  0.76533301 0.72491723 0.7926745  0.66470941 0.54250012 0.91399647 0.62011332 0.73064216 0.52061274 0.91101784 0.85338639 0.88384006\n",
      "  0.24648551 0.57025507 0.69012224 0.95930979 0.48143319 0.22366637 0.32862925 0.88050857 0.23877192 0.69743262]\n",
      " [0.48377966 0.87969077 0.23808927 0.34954132 0.25004458 0.4921908  0.50419401 0.76670427 0.20804803 0.41685557 0.28435944 0.10543628 0.52393228 0.13011243 0.57941983 0.54341757 0.30029536 0.15801033 0.10281094 0.71751776 0.30312977 0.26018716 0.30144114 0.         0.32814043 0.8030754  0.62535192 0.46565763 0.16012484 0.18802885 0.6052922  0.3029329  0.38970892 0.97081326 0.16499445 0.58845449 0.61217896 0.22775098 0.13054155 0.57309741 0.05848165 0.21489527 0.8684465  0.88643959 0.30917308 0.71238901 0.40556787 0.81751425 0.66299994 0.18531487 0.26439879 0.56541483 0.27865549 0.59170866 0.09031121 0.61800925 0.81181372 0.61980805 0.40698552 0.57808457 0.24852768 0.48888074 0.28251141 0.26831611 0.78275794 0.71981195 0.57977933 0.84568116 0.07676682 0.29511062 0.45017896 0.27692601 0.38842694 0.6278031  0.5503445  0.48566673 0.38230617 0.56762122 0.48446558 0.67669372 0.65963495 0.80225121 0.74959521 0.84987701 0.82038088 0.47809346 0.51761083 0.88988502 0.81624601 0.89623393\n",
      "  0.3720929  0.28515467 0.463861   0.89830035 0.4875583  0.13787485 0.32110045 0.82424416 0.16647093 0.44246284]\n",
      " [0.25078173 0.63953487 0.566024   0.17357612 0.56629416 0.52107625 0.50817945 0.78460056 0.51903707 0.63027022 0.3082834  0.22454888 0.35591019 0.36433433 0.31805813 0.54804587 0.52556088 0.4412879  0.39959504 0.80669034 0.5373481  0.10540171 0.57725143 0.32814043 0.         0.71943622 0.49428957 0.44515975 0.18188423 0.2373599  0.28672584 0.61091952 0.30262991 0.76037515 0.49009133 0.41911599 0.56027358 0.222877   0.36241768 0.25895488 0.27343047 0.18008809 0.75337212 0.67873493 0.34096792 0.48524788 0.21325944 0.60967055 0.75280555 0.47587059 0.48363235 0.24101    0.29379016 0.58596979 0.41823416 0.42308087 0.91277326 0.3670971  0.47842712 0.42642569 0.4236034  0.42485528 0.60617545 0.56016167 0.9038158  0.73196068 0.26811623 0.78001914 0.32104559 0.61230719 0.22307196 0.60055392 0.26039931 0.49451846 0.34173167 0.34908322 0.58658066 0.50222319 0.2091151  0.50800173 0.40065736 0.81306949 0.84602567 0.63664684 0.89931719 0.15412696 0.44926302 0.7162355  0.63529749 0.75714705\n",
      "  0.50301197 0.11447881 0.14061971 0.68301363 0.44251411 0.46586835 0.36904218 0.62217161 0.34324078 0.12021405]\n",
      " [0.95253415 0.42013216 0.94369801 0.89236903 1.00748    0.33939857 0.31251823 0.23939924 0.98299431 0.6341274  0.51957655 0.74705765 0.36952248 0.69608486 0.98499914 0.28293172 0.65154079 0.74546746 0.76423431 0.40114634 0.66677805 0.79719638 0.75188851 0.8030754  0.71943622 0.         0.23002743 0.33813424 0.70145393 0.88207113 0.85244225 0.84545746 0.43703336 0.36718248 0.8553825  0.31773639 0.19200026 0.59574571 0.92537174 0.854064   0.79737041 0.84601386 0.09370636 0.32676781 0.49399341 0.37487005 0.93145809 0.3153558  0.39186542 0.98140759 0.64557558 0.80080474 0.52698906 0.23934138 0.84107296 0.34142846 0.46744285 0.46112516 0.43028623 0.30027905 0.60082384 0.31839052 1.00938568 0.78313946 0.50761112 0.22124609 0.63192589 0.06878185 0.86446764 0.87913718 0.50814472 0.90406761 0.46603512 0.23093591 0.40858319 0.37041944 0.61379202 0.23662932 0.8902945  0.25570975 0.4667048  0.23198147 0.42936715 0.33413594 0.41327185 0.77086417 0.28950176 0.2366736  0.2432297  0.15709145\n",
      "  0.50614997 0.82117996 0.68303062 0.35168423 0.3158802  0.86697045 0.48466194 0.30002222 0.64595471 0.76635236]\n",
      " [0.72302948 0.33266566 0.80301195 0.66784739 0.85394483 0.26852112 0.23005189 0.37630927 0.82210555 0.57532068 0.34633893 0.55269958 0.14009094 0.53897531 0.75518569 0.23319921 0.5508274  0.60430917 0.60905181 0.48617741 0.56779195 0.57830576 0.65141734 0.62535192 0.49428957 0.23002743 0.         0.20623187 0.50108486 0.67477676 0.62619282 0.73737712 0.23682303 0.368726   0.71054538 0.09034741 0.14613077 0.40199111 0.73733666 0.62602742 0.60832657 0.63329701 0.26020985 0.2901669  0.33129604 0.20513567 0.70452045 0.23311846 0.4512555  0.80997002 0.53110777 0.57347195 0.34902794 0.22601522 0.6797706  0.12662985 0.58147556 0.24907919 0.33222935 0.07025298 0.47031895 0.15275448 0.86613735 0.67145782 0.60271515 0.33069555 0.40958926 0.29567473 0.67693296 0.7646394  0.27868825 0.7810495  0.25240003 0.00434701 0.1807701  0.15026003 0.54199262 0.11727757 0.66032752 0.08095763 0.2659926  0.39042469 0.52453474 0.26630565 0.54151526 0.54093818 0.13120226 0.26766715 0.20251494 0.27424595\n",
      "  0.41549918 0.60015313 0.45309918 0.30944943 0.17054445 0.71370254 0.33365728 0.23088508 0.48659085 0.53639974]\n",
      " [0.69534349 0.53373588 0.61325301 0.60633161 0.67245523 0.09052653 0.06482897 0.34040924 0.64605327 0.37185742 0.18480742 0.41722325 0.21004775 0.35875561 0.75228146 0.10298662 0.34544788 0.41341964 0.42766963 0.37534221 0.36230869 0.49841839 0.44662708 0.46565763 0.44515975 0.33813424 0.20623187 0.         0.37800044 0.5610731  0.66155741 0.53458117 0.14473972 0.57394429 0.5226543  0.23208536 0.14656443 0.2707546  0.59002895 0.6499472  0.46360112 0.53335687 0.40952559 0.49634885 0.15661651 0.38614914 0.65465928 0.43846009 0.32584084 0.64328677 0.3281973  0.60569662 0.19423459 0.14259563 0.50364978 0.28203327 0.48147334 0.37385738 0.12687593 0.20370539 0.27224022 0.060971   0.67814015 0.46910918 0.48394461 0.28798263 0.48067185 0.38047584 0.52937614 0.56369854 0.2944614  0.58303701 0.19310172 0.21023963 0.27544046 0.16351727 0.33681178 0.10827465 0.64594939 0.28343648 0.40639741 0.37050893 0.41591453 0.47194689 0.45999787 0.54635212 0.07517348 0.46507546 0.40705677 0.44684566\n",
      "  0.20958616 0.5268425  0.46598205 0.51564567 0.03607673 0.53143542 0.14668734 0.43699529 0.3080758  0.52878823]\n",
      " [0.3900791  0.72865876 0.39521531 0.2672018  0.40963098 0.43065991 0.43075823 0.70955218 0.36607068 0.46580602 0.19826606 0.05807348 0.38404888 0.18410899 0.4757792  0.47234996 0.35466165 0.25948727 0.21837467 0.69621847 0.36465086 0.15400449 0.39743028 0.16012484 0.18188423 0.70145393 0.50108486 0.37800044 0.         0.18307614 0.46819289 0.42911213 0.26658002 0.82807429 0.31331172 0.45071166 0.51817434 0.1073217  0.24142544 0.43923927 0.11816439 0.16068104 0.75585519 0.74364026 0.23208736 0.56251618 0.32413672 0.67386404 0.64074892 0.33483002 0.31257415 0.42282854 0.18619327 0.51778881 0.24620675 0.47410417 0.79882577 0.4637313  0.36331479 0.4453135  0.26114657 0.38349702 0.4424393  0.37858761 0.78058174 0.65870273 0.42059941 0.75231792 0.18403467 0.43146324 0.29429425 0.42180207 0.25089317 0.50285548 0.40123119 0.35321626 0.42365853 0.46600242 0.37057593 0.54171696 0.50304536 0.74245071 0.73296947 0.70517917 0.79556393 0.336002   0.41219119 0.7572593  0.68029171 0.77532606\n",
      "  0.36265983 0.18563236 0.30909872 0.75356715 0.39022543 0.29320953 0.25522558 0.6822596  0.17137017 0.3017423 ]\n",
      " [0.30859499 0.86847813 0.38906376 0.17640483 0.36300947 0.61141349 0.61318052 0.89084553 0.31403075 0.59733778 0.38005111 0.15262079 0.54848482 0.30036903 0.40709186 0.65469563 0.48043459 0.34523403 0.29037887 0.86789144 0.48544775 0.13382502 0.48941744 0.18802885 0.2373599  0.88207113 0.67477676 0.5610731  0.18307614 0.         0.46623925 0.48627134 0.44526978 0.98099781 0.33951797 0.61546183 0.70071177 0.29037783 0.14224331 0.43088733 0.13821929 0.05832245 0.9327989  0.89747159 0.41311998 0.70797727 0.22738026 0.82749658 0.81241601 0.26075206 0.44143143 0.43767568 0.36857183 0.70052259 0.26303885 0.63135205 0.96783631 0.59600327 0.53899253 0.61442966 0.40930759 0.56513974 0.4116059  0.45592811 0.94481053 0.8404444  0.50448979 0.93432694 0.13010717 0.47324395 0.43577449 0.44834312 0.42238427 0.67614034 0.55286144 0.5247595  0.55973939 0.64773681 0.32459397 0.70719758 0.63201288 0.92421817 0.90308714 0.856835   0.96898691 0.35585805 0.59359888 0.92203243 0.84283632 0.94819353\n",
      "  0.52547512 0.14069712 0.37445208 0.90450241 0.57289385 0.30457085 0.43451738 0.83800239 0.31617138 0.32132866]\n",
      " [0.21693337 0.61723524 0.83926562 0.30157541 0.82637447 0.74895608 0.72611978 0.97947565 0.77754728 0.90882528 0.57102115 0.50628126 0.49569272 0.65105333 0.1707303  0.76057044 0.80866695 0.72766507 0.68445081 1.03684954 0.82123565 0.34793117 0.86383678 0.6052922  0.28672584 0.85244225 0.62619282 0.66155741 0.46819289 0.46623925 0.         0.89644462 0.52066191 0.76142599 0.76996367 0.5361304  0.73825624 0.49904284 0.60794307 0.03642345 0.54766933 0.41216502 0.85615467 0.69464978 0.59934327 0.51541233 0.27591182 0.63713733 0.98646702 0.7265155  0.76713776 0.05586151 0.55719782 0.78787407 0.69530835 0.51203743 1.14303031 0.39983462 0.72870688 0.55783018 0.70404263 0.62144552 0.87184615 0.84674631 1.14349943 0.92802295 0.2238341  0.92008242 0.58157922 0.89599919 0.37028313 0.8816066  0.47057605 0.62445919 0.44542373 0.51796214 0.86469097 0.68160347 0.15689593 0.6015339  0.4092916  1.0015349  1.07738366 0.65238197 1.11956857 0.13345359 0.63765376 0.76651909 0.69000853 0.83739531\n",
      "  0.7689947  0.32907147 0.19695011 0.68852373 0.64627513 0.74248762 0.6272947  0.65452254 0.62832646 0.16652821]\n",
      " [0.78670578 1.04794307 0.16241506 0.65247021 0.24938758 0.50672543 0.53730318 0.72201918 0.26446372 0.24687257 0.41910601 0.391509   0.6850334  0.25301311 0.88203818 0.5627785  0.1939629  0.17142291 0.2121905  0.61075719 0.17873792 0.55940287 0.09473605 0.3029329  0.61091952 0.84545746 0.73737712 0.53458117 0.42911213 0.48627134 0.89644462 0.         0.54100633 1.10598115 0.15063494 0.73657638 0.66255681 0.43227021 0.37651463 0.86633271 0.36063011 0.51778439 0.92983014 1.02587748 0.41876537 0.88507157 0.70832956 0.96342874 0.56630269 0.31181366 0.20646855 0.8519186  0.42469513 0.60648378 0.22397046 0.77935722 0.6783401  0.82262265 0.41850035 0.71546012 0.26918808 0.584632   0.21533236 0.06608838 0.63272771 0.68890945 0.83189292 0.86626374 0.35809246 0.04001415 0.6650274  0.07999315 0.56632771 0.74107043 0.73313392 0.63548085 0.24519701 0.64068371 0.78510027 0.80880223 0.86269782 0.7586502  0.62988554 0.99727855 0.70783533 0.7649519  0.60746028 0.99965289 0.93983581 0.97544107\n",
      "  0.33940584 0.58624107 0.7339184  1.04332532 0.56862071 0.18878697 0.40826598 0.96465942 0.29207537 0.73036748]\n",
      " [0.55176481 0.51000778 0.58127957 0.4683323  0.62479759 0.22874364 0.20930093 0.48212752 0.59023309 0.44041879 0.1231219  0.31642111 0.14495389 0.31466955 0.60754181 0.24745536 0.37578333 0.38843643 0.38348375 0.5174447  0.39248927 0.36499393 0.4669004  0.38970892 0.30262991 0.43703336 0.23682303 0.14473972 0.26658002 0.44526978 0.52066191 0.54100633 0.         0.58559821 0.48844186 0.20318317 0.26182498 0.16519703 0.50058388 0.50734392 0.37153135 0.40938502 0.48927924 0.50190867 0.12421967 0.34484624 0.51429132 0.43472814 0.46617748 0.574861   0.34454241 0.46488374 0.12079652 0.28352935 0.44939766 0.24074978 0.62393105 0.28817477 0.21674425 0.18926598 0.27501291 0.12433618 0.64187249 0.47567196 0.62285414 0.4294672  0.355009   0.49125564 0.44012355 0.56195923 0.16307418 0.57143596 0.05015494 0.23900316 0.19349345 0.09865656 0.39842533 0.20556531 0.50132355 0.28806005 0.3269195  0.51044378 0.55780134 0.46806601 0.60435471 0.40245039 0.15113916 0.5001927  0.42735424 0.51031156\n",
      "  0.27763312 0.39148522 0.3239999  0.51596211 0.13995811 0.48671643 0.14242368 0.43944754 0.26325757 0.38416563]\n",
      " [0.93123258 0.14670494 1.1653586  0.92258568 1.21031419 0.62462086 0.58740226 0.60654483 1.17488121 0.93672857 0.7053031  0.88463319 0.44688762 0.89906026 0.92600945 0.57800791 0.91925643 0.96874881 0.9685115  0.76490393 0.93617011 0.86188236 1.02006398 0.97081326 0.76037515 0.36718248 0.368726   0.57394429 0.82807429 0.98099781 0.76142599 1.10598115 0.58559821 0.         1.07248475 0.38301135 0.47232368 0.74307295 1.06948375 0.77854861 0.94385114 0.93010553 0.28580679 0.08448313 0.69505136 0.27513031 0.94200672 0.15425239 0.74891875 1.1557803  0.89980227 0.72463539 0.70538354 0.55166483 1.03484936 0.35403467 0.83462382 0.39606224 0.6981017  0.39717775 0.83822836 0.52138811 1.22693212 1.04001    0.87404265 0.58453048 0.551299   0.41277098 1.01157547 1.13274704 0.54527956 1.14797751 0.58242671 0.36497221 0.42887503 0.4872011  0.90618488 0.47394182 0.85987017 0.29944224 0.36880981 0.59794425 0.79515748 0.12419696 0.78007001 0.73633646 0.4994865  0.13098732 0.16696777 0.22042281\n",
      "  0.78162154 0.87484561 0.66062142 0.07747558 0.53873724 1.07220006 0.70030541 0.1465813  0.84698484 0.74905917]\n",
      " [0.64452818 0.99657856 0.09289314 0.51019519 0.15442984 0.52060007 0.5433391  0.77188786 0.14343773 0.33952891 0.36720093 0.26555074 0.63217081 0.17377245 0.74144217 0.5767197  0.24054142 0.10992043 0.10623318 0.68779879 0.23373776 0.42509682 0.18770315 0.16499445 0.49009133 0.8553825  0.71054538 0.5226543  0.31331172 0.33951797 0.76996367 0.15063494 0.48844186 1.07248475 0.         0.69147228 0.66450872 0.34773059 0.22594279 0.73798064 0.22329129 0.37575434 0.93167476 0.98941859 0.37925082 0.82966718 0.56472476 0.92294322 0.6373729  0.17480932 0.22433881 0.72920327 0.36773858 0.62428309 0.0771062  0.72829081 0.76923731 0.75039806 0.42855585 0.67535314 0.25493116 0.56147732 0.15584215 0.14230483 0.73042567 0.73139237 0.73197665 0.88720969 0.20984272 0.13373955 0.58390055 0.11195057 0.50150227 0.7136959  0.67012606 0.58702626 0.31902495 0.63073871 0.64865367 0.77322734 0.79081567 0.80872597 0.71346838 0.95639001 0.78956028 0.64178749 0.58807541 0.97812846 0.91055211 0.96901961\n",
      "  0.36558336 0.44948231 0.62225431 1.00413507 0.55213954 0.03841418 0.37902523 0.92703497 0.22554367 0.60631285]\n",
      " [0.63937507 0.31157844 0.78434157 0.59215823 0.82742465 0.31240217 0.27539307 0.46169431 0.79188591 0.60125866 0.32480897 0.50576148 0.06707072 0.51771814 0.6676847  0.29033432 0.55936166 0.59010106 0.58666243 0.55961952 0.57645978 0.50959294 0.65651424 0.58845449 0.41911599 0.31773639 0.09034741 0.23208536 0.45071166 0.61546183 0.5361304  0.73657638 0.20318317 0.38301135 0.69147228 0.         0.22314536 0.36078623 0.69143895 0.53659336 0.56402908 0.56985677 0.33659528 0.29900719 0.31862201 0.15471396 0.62551781 0.23154555 0.52014556 0.77367133 0.53375694 0.48370719 0.32373589 0.29517528 0.65193768 0.05036997 0.65872309 0.16358892 0.35642791 0.03072009 0.46749347 0.17114293 0.84505512 0.67059537 0.67552831 0.41407858 0.31932546 0.38454391 0.63235249 0.76011834 0.19768527 0.7719602  0.20097342 0.08839699 0.09094705 0.10452831 0.56389324 0.17830098 0.57501804 0.09174211 0.18650474 0.47788155 0.59908574 0.26492183 0.62214751 0.45395386 0.16347696 0.30711503 0.22958942 0.33817921\n",
      "  0.4360451  0.52894691 0.36624659 0.31277894 0.19749088 0.68982351 0.3285438  0.23656365 0.46605866 0.45140257]\n",
      " [0.80483544 0.46593056 0.75365269 0.7291992  0.81600653 0.15805275 0.12525459 0.24236198 0.79106294 0.46839856 0.33005198 0.56065257 0.24419431 0.50408855 0.85049216 0.10644366 0.46906912 0.55467743 0.57233434 0.34009387 0.48505931 0.62680767 0.57062891 0.61217896 0.56027358 0.19200026 0.14613077 0.14656443 0.51817434 0.70071177 0.73825624 0.66255681 0.26182498 0.47232368 0.66450872 0.22314536 0.         0.41113785 0.73596501 0.73291299 0.60885171 0.66888249 0.26845618 0.40429594 0.30303891 0.35094724 0.77336503 0.35972527 0.30566757 0.78956932 0.45912036 0.68341191 0.33843769 0.08300237 0.64907735 0.26820266 0.4365428  0.38670836 0.24413529 0.19388471 0.41067316 0.13756392 0.8191218  0.5987119  0.45661749 0.19255361 0.53281216 0.23495127 0.67519421 0.69457548 0.37107622 0.71741145 0.2999431  0.15016256 0.30315721 0.22206202 0.44167288 0.05845945 0.74863216 0.22228756 0.40822413 0.26328569 0.37863571 0.39028064 0.39900243 0.63759458 0.11122813 0.35039489 0.30936849 0.31326157\n",
      "  0.32437728 0.65321878 0.55152846 0.42692474 0.12800406 0.6753156  0.29277889 0.35263084 0.45399496 0.62632803]\n",
      " [0.46379969 0.65464663 0.43837367 0.35390119 0.47112838 0.32659994 0.32455375 0.60429087 0.43306802 0.40998291 0.09502233 0.15195877 0.29620973 0.18152538 0.53942165 0.3661904  0.31134659 0.26350458 0.24190572 0.5999397  0.32492781 0.24021954 0.37849747 0.22775098 0.222877   0.59574571 0.40199111 0.2707546  0.1073217  0.29037783 0.49904284 0.43227021 0.16519703 0.74307295 0.34773059 0.36078623 0.41113785 0.         0.33539015 0.47553434 0.20633772 0.26430239 0.6528753  0.65871491 0.12966753 0.48712228 0.40785432 0.58988427 0.54482341 0.41289161 0.27070168 0.44751556 0.08156807 0.41108318 0.2966299  0.39064872 0.70431718 0.40271174 0.26628979 0.35127082 0.20526055 0.2773887  0.49445988 0.37227709 0.69020765 0.55303377 0.40060039 0.64557375 0.27494278 0.44431928 0.23678395 0.44467859 0.16078208 0.40412127 0.32556944 0.2586025  0.36593498 0.35965918 0.43072711 0.44957858 0.44311663 0.63668715 0.63785899 0.62236983 0.69728992 0.36643698 0.30624566 0.66373554 0.58911112 0.67543557\n",
      "  0.28102793 0.2711637  0.31451103 0.67076595 0.28314056 0.33857623 0.15549423 0.59649953 0.14098558 0.33691487]\n",
      " [0.44658578 0.96798912 0.25601212 0.31719667 0.22131179 0.62128276 0.63172866 0.89687059 0.17243938 0.5343719  0.40600332 0.18570993 0.62504061 0.25968101 0.54549705 0.67154425 0.42015297 0.27025735 0.21784971 0.84701672 0.42037613 0.26701674 0.4015442  0.13054155 0.36241768 0.92537174 0.73733666 0.59002895 0.24142544 0.14224331 0.60794307 0.37651463 0.50058388 1.06948375 0.22594279 0.69143895 0.73596501 0.33539015 0.         0.57278895 0.12912392 0.19623046 0.98685699 0.98505764 0.4336025  0.80275545 0.36493175 0.915261   0.79272745 0.11859941 0.38770031 0.57764831 0.3983984  0.71962865 0.15880467 0.71552919 0.94005496 0.69961956 0.53713019 0.6846919  0.37824531 0.6082907  0.27132988 0.360787   0.90934354 0.84963197 0.62966166 0.97049334 0.06094038 0.35606862 0.53192993 0.32528003 0.49077895 0.73942055 0.64210667 0.59208899 0.50326507 0.68889316 0.46656541 0.7819854  0.73790965 0.93228943 0.87850442 0.94648451 0.94997722 0.49401616 0.63724792 0.99722797 0.92098756 1.01078893\n",
      "  0.50209498 0.28002299 0.50290391 0.99484658 0.60955001 0.18773091 0.44789996 0.92368087 0.29675374 0.45879014]\n",
      " [0.18309143 0.63574538 0.8059998  0.26523839 0.79173097 0.73608083 0.71472319 0.97291895 0.74285256 0.88549277 0.55085615 0.4753672  0.49247579 0.62283722 0.14783119 0.75023735 0.78344496 0.69841121 0.65417122 1.02465365 0.79562961 0.31453288 0.8359985  0.57309741 0.25895488 0.854064   0.62602742 0.6499472  0.43923927 0.43088733 0.03642345 0.86633271 0.50734392 0.77854861 0.73798064 0.53659336 0.73291299 0.47553434 0.57278895 0.         0.51520107 0.37733224 0.86173633 0.70953628 0.58020225 0.52634967 0.23976564 0.65009554 0.97350685 0.69138583 0.74169764 0.05505353 0.53681448 0.77934295 0.66288774 0.51562065 1.13106245 0.40773776 0.71177209 0.55679719 0.67981392 0.61241657 0.83763966 0.8177313  1.12977294 0.92107917 0.23282892 0.92113469 0.54749661 0.86498786 0.36251304 0.84977755 0.45756204 0.62452883 0.44564646 0.51136212 0.84146674 0.67559952 0.12088446 0.60596991 0.42053229 0.99604002 1.06507141 0.66688409 1.10931544 0.10948307 0.62995998 0.77795413 0.70025107 0.84568748\n",
      "  0.74892091 0.29463803 0.18406139 0.70455674 0.63644043 0.7099002  0.60833405 0.66708809 0.60194381 0.13935224]\n",
      " [0.42626161 0.8465283  0.29315335 0.29226952 0.2959273  0.50044418 0.50813187 0.77865985 0.25056662 0.45930684 0.27889827 0.0601174  0.49803239 0.16310908 0.52142783 0.54866134 0.34235267 0.2088873  0.1550454  0.74163205 0.34722983 0.20180571 0.35402318 0.05848165 0.27343047 0.79737041 0.60832657 0.46360112 0.11816439 0.13821929 0.54766933 0.36063011 0.37153135 0.94385114 0.22329129 0.56402908 0.60885171 0.20633772 0.12912392 0.51520107 0.         0.15809413 0.85790719 0.85936946 0.30799246 0.68009324 0.34878144 0.78980951 0.68647213 0.2167452  0.30373725 0.50864815 0.27054944 0.59627995 0.14768699 0.58985922 0.83906892 0.58183429 0.42034833 0.55642093 0.27608815 0.4797442  0.33321329 0.3234112  0.81326173 0.7300673  0.53049661 0.84369906 0.06863964 0.35353674 0.41245357 0.33524185 0.36308397 0.61044329 0.5184655  0.46373109 0.42219816 0.56076151 0.42599997 0.65410796 0.62106131 0.81339223 0.77539709 0.82148763 0.84384055 0.42148912 0.5087179  0.86904703 0.79336865 0.88167949\n",
      "  0.39630571 0.22668839 0.41122234 0.86992453 0.48181774 0.194828   0.32444323 0.7976488  0.18536962 0.38576068]\n",
      " [0.26912009 0.81492113 0.43358554 0.13475055 0.41443861 0.59042691 0.58875433 0.86858587 0.36553546 0.60646788 0.35794206 0.1493165  0.50325623 0.3098557  0.36568816 0.63039063 0.49068971 0.36581891 0.31280965 0.8564532  0.49758153 0.0756554  0.51112991 0.21489527 0.18008809 0.84601386 0.63329701 0.53335687 0.16068104 0.05832245 0.41216502 0.51778439 0.40938502 0.93010553 0.37575434 0.56985677 0.66888249 0.26430239 0.19623046 0.37733224 0.15809413 0.         0.89276058 0.84702228 0.39213683 0.65608296 0.19074699 0.77719229 0.80095134 0.31459793 0.45001428 0.38149863 0.34528043 0.67482406 0.29866023 0.58297148 0.95852478 0.54212924 0.52393163 0.5707712  0.40964915 0.53189228 0.46108676 0.48145983 0.93881529 0.81732334 0.44648929 0.90054353 0.17245157 0.50845988 0.38509614 0.48680114 0.38188981 0.63440025 0.50339633 0.48305262 0.56674913 0.61423439 0.27597648 0.66138244 0.57744107 0.90095384 0.89289676 0.80591305 0.95610379 0.29860486 0.55978646 0.87517284 0.79533846 0.90524692\n",
      "  0.51945269 0.08383055 0.31625494 0.85326849 0.54201872 0.34320355 0.4157901  0.78826817 0.31607307 0.26377871]\n",
      " [0.97536992 0.36128618 1.02148703 0.92691167 1.08197965 0.42320621 0.39314793 0.3269471  1.05513391 0.72419873 0.58415442 0.80481872 0.39751384 0.76785059 0.99892111 0.36763631 0.73595537 0.82206127 0.83707189 0.49224515 0.75161414 0.83851412 0.83707237 0.8684465  0.75337212 0.09370636 0.26020985 0.40952559 0.75585519 0.9327989  0.85615467 0.92983014 0.48927924 0.28580679 0.93167476 0.33659528 0.26845618 0.6528753  0.98685699 0.86173633 0.85790719 0.89276058 0.         0.25963262 0.56164065 0.35294179 0.96179958 0.26580987 0.48498847 1.04991229 0.7273865  0.80724819 0.5899696  0.32695352 0.91246269 0.34719371 0.55313831 0.45696851 0.51206095 0.32694644 0.6787203  0.37956763 1.08676455 0.86651133 0.59601058 0.31345121 0.63254542 0.12702204 0.9259703  0.96247374 0.53402168 0.98579734 0.51099492 0.25953853 0.42354679 0.40996893 0.70220721 0.30251848 0.90991505 0.25629591 0.45434434 0.31448671 0.5188334  0.27672188 0.49699462 0.78715144 0.35085626 0.16014906 0.19264692 0.06675916\n",
      "  0.5906243  0.86025176 0.70013372 0.28376418 0.38264029 0.94095852 0.55558998 0.2480783  0.71659505 0.78685969]\n",
      " [0.85651893 0.10599475 1.08231005 0.84278822 1.12643012 0.55205029 0.51420449 0.56228635 1.09073889 0.86300919 0.62223056 0.80016343 0.36250826 0.81584083 0.85612126 0.5081762  0.84081705 0.88633039 0.88513293 0.71329229 0.85781086 0.77946192 0.94110526 0.88643959 0.67873493 0.32676781 0.2901669  0.49634885 0.74364026 0.89747159 0.69464978 1.02587748 0.50190867 0.08448313 0.98941859 0.29900719 0.40429594 0.65871491 0.98505764 0.70953628 0.85936946 0.84702228 0.25963262 0.         0.61286172 0.19437748 0.86403707 0.07003497 0.69263767 1.07136272 0.82009682 0.6549941  0.62199443 0.48580848 0.95094438 0.26956924 0.78994347 0.31724293 0.6218272  0.31413092 0.75745231 0.44199085 1.14357778 0.95982655 0.8255377  0.53457815 0.47912888 0.38196208 0.92710568 1.0519261  0.4619722  1.06633912 0.49802741 0.28622234 0.34491707 0.40337554 0.83105106 0.39982716 0.78562394 0.21743105 0.29309554 0.55827557 0.74585879 0.04319179 0.73794058 0.66125599 0.42136915 0.1025863  0.0951772  0.20254551\n",
      "  0.70526809 0.79312235 0.58320131 0.02493656 0.46071133 0.98861708 0.6190147  0.06246233 0.76387587 0.6722059 ]\n",
      " [0.5884159  0.62944787 0.47177082 0.48282568 0.52402668 0.19859604 0.20112058 0.47778816 0.49451514 0.32429348 0.03465241 0.26460148 0.26647313 0.20844999 0.65887702 0.24229735 0.25200235 0.27376283 0.27850718 0.47088805 0.26858806 0.36961637 0.34281281 0.30917308 0.34096792 0.49399341 0.33129604 0.15661651 0.23208736 0.41311998 0.59934327 0.41876537 0.12421967 0.69505136 0.37925082 0.31862201 0.30303891 0.12966753 0.4336025  0.58020225 0.30799246 0.39213683 0.56164065 0.61286172 0.         0.4663721  0.53593822 0.54806178 0.4159728  0.48841356 0.2203321  0.54501735 0.04860162 0.28916272 0.35166194 0.36060715 0.57577785 0.41189435 0.1381916  0.29927423 0.15107341 0.18396749 0.53486337 0.35303293 0.56374457 0.42733422 0.46166886 0.53703453 0.37306961 0.44152675 0.27286723 0.4538028  0.15954267 0.33444722 0.31770015 0.21671813 0.28095491 0.25943328 0.5499719  0.3956544  0.45092086 0.5111062  0.50917365 0.58181837 0.56771518 0.47107025 0.2117847  0.59890833 0.53176042 0.59368991\n",
      "  0.17044625 0.40032025 0.40484673 0.62882313 0.17917316 0.38322804 0.02826926 0.55079368 0.15626356 0.44574254]\n",
      " [0.66501837 0.16752436 0.92199868 0.64841518 0.95824903 0.46325051 0.42537469 0.57025489 0.91959653 0.75597255 0.46790317 0.62013673 0.20010495 0.65658534 0.67060567 0.43501705 0.71189805 0.73262955 0.72364569 0.69047572 0.7289606  0.58705656 0.80763834 0.71238901 0.48524788 0.37487005 0.20513567 0.38614914 0.56251618 0.70797727 0.51541233 0.88507157 0.34484624 0.27513031 0.82966718 0.15471396 0.35094724 0.48712228 0.80275545 0.52634967 0.68009324 0.65608296 0.35294179 0.19437748 0.4663721  0.         0.67006725 0.12741161 0.65637407 0.89531266 0.68470281 0.47131475 0.46456535 0.43107493 0.78355552 0.10684824 0.78366001 0.12367527 0.51109125 0.1824536  0.61700081 0.32537421 0.98036771 0.81940062 0.8070071  0.52866888 0.29355091 0.44295484 0.7465195  0.90674242 0.27267345 0.91604445 0.3284075  0.20098979 0.16204972 0.24984247 0.71850171 0.31896526 0.59477955 0.13177423 0.10612078 0.5788307  0.72834048 0.15171555 0.74094294 0.46988497 0.31516231 0.25161435 0.17473419 0.32462372\n",
      "  0.59069535 0.59972127 0.38983278 0.19777722 0.35100762 0.82432154 0.47900924 0.14270046 0.60633763 0.47911285]\n",
      " [0.08165479 0.80982498 0.61634099 0.05776929 0.58568871 0.7260761  0.71635195 0.9949908  0.53706191 0.78784359 0.50154707 0.33246886 0.56488091 0.49501347 0.18056653 0.75697444 0.67400442 0.55552801 0.50315231 1.00674012 0.68222925 0.17049193 0.70070124 0.40556787 0.21325944 0.93145809 0.70452045 0.65465928 0.32413672 0.22738026 0.27591182 0.70832956 0.51429132 0.94200672 0.56472476 0.62551781 0.77336503 0.40785432 0.36493175 0.23976564 0.34878144 0.19074699 0.96179958 0.86403707 0.53593822 0.67006725 0.         0.79730606 0.95190405 0.48062835 0.6324464  0.26815623 0.48735002 0.79657134 0.48769216 0.62322402 1.11170281 0.54679414 0.67377482 0.63555202 0.58500442 0.6374572  0.63626072 0.67198631 1.09800301 0.94246209 0.40140692 0.99275317 0.35694332 0.69804137 0.42784986 0.67478774 0.47342268 0.70447991 0.5424388  0.56156075 0.74651367 0.71539801 0.11906814 0.71150538 0.57343943 1.024283   1.04511153 0.82099559 1.10242578 0.21415289 0.66225783 0.91270476 0.83165794 0.9614031\n",
      "  0.6843344  0.1387468  0.28145275 0.86480591 0.65421003 0.5308661  0.56280201 0.81165674 0.49350495 0.19423725]\n",
      " [0.79220176 0.10875895 1.01582448 0.77481234 1.05855755 0.50018967 0.46186619 0.54086525 1.02236376 0.8084378  0.55601146 0.7305051  0.2937642  0.74921323 0.79558567 0.4599989  0.78068869 0.82088248 0.8182076  0.68291959 0.79775213 0.70993687 0.88018071 0.81751425 0.60967055 0.3153558  0.23311846 0.43846009 0.67386404 0.82749658 0.63713733 0.96342874 0.43472814 0.15425239 0.92294322 0.23154555 0.35972527 0.58988427 0.915261   0.65009554 0.78980951 0.77719229 0.26580987 0.07003497 0.54806178 0.12741161 0.79730606 0.         0.65770238 1.00226946 0.75840266 0.59521782 0.55523349 0.44257876 0.88307295 0.19995477 0.76574905 0.25107882 0.56500612 0.24878998 0.69444152 0.38192606 1.07659815 0.89734037 0.79741417 0.50788092 0.41800623 0.37759322 0.85744354 0.98853784 0.39210503 1.00186248 0.4291113  0.22893684 0.27488403 0.33607198 0.77492305 0.3475157  0.72177175 0.15546251 0.23028452 0.54136478 0.71751801 0.03384999 0.71659229 0.59698489 0.3633019  0.13240808 0.07364423 0.22116774\n",
      "  0.64803824 0.72396853 0.51724287 0.0812389  0.40246873 0.92130936 0.55553649 0.01876167 0.69746238 0.60652268]\n",
      " [1.00265885 0.76592337 0.70665578 0.89864583 0.78775233 0.23752533 0.26242548 0.17857528 0.78055187 0.32027427 0.45042783 0.65982083 0.52223705 0.53309498 1.06807122 0.23398296 0.3970708  0.53970311 0.58215078 0.05552263 0.40552691 0.78501629 0.47514651 0.66299994 0.75280555 0.39186542 0.4512555  0.32584084 0.64074892 0.81241601 0.98646702 0.56630269 0.46617748 0.74891875 0.6373729  0.52014556 0.30566757 0.54482341 0.79272745 0.97350685 0.68647213 0.80095134 0.48498847 0.69263767 0.4159728  0.65637407 0.95190405 0.65770238 0.         0.8018447  0.41605562 0.93062495 0.46456971 0.22587903 0.65803917 0.5684739  0.160034   0.68027695 0.27858282 0.48951782 0.41452684 0.37366583 0.77016609 0.51875092 0.15847642 0.17264001 0.80455682 0.37532012 0.73882984 0.605693   0.62027851 0.64127417 0.51608331 0.45538691 0.58728604 0.48295082 0.32408201 0.34192432 0.95990685 0.52780859 0.70651166 0.21053325 0.09329954 0.6858164  0.15747543 0.86793029 0.36609517 0.61873051 0.5983714  0.548824\n",
      "  0.29102299 0.81597827 0.79009644 0.71679918 0.34620134 0.66360087 0.38936098 0.64805703 0.50122155 0.84769306]\n",
      " [0.56212617 1.0622078  0.16244824 0.43470152 0.10613558 0.65931855 0.67595518 0.92489601 0.05980453 0.51327726 0.46637641 0.27675877 0.70890909 0.28745677 0.66097584 0.71323699 0.40901712 0.26214975 0.22430782 0.85390537 0.40440632 0.38404146 0.36235986 0.18531487 0.47587059 0.98140759 0.80997002 0.64328677 0.33483002 0.26075206 0.7265155  0.31181366 0.574861   1.1557803  0.17480932 0.77367133 0.78956932 0.41289161 0.11859941 0.69138583 0.2167452  0.31459793 1.04991229 1.07136272 0.48841356 0.89531266 0.48062835 1.00226946 0.8018447  0.         0.38584715 0.6957307  0.46185031 0.761681   0.14566055 0.80253933 0.93925294 0.7985571  0.56960258 0.76338885 0.39794224 0.6708615  0.15957228 0.31644207 0.90238664 0.88105827 0.74090568 1.02061713 0.15595886 0.28230397 0.62909729 0.24463188 0.57335984 0.81249912 0.7333526  0.6709814  0.49017653 0.74784609 0.58464862 0.86200814 0.83780649 0.96132812 0.88158727 1.03446168 0.95650415 0.61153746 0.69930896 1.07505145 1.00155963 1.07968336\n",
      "  0.51895005 0.39828513 0.61643506 1.08290637 0.66758601 0.1412449  0.49679059 1.00924187 0.33581647 0.5761288 ]\n",
      " [0.701852   0.84530469 0.30379496 0.57472959 0.37807491 0.30634287 0.33425731 0.54774476 0.36604662 0.15649965 0.2283139  0.30130361 0.48565946 0.14116023 0.78832065 0.36296207 0.04214198 0.12384445 0.17045455 0.46809946 0.054252   0.4648697  0.12293625 0.26439879 0.48363235 0.64557558 0.53110777 0.3281973  0.31257415 0.44143143 0.76713776 0.20646855 0.34454241 0.89980227 0.22433881 0.53375694 0.45912036 0.27070168 0.38770031 0.74169764 0.30373725 0.45001428 0.7273865  0.82009682 0.2203321  0.68470281 0.6324464  0.75840266 0.41605562 0.38584715 0.         0.71686253 0.23720896 0.4088257  0.24305111 0.57818947 0.55560543 0.63164014 0.21548305 0.51140499 0.07060814 0.37841682 0.36967152 0.14092004 0.52233872 0.50808764 0.66493371 0.67157657 0.34073312 0.23600651 0.48434965 0.25856003 0.37653325 0.53483514 0.53803117 0.43499292 0.11850457 0.43475058 0.68252265 0.60337259 0.67093229 0.58461267 0.49643788 0.79224234 0.57080446 0.63378877 0.40100707 0.79326559 0.73349889 0.77096243\n",
      "  0.14325314 0.49592072 0.58521254 0.8379027  0.36215226 0.24798563 0.20569447 0.75914887 0.14154718 0.60234626]\n",
      " [0.22351826 0.58247987 0.80155027 0.28341993 0.79323763 0.69311937 0.67026364 0.92433467 0.7447174  0.85667273 0.51720555 0.46407803 0.44149137 0.60409199 0.20138468 0.7047694  0.7581446  0.68202799 0.6405481  0.98098822 0.77106307 0.31278855 0.8160734  0.56541483 0.24101    0.80080474 0.57347195 0.60569662 0.42282854 0.43767568 0.05586151 0.8519186  0.46488374 0.72463539 0.72920327 0.48370719 0.68341191 0.44751556 0.57764831 0.05505353 0.50864815 0.38149863 0.80724819 0.6549941  0.54501735 0.47131475 0.26815623 0.59521782 0.93062495 0.6957307  0.71686253 0.         0.50351179 0.73229238 0.65571079 0.46155979 1.08716972 0.35276705 0.67352753 0.50463347 0.65276187 0.5657634  0.83699824 0.80058284 1.08769929 0.87277951 0.1777811  0.86812123 0.54704816 0.85306362 0.31470076 0.84033024 0.41478247 0.57186333 0.39280525 0.46270045 0.81248824 0.62655263 0.15444129 0.55170464 0.36553369 0.94669367 1.02152297 0.61227007 1.06379428 0.08742526 0.58219398 0.72292397 0.6451979  0.79075029\n",
      "  0.71497559 0.29766811 0.14143449 0.65031949 0.59050552 0.70318649 0.57286969 0.61215896 0.57920697 0.12295234]\n",
      " [0.54028809 0.63042283 0.46060569 0.43423745 0.50604102 0.24520813 0.24464468 0.52350181 0.47316862 0.35734296 0.0144993  0.22299005 0.26532225 0.19398327 0.61184584 0.28620489 0.27340092 0.26807751 0.26314383 0.51948935 0.28909172 0.32112162 0.35633517 0.27865549 0.29379016 0.52698906 0.34902794 0.19423459 0.18619327 0.36857183 0.55719782 0.42469513 0.12079652 0.70538354 0.36773858 0.32373589 0.33843769 0.08156807 0.3983984  0.53681448 0.27054944 0.34528043 0.5899696  0.62199443 0.04860162 0.46456535 0.48735002 0.55523349 0.46456971 0.46185031 0.23720896 0.50351179 0.         0.33198529 0.33114699 0.36134    0.62435626 0.39817231 0.18660325 0.30828011 0.16667334 0.21047329 0.52158635 0.36031812 0.61195086 0.47253342 0.43066942 0.57337086 0.33748356 0.44362968 0.24717252 0.45153503 0.14172067 0.35175474 0.30894249 0.21929616 0.31329204 0.29050185 0.50290401 0.40671923 0.43812662 0.55627138 0.55776247 0.58865663 0.61620091 0.42740591 0.23932849 0.61584505 0.54524548 0.61789076\n",
      "  0.21211245 0.35176478 0.3646899  0.63644246 0.21127748 0.3669399  0.07579699 0.55956173 0.14246127 0.40093789]\n",
      " [0.83525909 0.54892994 0.71021657 0.74873414 0.77804665 0.1036871  0.0881572  0.19863122 0.75722922 0.39789747 0.32092593 0.55366687 0.30390233 0.47423626 0.88858107 0.04846539 0.41272332 0.51474749 0.53938633 0.26457834 0.4277481  0.64100676 0.51268821 0.59170866 0.58596979 0.23934138 0.22601522 0.14259563 0.51778881 0.70052259 0.78787407 0.60648378 0.28352935 0.55166483 0.62428309 0.29517528 0.08300237 0.41108318 0.71962865 0.77934295 0.59627995 0.67482406 0.32695352 0.48580848 0.28916272 0.43107493 0.79657134 0.44257876 0.22587903 0.761681   0.4088257  0.73229238 0.33198529 0.         0.61779995 0.34291631 0.36548227 0.45697802 0.19574254 0.26473075 0.36969529 0.16701863 0.77616419 0.54474024 0.38035325 0.1459947  0.591861   0.26317076 0.65980325 0.64064748 0.41759755 0.66666321 0.3289812  0.23021375 0.36719839 0.27124491 0.37526864 0.11704341 0.7836204  0.30418648 0.48167743 0.22796723 0.30431831 0.47290351 0.33403684 0.67913099 0.15076788 0.42693865 0.39067781 0.37952581\n",
      "  0.26760913 0.66942351 0.59567054 0.50876532 0.14469006 0.63918998 0.27198298 0.43518746 0.42742041 0.6641381 ]\n",
      " [0.56742823 0.9510596  0.14905724 0.43309016 0.17549173 0.51494507 0.53294717 0.77923838 0.1428532  0.38054148 0.33345098 0.19442905 0.58975272 0.14498897 0.664348   0.56943506 0.2700672  0.11957058 0.07881103 0.71071081 0.26784881 0.34918274 0.24279241 0.09031121 0.41823416 0.84107296 0.6797706  0.50364978 0.24620675 0.26303885 0.69530835 0.22397046 0.44939766 1.03484936 0.0771062  0.65193768 0.64907735 0.2966299  0.15880467 0.66288774 0.14768699 0.29866023 0.91246269 0.95094438 0.35166194 0.78355552 0.48769216 0.88307295 0.65803917 0.14566055 0.24305111 0.65571079 0.33114699 0.61779995 0.         0.68534405 0.7984844  0.69720407 0.42462421 0.63853545 0.25233074 0.53557595 0.19888047 0.20222155 0.76388256 0.73552471 0.66679843 0.87814231 0.13413343 0.21043856 0.52850035 0.18846823 0.45576624 0.68260158 0.62218337 0.5476491  0.35285795 0.60994641 0.57197626 0.73725411 0.73741538 0.81568014 0.73947363 0.91606095 0.81356781 0.56839956 0.56343811 0.94693503 0.87617505 0.94533226\n",
      "  0.37344086 0.37296822 0.55304625 0.9642592  0.52991718 0.04763502 0.35704345 0.88849583 0.19587509 0.5327602 ]\n",
      " [0.63064411 0.26932214 0.82096704 0.59387947 0.8606741  0.36276881 0.32571352 0.50285517 0.82360247 0.65003652 0.36378626 0.53059879 0.09612262 0.55466526 0.65172804 0.33996486 0.60509444 0.62918614 0.62270867 0.60683033 0.62216265 0.51883079 0.70111082 0.61800925 0.42308087 0.34142846 0.12662985 0.28203327 0.47410417 0.63135205 0.51203743 0.77935722 0.24074978 0.35403467 0.72829081 0.05036997 0.26820266 0.39064872 0.71552919 0.51562065 0.58985922 0.58297148 0.34719371 0.26956924 0.36060715 0.10684824 0.62322402 0.19995477 0.5684739  0.80253933 0.57818947 0.46155979 0.36134    0.34291631 0.68534405 0.         0.70470423 0.12296885 0.40562775 0.08061277 0.51084509 0.2210623  0.88053451 0.71355774 0.72302481 0.45670164 0.29051929 0.40972961 0.657541   0.80172762 0.20031705 0.81207218 0.22996057 0.12350233 0.08139299 0.14390045 0.61215398 0.22662733 0.56388221 0.09092203 0.14011885 0.51694933 0.64599005 0.2319225  0.66655377 0.44036942 0.21384258 0.29341957 0.21281057 0.33897003\n",
      "  0.4844651  0.53570816 0.35388986 0.28036888 0.24767955 0.72472904 0.37251413 0.20822019 0.50369735 0.44174446]\n",
      " [1.16268958 0.8743415  0.82977619 1.05821428 0.91419255 0.395347   0.41697    0.22821448 0.91243438 0.43436519 0.61016022 0.81553649 0.66899504 0.68176926 1.22767546 0.38420201 0.53025146 0.67895521 0.72533134 0.10655064 0.53563289 0.94439983 0.59384545 0.81181372 0.91277326 0.46744285 0.58147556 0.48147334 0.79882577 0.96783631 1.14303031 0.6783401  0.62393105 0.83462382 0.76923731 0.65872309 0.4365428  0.70431718 0.94005496 1.13106245 0.83906892 0.95852478 0.55313831 0.78994347 0.57577785 0.78366001 1.11170281 0.76574905 0.160034   0.93925294 0.55560543 1.08716972 0.62435626 0.36548227 0.7984844  0.70470423 0.         0.82166856 0.43803932 0.6287246  0.5640118  0.52499375 0.89041625 0.63995921 0.05866294 0.258112   0.9554487  0.42871409 0.88832784 0.7183542  0.77479606 0.75696971 0.67353032 0.58529493 0.73266028 0.63337519 0.45021946 0.48196801 1.11964439 0.65219562 0.84461412 0.23915241 0.0667507  0.79036893 0.06006505 1.02626798 0.51387113 0.70402503 0.69960231 0.6198587\n",
      "  0.44292508 0.9754683  0.94726525 0.81479799 0.49855432 0.79872659 0.54896933 0.75352744 0.65382824 1.00669086]\n",
      " [0.54152775 0.2728409  0.84098924 0.52654839 0.86914191 0.46143641 0.42689501 0.62455168 0.82782077 0.72505346 0.40482209 0.5217993  0.16383319 0.58110236 0.5498655  0.4475629  0.66383688 0.66101948 0.64439822 0.72151651 0.68047154 0.4708307  0.75315417 0.61980805 0.3670971  0.46112516 0.24907919 0.37385738 0.4637313  0.59600327 0.39983462 0.82262265 0.28817477 0.39606224 0.75039806 0.16358892 0.38670836 0.40271174 0.69961956 0.40773776 0.58183429 0.54212924 0.45696851 0.31724293 0.41189435 0.12367527 0.54679414 0.25107882 0.68027695 0.7985571  0.63164014 0.35276705 0.39817231 0.45697802 0.69720407 0.12296885 0.82166856 0.         0.48772509 0.19306265 0.56145155 0.31517357 0.89594989 0.75847978 0.83690571 0.57746618 0.17600292 0.52980423 0.64592854 0.84002829 0.16969155 0.84454067 0.25645884 0.24613204 0.09923181 0.21277196 0.68422309 0.33997947 0.47152447 0.20570209 0.04043654 0.63948273 0.76129028 0.27421692 0.78569699 0.34654088 0.31607362 0.37288643 0.29361481 0.438005\n",
      "  0.55965425 0.48132518 0.26620001 0.3186324  0.34346986 0.74059199 0.43045209 0.26623734 0.53402699 0.35544605]\n",
      " [0.72655353 0.6605756  0.51471943 0.62017743 0.58242912 0.09209303 0.11895305 0.35974375 0.56252351 0.24527063 0.17229502 0.38680954 0.32561559 0.28334847 0.795908   0.14850523 0.2254381  0.31911643 0.3458632  0.33380521 0.24172876 0.50644615 0.32719641 0.40698552 0.47842712 0.43028623 0.33222935 0.12687593 0.36331479 0.53899253 0.72870688 0.41850035 0.21674425 0.6981017  0.42855585 0.35642791 0.24413529 0.26628979 0.53713019 0.71177209 0.42034833 0.52393163 0.51206095 0.6218272  0.1381916  0.51109125 0.67377482 0.56500612 0.27858282 0.56960258 0.21548305 0.67352753 0.18660325 0.19574254 0.42462421 0.40562775 0.43803932 0.48772509 0.         0.32910179 0.17425113 0.18629293 0.5806289  0.35458646 0.4256364  0.31311164 0.57173975 0.45881896 0.47919485 0.45048357 0.37981654 0.4740398  0.26521769 0.33632371 0.3885212  0.27514016 0.20998235 0.22524157 0.68711549 0.41020814 0.52290083 0.39527637 0.37156998 0.59839271 0.43229737 0.60351679 0.20181223 0.58516223 0.53115915 0.55696046\n",
      "  0.0835223  0.53745248 0.53218072 0.64159179 0.16294908 0.44406901 0.11097315 0.56310804 0.24051888 0.58000284]\n",
      " [0.65296867 0.33463958 0.76823812 0.59997006 0.81384718 0.28243966 0.24520395 0.43384222 0.7794986  0.57427708 0.30815278 0.4990788  0.0706831  0.50188279 0.68505578 0.25963906 0.53571749 0.57233812 0.57136281 0.52925284 0.55282363 0.51319801 0.633844   0.57808457 0.42642569 0.30027905 0.07025298 0.20370539 0.4453135  0.61442966 0.55783018 0.71546012 0.18926598 0.39717775 0.67535314 0.03072009 0.19388471 0.35127082 0.6846919  0.55679719 0.55642093 0.5707712  0.32694644 0.31413092 0.29927423 0.1824536  0.63555202 0.24878998 0.48951782 0.76338885 0.51140499 0.50463347 0.30828011 0.26473075 0.63853545 0.08061277 0.6287246  0.19306265 0.32910179 0.         0.44628751 0.14301507 0.82976509 0.64939212 0.64507068 0.38559515 0.34390011 0.36571862 0.62498854 0.739989   0.20879917 0.75307282 0.1944239  0.06954501 0.11316501 0.09271716 0.53755911 0.14776428 0.5900895  0.09879914 0.2170345  0.45103753 0.56880184 0.28255996 0.59274348 0.47075833 0.13357583 0.31262906 0.23822812 0.33450844\n",
      "  0.40964502 0.53398642 0.38292157 0.32959185 0.16859464 0.67519988 0.30722578 0.25183553 0.44982775 0.46616884]\n",
      " [0.65080397 0.77898116 0.34301047 0.52774817 0.40836848 0.26603538 0.28850439 0.52703077 0.38846496 0.20685157 0.15771218 0.26077419 0.41735795 0.1185736  0.73394378 0.32192477 0.10773033 0.14513626 0.1736486  0.46899041 0.12280695 0.41514342 0.19192262 0.24852768 0.4236034  0.60082384 0.47031895 0.27224022 0.26114657 0.40930759 0.70404263 0.26918808 0.27501291 0.83822836 0.25493116 0.46749347 0.41067316 0.20526055 0.37824531 0.67981392 0.27608815 0.40964915 0.6787203  0.75745231 0.15107341 0.61700081 0.58500442 0.69444152 0.41452684 0.39794224 0.07060814 0.65276187 0.16667334 0.36969529 0.25233074 0.51084509 0.5640118  0.56145155 0.17425113 0.44628751 0.         0.31781999 0.40859293 0.2031449  0.53718397 0.483227   0.5953932  0.63238768 0.32464751 0.2945269  0.41384353 0.31129599 0.30602886 0.4738774  0.46845093 0.36716334 0.16357788 0.38036786 0.62672673 0.54013926 0.60086782 0.56341078 0.50126621 0.72828739 0.57186821 0.5711039  0.3421899  0.7353116  0.67276682 0.71874385\n",
      "  0.1239747  0.4467343  0.51896381 0.77454575 0.30428379 0.26985104 0.13907793 0.69598007 0.09370364 0.54068995]\n",
      " [0.67187202 0.47487355 0.65341725 0.59234117 0.70784321 0.14628701 0.11294225 0.36338379 0.67842335 0.43156177 0.20465292 0.42870127 0.15197173 0.39227578 0.72239999 0.14081999 0.39898949 0.45391222 0.46224808 0.42021799 0.41602157 0.48926548 0.49911466 0.48888074 0.42485528 0.31839052 0.15275448 0.060971   0.38349702 0.56513974 0.62144552 0.584632   0.12433618 0.52138811 0.56147732 0.17114293 0.13756392 0.2773887  0.6082907  0.61241657 0.4797442  0.53189228 0.37956763 0.44199085 0.18396749 0.32537421 0.6374572  0.38192606 0.37366583 0.6708615  0.37841682 0.5657634  0.21047329 0.16701863 0.53557595 0.2210623  0.52499375 0.31517357 0.18629293 0.14301507 0.31781999 0.         0.71731367 0.51870432 0.53210798 0.31087971 0.43108866 0.36921418 0.5473512  0.61196604 0.2512752  0.62887934 0.16481716 0.15643882 0.21774225 0.10931357 0.39552531 0.08259737 0.61826314 0.22646632 0.34671631 0.38978339 0.46081986 0.4156318  0.49846099 0.51221983 0.02897679 0.4179698  0.3552572  0.40975844\n",
      "  0.2677389  0.51581763 0.42866837 0.46037568 0.02836677 0.56691274 0.18268181 0.38156713 0.34019671 0.49782496]\n",
      " [0.71791511 1.14771479 0.06598101 0.58780883 0.05497929 0.67268016 0.69694274 0.91506256 0.1002502  0.45624676 0.52178719 0.38764765 0.78453853 0.32795294 0.81682475 0.72912775 0.37678522 0.26476043 0.25844491 0.81756721 0.36608148 0.52451595 0.29690993 0.28251141 0.60617545 1.00938568 0.86613735 0.67814015 0.4424393  0.4116059  0.87184615 0.21533236 0.64187249 1.22693212 0.15584215 0.84505512 0.8191218  0.49445988 0.27132988 0.83763966 0.33321329 0.46108676 1.08676455 1.14357778 0.53486337 0.98036771 0.63626072 1.07659815 0.77016609 0.15957228 0.36967152 0.83699824 0.52158635 0.77616419 0.19888047 0.88053451 0.89041625 0.89594989 0.5806289  0.82976509 0.40859293 0.71731367 0.         0.2517435  0.84640844 0.87706816 0.86220281 1.03933481 0.29029636 0.1763095  0.7273711  0.1353404  0.6520096  0.8692529  0.81958004 0.74052704 0.44615662 0.78630973 0.73586513 0.92794541 0.93619563 0.95197216 0.83938352 1.10989764 0.91692983 0.75078805 0.74391109 1.1337708  1.06570133 1.12470747\n",
      "  0.51290641 0.54301097 0.74443358 1.15783372 0.70789231 0.15605631 0.53486175 1.08113976 0.38019549 0.71500134]\n",
      " [0.74842636 0.98201516 0.18983332 0.61509795 0.27471585 0.44387887 0.47353163 0.66809439 0.27841647 0.20569442 0.35425572 0.34647242 0.61942648 0.19701528 0.84183014 0.50022    0.13247823 0.11950932 0.16894708 0.56582916 0.11879879 0.51642914 0.04693309 0.26831611 0.56016167 0.78313946 0.67145782 0.46910918 0.37858761 0.45592811 0.84674631 0.06608838 0.47567196 1.04001    0.14230483 0.67059537 0.5987119  0.37227709 0.360787   0.8177313  0.3234112  0.48145983 0.86651133 0.95982655 0.35303293 0.81940062 0.67198631 0.89734037 0.51875092 0.31644207 0.14092004 0.80058284 0.36031812 0.54474024 0.20222155 0.71355774 0.63995921 0.75847978 0.35458646 0.64939212 0.2031449  0.51870432 0.2517435  0.         0.59769817 0.63282037 0.77280256 0.80588052 0.33246853 0.09601178 0.60261753 0.1245097  0.50203846 0.67513605 0.66819412 0.56971271 0.19467665 0.57559361 0.74194429 0.74272672 0.79844291 0.70491643 0.58787186 0.93119018 0.6653039  0.71422218 0.54171071 0.93416639 0.87394197 0.91120111\n",
      "  0.27714095 0.5447149  0.67875001 0.97724525 0.50295432 0.17917022 0.3422175  0.89858536 0.2313279  0.68024608]\n",
      " [1.15216036 0.90617233 0.78706203 1.04343685 0.8724116  0.39485892 0.42083218 0.26906436 0.87297476 0.39225526 0.59754085 0.7934114  0.68013929 0.6533277  1.22070218 0.39211628 0.49406053 0.64440587 0.69277682 0.11654717 0.4979826  0.92912796 0.55109779 0.78275794 0.9038158  0.50761112 0.60271515 0.48394461 0.78058174 0.94481053 1.14349943 0.63272771 0.62285414 0.87404265 0.73042567 0.67552831 0.45661749 0.69020765 0.90934354 1.12977294 0.81326173 0.93881529 0.59601058 0.8255377  0.56374457 0.8070071  1.09800301 0.79741417 0.15847642 0.90238664 0.52233872 1.08769929 0.61195086 0.38035325 0.76388256 0.72302481 0.05866294 0.83690571 0.4256364  0.64507068 0.53718397 0.53210798 0.84640844 0.59769817 0.         0.29095955 0.96303317 0.47389248 0.8595094  0.67267852 0.77839715 0.71203432 0.67292351 0.60670915 0.74493962 0.64137101 0.41221299 0.49732451 1.11210456 0.67656554 0.8620288  0.28529511 0.07989934 0.82341828 0.11582427 1.02340812 0.52401365 0.74308576 0.73351074 0.66243374\n",
      "  0.41970817 0.96052931 0.94682974 0.85023685 0.50467635 0.76129985 0.53615485 0.78611751 0.629013   1.00213456]\n",
      " [0.98111577 0.61656404 0.81142618 0.89430825 0.88570336 0.22983012 0.22873357 0.05266725 0.87018206 0.45450291 0.4605495  0.69117189 0.43624641 0.59616811 1.03327929 0.18716862 0.50166864 0.62466516 0.65676567 0.18048432 0.51416377 0.78585829 0.59435244 0.71981195 0.73196068 0.22124609 0.33069555 0.28798263 0.65870273 0.8404444  0.92802295 0.68890945 0.4294672  0.58453048 0.73139237 0.41407858 0.19255361 0.55303377 0.84963197 0.92107917 0.7300673  0.81732334 0.31345121 0.53457815 0.42733422 0.52866888 0.94246209 0.50788092 0.17264001 0.88105827 0.50808764 0.87277951 0.47253342 0.1459947  0.73552471 0.45670164 0.258112   0.57746618 0.31311164 0.38559515 0.483227   0.31087971 0.87706816 0.63282037 0.29095955 0.         0.72519319 0.20324583 0.79103744 0.72625147 0.55857799 0.75729054 0.47443139 0.33419486 0.49570409 0.41008045 0.44484575 0.24688766 0.9288858  0.39689466 0.59658439 0.08377415 0.21133386 0.53307225 0.2123162  0.82265389 0.29126795 0.45357926 0.44278464 0.37826112\n",
      "  0.36581345 0.81459669 0.73812411 0.55928086 0.29014788 0.75113129 0.40698439 0.49599032 0.55343981 0.80870384]\n",
      " [0.38108893 0.41262418 0.81576455 0.39425572 0.82641873 0.57111575 0.54242106 0.77509993 0.78058069 0.78581903 0.44195151 0.47455962 0.28911797 0.57916883 0.37757977 0.57174199 0.70303075 0.66135467 0.63120223 0.85119811 0.71816788 0.3708447  0.77819865 0.57977933 0.26811623 0.63192589 0.40958926 0.48067185 0.42059941 0.50448979 0.2238341  0.83189292 0.355009   0.551299   0.73197665 0.31932546 0.53281216 0.40060039 0.62966166 0.23282892 0.53049661 0.44648929 0.63254542 0.47912888 0.46166886 0.29355091 0.40140692 0.41800623 0.80455682 0.74090568 0.66493371 0.1777811  0.43066942 0.591861   0.66679843 0.29051929 0.9554487  0.17600292 0.57173975 0.34390011 0.5953932  0.43108866 0.86220281 0.77280256 0.96303317 0.72519319 0.         0.70012361 0.58504006 0.84135296 0.19199844 0.83717909 0.3074869  0.40742826 0.23092137 0.32213805 0.74222215 0.47904016 0.30935751 0.37881828 0.18792355 0.79410886 0.89176555 0.43615523 0.92586672 0.18846508 0.44176837 0.54516515 0.46746706 0.61377207\n",
      "  0.62889559 0.3708351  0.13111665 0.47577253 0.45836052 0.7136791  0.48678493 0.43473901 0.5415808  0.20817608]\n",
      " [1.01614798 0.47966447 0.97338708 0.9522166  1.04070888 0.36672636 0.34527096 0.20624849 1.0187583  0.64425038 0.56482089 0.79554574 0.43394658 0.73358564 1.0507682  0.31049005 0.67344564 0.77752074 0.80025316 0.37521929 0.68785282 0.8545036  0.77179927 0.84568116 0.78001914 0.06878185 0.29567473 0.38047584 0.75231792 0.93432694 0.92008242 0.86626374 0.49125564 0.41277098 0.88720969 0.38454391 0.23495127 0.64557375 0.97049334 0.92113469 0.84369906 0.90054353 0.12702204 0.38196208 0.53703453 0.44295484 0.99275317 0.37759322 0.37532012 1.02061713 0.67157657 0.86812123 0.57337086 0.26317076 0.87814231 0.40972961 0.42871409 0.52980423 0.45881896 0.36571862 0.63238768 0.36921418 1.03933481 0.80588052 0.47389248 0.20324583 0.70012361 0.         0.90980533 0.90146475 0.57219421 0.92870466 0.52357709 0.29690561 0.47548943 0.43121036 0.62824362 0.28662531 0.95486925 0.32447185 0.53546357 0.1895654  0.39853653 0.39376818 0.37157491 0.83643389 0.34092499 0.28562014 0.30434747 0.19334067\n",
      "  0.52938153 0.87939042 0.74860651 0.40660718 0.36272537 0.90128571 0.52489528 0.36135319 0.68488837 0.83093798]\n",
      " [0.43771863 0.91247281 0.26121786 0.30416568 0.24653825 0.56215715 0.57179844 0.83875013 0.19851445 0.49195473 0.34518078 0.12694231 0.56620678 0.2065627  0.53573569 0.61183511 0.37585391 0.22998103 0.17512388 0.79350631 0.37791215 0.23433199 0.3694354  0.07676682 0.32104559 0.86446764 0.67693296 0.52937614 0.18403467 0.13010717 0.58157922 0.35809246 0.44012355 1.01157547 0.20984272 0.63235249 0.67519421 0.27494278 0.06094038 0.54749661 0.06863964 0.17245157 0.9259703  0.92710568 0.37306961 0.7465195  0.35694332 0.85744354 0.73882984 0.15595886 0.34073312 0.54704816 0.33748356 0.65980325 0.13413343 0.657541   0.88832784 0.64592854 0.47919485 0.62498854 0.32464751 0.5473512  0.29029636 0.33246853 0.8595094  0.79103744 0.58504006 0.90980533 0.         0.34356091 0.47718889 0.31823694 0.43146739 0.6790611  0.58525702 0.53231252 0.45827611 0.62797012 0.44842482 0.72258185 0.68473508 0.87395067 0.82589471 0.88894481 0.8962754  0.46128159 0.57630793 0.93760553 0.86177649 0.95019266\n",
      "  0.44781081 0.2529905  0.46135294 0.937359   0.54866777 0.17448734 0.38788927 0.8655091  0.23962701 0.42556197]\n",
      " [0.7775086  1.0708563  0.12677847 0.64312066 0.21288672 0.53989054 0.56943651 0.7601094  0.23177725 0.28663583 0.43914151 0.38972505 0.70666567 0.26296763 0.87397911 0.59622398 0.22806734 0.18081602 0.21311969 0.6504719  0.21369424 0.5546168  0.13210517 0.29511062 0.61230719 0.87913718 0.7646394  0.56369854 0.43146324 0.47324395 0.89599919 0.04001415 0.56195923 1.13274704 0.13373955 0.76011834 0.69457548 0.44431928 0.35606862 0.86498786 0.35353674 0.50845988 0.96247374 1.0519261  0.44152675 0.90674242 0.69804137 0.98853784 0.605693   0.28230397 0.23600651 0.85306362 0.44362968 0.64064748 0.21043856 0.80172762 0.7183542  0.84002829 0.45048357 0.739989   0.2945269  0.61196604 0.1763095  0.09601178 0.67267852 0.72625147 0.84135296 0.90146475 0.34356091 0.         0.67953564 0.04150107 0.58455207 0.76824058 0.7525687  0.65788396 0.28366454 0.670664   0.77951543 0.83455873 0.88029563 0.79680838 0.66981135 1.02236756 0.74774634 0.76576084 0.63561261 1.02852142 0.96714204 1.00686422\n",
      "  0.37308147 0.5802114  0.73913664 1.06884609 0.5971103  0.16993035 0.43304248 0.99036041 0.30644044 0.73073065]\n",
      " [0.44441299 0.43623344 0.67353267 0.39512958 0.69970125 0.38397646 0.35817667 0.61040949 0.65816293 0.59689798 0.25683539 0.35236502 0.1386643  0.41770075 0.48107684 0.3910963  0.52032499 0.49905836 0.47846493 0.66914374 0.53616988 0.31898579 0.60232314 0.45017896 0.22307196 0.50814472 0.27868825 0.2944614  0.29429425 0.43577449 0.37028313 0.6650274  0.16307418 0.54527956 0.58390055 0.19768527 0.37107622 0.23678395 0.53192993 0.36251304 0.41245357 0.38509614 0.53402168 0.4619722  0.27286723 0.27267345 0.42784986 0.39210503 0.62027851 0.62909729 0.48434965 0.31470076 0.24717252 0.41759755 0.52850035 0.20031705 0.77479606 0.16969155 0.37981654 0.20879917 0.41384353 0.2512752  0.7273711  0.60261753 0.77839715 0.55857799 0.19199844 0.57219421 0.47718889 0.67953564 0.         0.68127624 0.11573535 0.27826144 0.11925695 0.14907013 0.55375765 0.3133731  0.38277114 0.28515858 0.2094595  0.63383254 0.70977363 0.42109485 0.7496784  0.26710469 0.26759334 0.49372316 0.41299164 0.53475059\n",
      "  0.43775381 0.33539237 0.18047812 0.4687284  0.27659575 0.57251557 0.29678839 0.40325145 0.37335097 0.25892291]\n",
      " [0.75506091 1.08139068 0.08598905 0.62088739 0.17151918 0.56472057 0.59274379 0.79254836 0.1921776  0.32382392 0.44832067 0.37628979 0.71638793 0.26369989 0.85238691 0.62129493 0.25623147 0.18385233 0.20597726 0.68707147 0.24315237 0.53704732 0.16613853 0.27692601 0.60055392 0.90406761 0.7810495  0.58303701 0.42180207 0.44834312 0.8816066  0.07999315 0.57143596 1.14797751 0.11195057 0.7719602  0.71741145 0.44467859 0.32528003 0.84977755 0.33524185 0.48680114 0.98579734 1.06633912 0.4538028  0.91604445 0.67478774 1.00186248 0.64127417 0.24463188 0.25856003 0.84033024 0.45153503 0.66666321 0.18846823 0.81207218 0.75696971 0.84454067 0.4740398  0.75307282 0.31129599 0.62887934 0.1353404  0.1245097  0.71203432 0.75729054 0.83717909 0.92870466 0.31823694 0.04150107 0.68127624 0.         0.59081272 0.78452644 0.75961052 0.66866671 0.31778721 0.69080042 0.76042341 0.84893958 0.88493867 0.82935634 0.70738365 1.03562115 0.78520156 0.75290557 0.65348152 1.04658762 0.9832581  1.02841244\n",
      "  0.39934018 0.56133091 0.73081401 1.08257786 0.61553045 0.14392164 0.44773323 1.00441779 0.31094923 0.71753194]\n",
      " [0.50714817 0.49570521 0.59367583 0.42983882 0.63093106 0.27857686 0.25790905 0.52707428 0.59364201 0.48225134 0.14862995 0.30507061 0.1355505  0.32902603 0.56001935 0.29506735 0.41043332 0.4069604  0.39537365 0.56709732 0.426736   0.33121312 0.4972246  0.38842694 0.26039931 0.46603512 0.25240003 0.19310172 0.25089317 0.42238427 0.47057605 0.56632771 0.05015494 0.58242671 0.50150227 0.20097342 0.2999431  0.16078208 0.49077895 0.45756204 0.36308397 0.38188981 0.51099492 0.49802741 0.15954267 0.3284075  0.47342268 0.4291113  0.51608331 0.57335984 0.37653325 0.41478247 0.14172067 0.3289812  0.45576624 0.22996057 0.67353032 0.25645884 0.26521769 0.1944239  0.30602886 0.16481716 0.6520096  0.50203846 0.67292351 0.47443139 0.3074869  0.52357709 0.43146739 0.58455207 0.11573535 0.59081272 0.         0.25380973 0.16896558 0.10272551 0.43945464 0.24206445 0.45464659 0.29120689 0.29641082 0.55429655 0.60750941 0.46159251 0.65309856 0.35327495 0.18886643 0.50655878 0.43030916 0.5261587\n",
      "  0.32209222 0.3558163  0.27401542 0.50998484 0.18433197 0.49598498 0.18204985 0.43588202 0.27990153 0.33599746]\n",
      " [0.72250514 0.32834861 0.80619673 0.66809037 0.85686587 0.27283649 0.23436612 0.3796061  0.8248812  0.57951117 0.34920173 0.55466691 0.13979207 0.54199174 0.75411955 0.23753966 0.55469925 0.60758646 0.6120574  0.49016729 0.5716714  0.57904592 0.65523631 0.6278031  0.49451846 0.23093591 0.00434701 0.21023963 0.50285548 0.67614034 0.62445919 0.74107043 0.23900316 0.36497221 0.7136959  0.08839699 0.15016256 0.40412127 0.73942055 0.62452883 0.61044329 0.63440025 0.25953853 0.28622234 0.33444722 0.20098979 0.70447991 0.22893684 0.45538691 0.81249912 0.53483514 0.57186333 0.35175474 0.23021375 0.68260158 0.12350233 0.58529493 0.24613204 0.33632371 0.06954501 0.4738774  0.15643882 0.8692529  0.67513605 0.60670915 0.33419486 0.40742826 0.29690561 0.6790611  0.76824058 0.27826144 0.78452644 0.25380973 0.         0.1790794  0.15146034 0.54611767 0.12162457 0.65958589 0.07661461 0.26261716 0.39345732 0.52847731 0.26215716 0.54515764 0.53993509 0.13516566 0.26463064 0.19890209 0.2725494\n",
      "  0.41956687 0.60072481 0.45209923 0.30541312 0.17450525 0.71668788 0.33704943 0.22681337 0.48960549 0.5356779 ]\n",
      " [0.55200877 0.32940356 0.76205183 0.51253544 0.79657629 0.36392054 0.33031569 0.54497441 0.75763611 0.62672272 0.31402791 0.45862053 0.06578011 0.49796607 0.57744316 0.35347382 0.56878989 0.57577283 0.56392037 0.63057502 0.58559112 0.43817324 0.6603637  0.5503445  0.34173167 0.40858319 0.1807701  0.27544046 0.40123119 0.55286144 0.44542373 0.73313392 0.19349345 0.42887503 0.67012606 0.09094705 0.30315721 0.32556944 0.64210667 0.44564646 0.5184655  0.50339633 0.42354679 0.34491707 0.31770015 0.16204972 0.5424388  0.27488403 0.58728604 0.7333526  0.53803117 0.39280525 0.30894249 0.36719839 0.62218337 0.08139299 0.73266028 0.09923181 0.3885212  0.11316501 0.46845093 0.21774225 0.81958004 0.66819412 0.74493962 0.49570409 0.23092137 0.47548943 0.58525702 0.7525687  0.11925695 0.75961052 0.16896558 0.1790794  0.         0.11355004 0.58628305 0.25153722 0.48640174 0.16934388 0.13525511 0.56332697 0.6707644  0.30505807 0.69971931 0.36423598 0.22129166 0.37458359 0.29377213 0.41906663\n",
      "  0.46105444 0.45456765 0.27682288 0.35322173 0.24610898 0.66353776 0.33456982 0.28514249 0.4487887  0.36334501]\n",
      " [0.5868244  0.41299766 0.67988174 0.52195897 0.72311388 0.25334348 0.22186012 0.46168342 0.68798286 0.51504031 0.22075451 0.40654282 0.05155942 0.41325833 0.62891611 0.24964149 0.46305404 0.48624693 0.48213967 0.52907714 0.48005833 0.42902829 0.55792316 0.48566673 0.34908322 0.37041944 0.15026003 0.16351727 0.35321626 0.5247595  0.51796214 0.63548085 0.09865656 0.4872011  0.58702626 0.10452831 0.22206202 0.2586025  0.59208899 0.51136212 0.46373109 0.48305262 0.40996893 0.40337554 0.21671813 0.24984247 0.56156075 0.33607198 0.48295082 0.6709814  0.43499292 0.46270045 0.21929616 0.27124491 0.5476491  0.14390045 0.63337519 0.21277196 0.27514016 0.09271716 0.36716334 0.10931357 0.74052704 0.56971271 0.64137101 0.41008045 0.32213805 0.43121036 0.53231252 0.65788396 0.14907013 0.66866671 0.10272551 0.15146034 0.11355004 0.         0.47536604 0.1643086  0.52831658 0.19104258 0.24782727 0.48477944 0.56963477 0.36941638 0.6050032  0.41561607 0.12047932 0.40533621 0.33059976 0.42352281\n",
      "  0.34905578 0.45178318 0.32947681 0.41730672 0.13715007 0.58531747 0.2293575  0.3409142  0.36169905 0.40525597]\n",
      " [0.81370698 0.87031023 0.38306068 0.6889833  0.46556154 0.28393386 0.31966708 0.47689022 0.46223253 0.04421531 0.3010353  0.41754491 0.52687059 0.25937052 0.89748293 0.33640211 0.08317855 0.23412998 0.2854348  0.37171103 0.08577024 0.5773972  0.1518456  0.38230617 0.58658066 0.61379202 0.54199262 0.33681178 0.42365853 0.55973939 0.86469097 0.24519701 0.39842533 0.90618488 0.31902495 0.56389324 0.44167288 0.36593498 0.50326507 0.84146674 0.42219816 0.56674913 0.70220721 0.83105106 0.28095491 0.71850171 0.74651367 0.77492305 0.32408201 0.49017653 0.11850457 0.81248824 0.31329204 0.37526864 0.35285795 0.61215398 0.45021946 0.68422309 0.20998235 0.53755911 0.16357788 0.39552531 0.44615662 0.19467665 0.41221299 0.44484575 0.74222215 0.62824362 0.45827611 0.28366454 0.55375765 0.31778721 0.43945464 0.54611767 0.58628305 0.47536604 0.         0.43224725 0.79030335 0.62019046 0.72152429 0.51348387 0.39530316 0.80825785 0.47214555 0.73234548 0.41179411 0.79004028 0.73947895 0.75320177\n",
      "  0.12791411 0.60882758 0.6761281  0.85113814 0.37288804 0.3491394  0.25741748 0.77279334 0.25301068 0.70270495]\n",
      " [0.74640314 0.44937476 0.72148925 0.6717041  0.77996125 0.15272171 0.11453509 0.29793211 0.75263865 0.46327141 0.2834799  0.51060141 0.18993363 0.46539284 0.79221752 0.11631253 0.44951691 0.52162983 0.53475804 0.38162157 0.46611225 0.57035049 0.5512013  0.56762122 0.50222319 0.23662932 0.11727757 0.10827465 0.46600242 0.64773681 0.68160347 0.64068371 0.20556531 0.47394182 0.63073871 0.17830098 0.05845945 0.35965918 0.68889316 0.67559952 0.56076151 0.61423439 0.30251848 0.39982716 0.25943328 0.31896526 0.71539801 0.3475157  0.34192432 0.74784609 0.43475058 0.62655263 0.29050185 0.11704341 0.60994641 0.22662733 0.48196801 0.33997947 0.22524157 0.14776428 0.38036786 0.08259737 0.78630973 0.57559361 0.49732451 0.24688766 0.47904016 0.28662531 0.62797012 0.670664   0.3133731  0.69080042 0.24206445 0.12162457 0.25153722 0.1643086  0.43224725 0.         0.69019814 0.19819786 0.36478619 0.3204743  0.4213184  0.37995955 0.44818478 0.57953466 0.05447687 0.36001861 0.30734261 0.33857129\n",
      "  0.3085235  0.59634093 0.49371856 0.42075702 0.08026015 0.63887764 0.25318665 0.34335236 0.41407684 0.56797594]\n",
      " [0.0718533  0.72197036 0.70953933 0.15084887 0.68760056 0.72589273 0.7101655  0.98148576 0.63862387 0.83342132 0.51739633 0.39547646 0.52096207 0.5531418  0.10894343 0.74877632 0.72466351 0.62277359 0.57419848 1.01329091 0.73507244 0.22579125 0.76533301 0.48446558 0.2091151  0.8902945  0.66032752 0.64594939 0.37057593 0.32459397 0.15689593 0.78510027 0.50132355 0.85987017 0.64865367 0.57501804 0.74863216 0.43072711 0.46656541 0.12088446 0.42599997 0.27597648 0.90991505 0.78562394 0.5499719  0.59477955 0.11906814 0.72177175 0.95990685 0.58464862 0.68252265 0.15444129 0.50290401 0.7836204  0.57197626 0.56388221 1.11964439 0.47152447 0.68711549 0.5900895  0.62672673 0.61826314 0.73586513 0.74194429 1.11210456 0.9288858  0.30935751 0.95486925 0.44842482 0.77951543 0.38277114 0.76042341 0.45464659 0.65958589 0.48640174 0.52831658 0.79030335 0.69019814 0.         0.65452731 0.49252988 1.00793144 1.0529491  0.74244939 1.10406603 0.12501913 0.63990987 0.84391391 0.76381282 0.90200523\n",
      "  0.71157711 0.19931171 0.20999236 0.78371672 0.63894459 0.61768276 0.57808867 0.7374756  0.54097759 0.12394913]\n",
      " [0.72090889 0.252009   0.86607588 0.68026502 0.91251598 0.3492796  0.31080635 0.43877359 0.87829287 0.65443093 0.4061643  0.5962775  0.15878591 0.59999569 0.74263038 0.31387357 0.62526517 0.66931393 0.66963745 0.56013397 0.64232269 0.60035447 0.72491723 0.67669372 0.50800173 0.25570975 0.08095763 0.28343648 0.54171696 0.70719758 0.6015339  0.80880223 0.28806005 0.29944224 0.77322734 0.09174211 0.22228756 0.44957858 0.7819854  0.60596991 0.65410796 0.66138244 0.25629591 0.21743105 0.3956544  0.13177423 0.71150538 0.15546251 0.52780859 0.86200814 0.60337259 0.55170464 0.40671923 0.30418648 0.73725411 0.09092203 0.65219562 0.20570209 0.41020814 0.09879914 0.54013926 0.22646632 0.92794541 0.74272672 0.67656554 0.39689466 0.37881828 0.32447185 0.72258185 0.83455873 0.28515858 0.84893958 0.29120689 0.07661461 0.16934388 0.19104258 0.62019046 0.19819786 0.65452731 0.         0.21184061 0.44830189 0.5975736  0.18919553 0.6091728  0.53121416 0.20839847 0.21561039 0.13955727 0.24990823\n",
      "  0.49299219 0.6190113  0.444555   0.23454603 0.24738199 0.77365248 0.40159534 0.15586067 0.54781807 0.53206433]\n",
      " [0.56345411 0.23930437 0.88136249 0.55607695 0.90912253 0.49250382 0.45704455 0.64219444 0.86760084 0.76196754 0.44456618 0.56108847 0.19745761 0.62152415 0.56542102 0.47541897 0.70270277 0.70138867 0.68482613 0.74607158 0.71939908 0.50520441 0.7926745  0.65963495 0.40065736 0.4667048  0.2659926  0.40639741 0.50304536 0.63201288 0.4092916  0.86269782 0.3269195  0.36880981 0.79081567 0.18650474 0.40822413 0.44311663 0.73790965 0.42053229 0.62106131 0.57744107 0.45434434 0.29309554 0.45092086 0.10612078 0.57343943 0.23028452 0.70651166 0.83780649 0.67093229 0.36553369 0.43812662 0.48167743 0.73741538 0.14011885 0.84461412 0.04043654 0.52290083 0.2170345  0.60086782 0.34671631 0.93619563 0.79844291 0.8620288  0.59658439 0.18792355 0.53546357 0.68473508 0.88029563 0.2094595  0.88493867 0.29641082 0.26261716 0.13525511 0.24782727 0.72152429 0.36478619 0.49252988 0.21184061 0.         0.65515912 0.78545172 0.24991952 0.80666901 0.36822099 0.34527874 0.35750596 0.28078779 0.42969587\n",
      "  0.59624816 0.51432972 0.29198669 0.29191575 0.37478786 0.78090205 0.46891308 0.2468502  0.57437356 0.3802504 ]\n",
      " [1.06142504 0.64853058 0.8866707  0.97668927 0.96268684 0.3134351  0.31223869 0.03691101 0.94875005 0.51851686 0.54431631 0.77487094 0.50680592 0.67764254 1.11139505 0.27062027 0.57536305 0.70322631 0.73705771 0.19511962 0.58694937 0.86881147 0.66470941 0.80225121 0.81306949 0.23198147 0.39042469 0.37050893 0.74245071 0.92421817 1.0015349  0.7586502  0.51044378 0.59794425 0.80872597 0.47788155 0.26328569 0.63668715 0.93228943 0.99604002 0.81339223 0.90095384 0.31448671 0.55827557 0.5111062  0.5788307  1.024283   0.54136478 0.21053325 0.96132812 0.58461267 0.94669367 0.55627138 0.22796723 0.81568014 0.51694933 0.23915241 0.63948273 0.39527637 0.45103753 0.56341078 0.38978339 0.95197216 0.70491643 0.28529511 0.08377415 0.79410886 0.1895654  0.87395067 0.79680838 0.63383254 0.82935634 0.55429655 0.39345732 0.56332697 0.48477944 0.51348387 0.3204743  1.00793144 0.44830189 0.65515912 0.         0.21245359 0.56303036 0.18251354 0.89955516 0.36832554 0.46814773 0.4716368  0.38124584\n",
      "  0.4438288  0.89734821 0.81409778 0.58321154 0.37058844 0.82974315 0.49065376 0.52744834 0.63579209 0.88684022]\n",
      " [1.0959431  0.8262765  0.77750267 0.99173388 0.86078177 0.32909753 0.35164992 0.19244633 0.85689509 0.38356613 0.54359091 0.7506297  0.60654018 0.61948293 1.1610184  0.32004128 0.47329206 0.62020298 0.6651759  0.04063796 0.47980972 0.87800114 0.54250012 0.74959521 0.84602567 0.42936715 0.52453474 0.41591453 0.73296947 0.90308714 1.07738366 0.62988554 0.55780134 0.79515748 0.71346838 0.59908574 0.37863571 0.63785899 0.87850442 1.06507141 0.77539709 0.89289676 0.5188334  0.74585879 0.50917365 0.72834048 1.04511153 0.71751801 0.09329954 0.88158727 0.49643788 1.02152297 0.55776247 0.30431831 0.73947363 0.64599005 0.0667507  0.76129028 0.37156998 0.56880184 0.50126621 0.46081986 0.83938352 0.58787186 0.07989934 0.21133386 0.89176555 0.39853653 0.82589471 0.66981135 0.70977363 0.70738365 0.60750941 0.52847731 0.6707644  0.56963477 0.39530316 0.4213184  1.0529491  0.5975736  0.78545172 0.21245359 0.         0.74353373 0.07802944 0.96000597 0.45081409 0.66417186 0.653681   0.58498832\n",
      "  0.37909813 0.9090223  0.88138648 0.77053251 0.4340181  0.74175978 0.48245118 0.70622304 0.59003543 0.94021421]\n",
      " [0.81333111 0.08603228 1.04926206 0.80006946 1.09152801 0.53268063 0.49442806 0.56421969 1.0550798  0.84154022 0.58955947 0.76203641 0.32646888 0.78263949 0.81330609 0.49163112 0.81445529 0.85453454 0.85154528 0.70958604 0.83151505 0.73782859 0.91399647 0.84987701 0.63664684 0.33413594 0.26630565 0.47194689 0.70517917 0.856835   0.65238197 0.99727855 0.46806601 0.12419696 0.95639001 0.26492183 0.39028064 0.62236983 0.94648451 0.66688409 0.82148763 0.80591305 0.27672188 0.04319179 0.58181837 0.15171555 0.82099559 0.03384999 0.6858164  1.03446168 0.79224234 0.61227007 0.58865663 0.47290351 0.91606095 0.2319225  0.79036893 0.27421692 0.59839271 0.28255996 0.72828739 0.4156318  1.10989764 0.93119018 0.82341828 0.53307225 0.43615523 0.39376818 0.88894481 1.02236756 0.42109485 1.03562115 0.46159251 0.26215716 0.30505807 0.36941638 0.80825785 0.37995955 0.74244939 0.18919553 0.24991952 0.56303036 0.74353373 0.         0.74014649 0.61806642 0.39677592 0.12970717 0.09139362 0.22585455\n",
      "  0.6814995  0.75108641 0.54008031 0.0484521  0.43598526 0.95451528 0.58937472 0.03782822 0.73094658 0.62905356]\n",
      " [1.15001537 0.82482368 0.85479037 1.05021855 0.93770563 0.37834746 0.39519435 0.17593608 0.9329926  0.46138025 0.60235782 0.81636667 0.6374543  0.690413   1.21126419 0.35910935 0.54910139 0.69464794 0.73839842 0.10303928 0.55614904 0.93732002 0.62011332 0.82038088 0.89931719 0.41327185 0.54151526 0.45999787 0.79556393 0.96898691 1.11956857 0.70783533 0.60435471 0.78007001 0.78956028 0.62214751 0.39900243 0.69728992 0.94997722 1.10931544 0.84384055 0.95610379 0.49699462 0.73794058 0.56771518 0.74094294 1.10242578 0.71659229 0.15747543 0.95650415 0.57080446 1.06379428 0.61620091 0.33403684 0.81356781 0.66655377 0.06006505 0.78569699 0.43229737 0.59274348 0.57186821 0.49846099 0.91692983 0.6653039  0.11582427 0.2123162  0.92586672 0.37157491 0.8962754  0.74774634 0.7496784  0.78520156 0.65309856 0.54515764 0.69971931 0.6050032  0.47214555 0.44818478 1.10406603 0.6091728  0.80666901 0.18251354 0.07802944 0.74014649 0.         1.00634004 0.48458742 0.64989868 0.64898786 0.56375315\n",
      "  0.44848297 0.96792179 0.92525416 0.7628548  0.47329353 0.81721149 0.54201511 0.70372407 0.65864465 0.98848932]\n",
      " [0.19527992 0.60014712 0.71452248 0.21484873 0.70774595 0.63092988 0.61117268 0.87491997 0.65941603 0.77641504 0.44147999 0.37666054 0.40303447 0.5181062  0.21442937 0.6478222  0.67537571 0.59541083 0.55338399 0.9197404  0.68785782 0.22760578 0.73064216 0.47809346 0.15412696 0.77086417 0.54093818 0.54635212 0.336002   0.35585805 0.13345359 0.7649519  0.40245039 0.73633646 0.64178749 0.45395386 0.63759458 0.36643698 0.49401616 0.10948307 0.42148912 0.29860486 0.78715144 0.66125599 0.47107025 0.46988497 0.21415289 0.59698489 0.86793029 0.61153746 0.63378877 0.08742526 0.42740591 0.67913099 0.56839956 0.44036942 1.02626798 0.34654088 0.60351679 0.47075833 0.5711039  0.51221983 0.75078805 0.71422218 1.02340812 0.82265389 0.18846508 0.83643389 0.46128159 0.76576084 0.26710469 0.75290557 0.35327495 0.53993509 0.36423598 0.41561607 0.73234548 0.57953466 0.12501913 0.53121416 0.36822099 0.89955516 0.96000597 0.61806642 1.00634004 0.         0.53157107 0.71890222 0.63884429 0.77776378\n",
      "  0.63951835 0.21516239 0.087839   0.65986341 0.53505016 0.61590293 0.49924487 0.61258526 0.49487415 0.03580253]\n",
      " [0.69484553 0.45926471 0.6797455  0.6179738  0.73522478 0.14892641 0.11213774 0.34339283 0.70629023 0.44627986 0.23329821 0.45763701 0.15614837 0.41976104 0.74306952 0.13218741 0.41978961 0.48001308 0.48962791 0.41039884 0.43672466 0.51603422 0.52061274 0.51761083 0.44926302 0.28950176 0.13120226 0.07517348 0.41219119 0.59359888 0.63765376 0.60746028 0.15113916 0.4994865  0.58807541 0.16347696 0.11122813 0.30624566 0.63724792 0.62995998 0.5087179  0.55978646 0.35085626 0.42136915 0.2117847  0.31516231 0.66225783 0.3633019  0.36609517 0.69930896 0.40100707 0.58219398 0.23932849 0.15076788 0.56343811 0.21384258 0.51387113 0.31607362 0.20181223 0.13357583 0.3421899  0.02897679 0.74391109 0.54171071 0.52401365 0.29126795 0.44176837 0.34092499 0.57630793 0.63561261 0.26759334 0.65348152 0.18886643 0.13516566 0.22129166 0.12047932 0.41179411 0.05447687 0.63990987 0.20839847 0.34527874 0.36832554 0.45081409 0.39677592 0.48458742 0.53157107 0.         0.39313397 0.3327775  0.38200545\n",
      "  0.28473639 0.5421898  0.44685712 0.4405259  0.03934219 0.59420898 0.20905019 0.36184878 0.36783032 0.51852072]\n",
      " [0.91328463 0.20801233 1.07050889 0.88595508 1.12141302 0.50638751 0.47041005 0.47585499 1.08897994 0.81834853 0.61368749 0.81155642 0.37417119 0.8066219  0.92204596 0.4568299  0.80941808 0.87148918 0.87668784 0.6339884  0.8260663  0.81210945 0.91101784 0.88988502 0.7162355  0.2366736  0.26766715 0.46507546 0.7572593  0.92203243 0.76651909 0.99965289 0.5001927  0.13098732 0.97812846 0.30711503 0.35039489 0.66373554 0.99722797 0.77795413 0.86904703 0.87517284 0.16014906 0.1025863  0.59890833 0.25161435 0.91270476 0.13240808 0.61873051 1.07505145 0.79326559 0.72292397 0.61584505 0.42693865 0.94693503 0.29341957 0.70402503 0.37288643 0.58516223 0.31262906 0.7353116  0.4179698  1.1337708  0.93416639 0.74308576 0.45357926 0.54516515 0.28562014 0.93760553 1.02852142 0.49372316 1.04658762 0.50655878 0.26463064 0.37458359 0.40533621 0.79004028 0.36001861 0.84391391 0.21561039 0.35750596 0.46814773 0.66417186 0.12970717 0.64989868 0.71890222 0.39313397 0.         0.08111777 0.10013764\n",
      "  0.66822667 0.82911356 0.63618254 0.12542807 0.43141901 0.98131194 0.6003935  0.11391037 0.75423576 0.72553769]\n",
      " [0.83291069 0.17710393 1.00328101 0.80485025 1.05127179 0.45877329 0.42123994 0.47305181 1.01750279 0.77049907 0.54410416 0.73529062 0.29632932 0.73783314 0.84340683 0.41376648 0.75244732 0.80543346 0.80768492 0.6203437  0.76933903 0.7316409  0.85338639 0.81624601 0.63529749 0.2432297  0.20251494 0.40705677 0.68029171 0.84283632 0.69000853 0.93983581 0.42735424 0.16696777 0.91055211 0.22958942 0.30936849 0.58911112 0.92098756 0.70025107 0.79336865 0.79533846 0.19264692 0.0951772  0.53176042 0.17473419 0.83165794 0.07364423 0.5983714  1.00155963 0.73349889 0.6451979  0.54524548 0.39067781 0.87617505 0.21281057 0.69960231 0.29361481 0.53115915 0.23822812 0.67276682 0.3552572  1.06570133 0.87394197 0.73351074 0.44278464 0.46746706 0.30434747 0.86177649 0.96714204 0.41299164 0.9832581  0.43030916 0.19890209 0.29377213 0.33059976 0.73947895 0.30734261 0.76381282 0.13955727 0.28078779 0.4716368  0.653681   0.09139362 0.64898786 0.63884429 0.3327775  0.08111777 0.         0.15245055\n",
      "  0.61468105 0.7483394  0.55561394 0.11867333 0.37196559 0.91197057 0.53559218 0.05701364 0.68552441 0.64491082]\n",
      " [0.96939184 0.30729607 1.06000508 0.92985297 1.11715496 0.47091659 0.43837567 0.39338671 1.0881812  0.77732625 0.61343586 0.82663834 0.40316456 0.80175883 0.98642801 0.41687912 0.78221416 0.86012006 0.87158452 0.55778583 0.79827276 0.84716535 0.88384006 0.89623393 0.75714705 0.15709145 0.27424595 0.44684566 0.77532606 0.94819353 0.83739531 0.97544107 0.51031156 0.22042281 0.96901961 0.33817921 0.31326157 0.67543557 1.01078893 0.84568748 0.88167949 0.90524692 0.06675916 0.20254551 0.59368991 0.32462372 0.9614031  0.22116774 0.548824   1.07968336 0.77096243 0.79075029 0.61789076 0.37952581 0.94533226 0.33897003 0.6198587  0.438005   0.55696046 0.33450844 0.71874385 0.40975844 1.12470747 0.91120111 0.66243374 0.37826112 0.61377207 0.19334067 0.95019266 1.00686422 0.53475059 1.02841244 0.5261587  0.2725494  0.41906663 0.42352281 0.75320177 0.33857129 0.90200523 0.24990823 0.42969587 0.38124584 0.58498832 0.22585455 0.56375315 0.77776378 0.38200545 0.10013764 0.15245055 0.\n",
      "  0.63763829 0.86704057 0.69216976 0.2255652  0.41693913 0.97609845 0.59044015 0.20254403 0.74982851 0.78050126]\n",
      " [0.74400291 0.7426019  0.44700465 0.62843051 0.51992769 0.16741824 0.19947336 0.40711398 0.50492268 0.16604008 0.19808249 0.37374067 0.40039892 0.24243133 0.82036379 0.22337337 0.14544301 0.2594051  0.29552108 0.34581502 0.16099034 0.51407076 0.24648551 0.3720929  0.50301197 0.50614997 0.41549918 0.20958616 0.36265983 0.52547512 0.7689947  0.33940584 0.27763312 0.78162154 0.36558336 0.4360451  0.32437728 0.28102793 0.50209498 0.74892091 0.39630571 0.51945269 0.5906243  0.70526809 0.17044625 0.59069535 0.6843344  0.64803824 0.29102299 0.51895005 0.14325314 0.71497559 0.21211245 0.26760913 0.37344086 0.4844651  0.44292508 0.55965425 0.0835223  0.40964502 0.1239747  0.2677389  0.51290641 0.27714095 0.41970817 0.36581345 0.62889559 0.52938153 0.44781081 0.37308147 0.43775381 0.39934018 0.32209222 0.41956687 0.46105444 0.34905578 0.12791411 0.3085235  0.71157711 0.49299219 0.59624816 0.4438288  0.37909813 0.6814995  0.44848297 0.63951835 0.28473639 0.66822667 0.61468105 0.63763829\n",
      "  0.         0.54576281 0.57516304 0.72492734 0.24561586 0.38591605 0.14333806 0.64637977 0.21096184 0.6128188 ]\n",
      " [0.20628336 0.75346422 0.5127321  0.08290929 0.49731457 0.59375755 0.58665343 0.86680685 0.44851304 0.65056379 0.36572642 0.19937997 0.46415831 0.36072002 0.29718983 0.62784555 0.53774509 0.42620127 0.37620381 0.87105981 0.54664919 0.03174514 0.57025507 0.28515467 0.11447881 0.82117996 0.60015313 0.5268425  0.18563236 0.14069712 0.32907147 0.58624107 0.39148522 0.87484561 0.44948231 0.52894691 0.65321878 0.2711637  0.28002299 0.29463803 0.22668839 0.08383055 0.86025176 0.79312235 0.40032025 0.59972127 0.1387468  0.72396853 0.81597827 0.39828513 0.49592072 0.29766811 0.35176478 0.66942351 0.37296822 0.53570816 0.9754683  0.48132518 0.53745248 0.53398642 0.4467343  0.51581763 0.54301097 0.5447149  0.96052931 0.81459669 0.3708351  0.87939042 0.2529905  0.5802114  0.33539237 0.56133091 0.3558163  0.60072481 0.45456765 0.45178318 0.60882758 0.59634093 0.19931171 0.6190113  0.51432972 0.89734821 0.9090223  0.75108641 0.96792179 0.21516239 0.5421898  0.82911356 0.7483394  0.86704057\n",
      "  0.54576281 0.         0.23972636 0.79748995 0.52994121 0.41903357 0.42662197 0.7363096  0.35592361 0.18070628]\n",
      " [0.27754735 0.52901345 0.70182605 0.26700881 0.70582643 0.55258069 0.53073045 0.79017851 0.65892285 0.72034025 0.37807172 0.35867209 0.31535262 0.48189619 0.30219429 0.56618057 0.62573321 0.56254476 0.52626068 0.84092092 0.63943473 0.24063061 0.69012224 0.463861   0.14061971 0.68303062 0.45309918 0.46598205 0.30909872 0.37445208 0.19695011 0.7339184  0.3239999  0.66062142 0.62225431 0.36624659 0.55152846 0.31451103 0.50290391 0.18406139 0.41122234 0.31625494 0.70013372 0.58320131 0.40484673 0.38983278 0.28145275 0.51724287 0.79009644 0.61643506 0.58521254 0.14143449 0.3646899  0.59567054 0.55304625 0.35388986 0.94726525 0.26620001 0.53218072 0.38292157 0.51896381 0.42866837 0.74443358 0.67875001 0.94682974 0.73812411 0.13111665 0.74860651 0.46135294 0.73913664 0.18047812 0.73081401 0.27401542 0.45209923 0.27682288 0.32947681 0.6761281  0.49371856 0.20999236 0.444555   0.29198669 0.81409778 0.88138648 0.54008031 0.92525416 0.087839   0.44685712 0.63618254 0.55561394 0.69216976\n",
      "  0.57516304 0.23972636 0.         0.5834894  0.45245764 0.60055131 0.43249865 0.53214433 0.45142801 0.08942028]\n",
      " [0.85493406 0.08668573 1.09701999 0.84513121 1.13973832 0.57326373 0.53526054 0.58718207 1.10341308 0.88360584 0.63714269 0.81045723 0.37478633 0.83041718 0.8516725  0.53022207 0.8593647  0.90187054 0.89943814 0.73783494 0.8763933  0.78472499 0.95930979 0.89830035 0.68301363 0.35168423 0.30944943 0.51564567 0.75356715 0.90450241 0.68852373 1.04332532 0.51596211 0.07747558 1.00413507 0.31277894 0.42692474 0.67076595 0.99484658 0.70455674 0.86992453 0.85326849 0.28376418 0.02493656 0.62882313 0.19777722 0.86480591 0.0812389  0.71679918 1.08290637 0.8379027  0.65031949 0.63644246 0.50876532 0.9642592  0.28036888 0.81479799 0.3186324  0.64159179 0.32959185 0.77454575 0.46037568 1.15783372 0.97724525 0.85023685 0.55928086 0.47577253 0.40660718 0.937359   1.06884609 0.4687284  1.08257786 0.50998484 0.30541312 0.35322173 0.41730672 0.85113814 0.42075702 0.78371672 0.23454603 0.29191575 0.58321154 0.77053251 0.0484521  0.7628548  0.65986341 0.4405259  0.12542807 0.11867333 0.2255652\n",
      "  0.72492734 0.79748995 0.5834894  0.         0.47984421 1.00254685 0.63580454 0.07881014 0.7786367  0.67208051]\n",
      " [0.69105355 0.49769417 0.64340002 0.60777217 0.70050017 0.11796709 0.08475645 0.34280561 0.67267095 0.40785176 0.2037003  0.43283963 0.18033775 0.38554072 0.74393399 0.11451191 0.38051964 0.44352283 0.45508993 0.39338863 0.39744104 0.5025724  0.48143319 0.4875583  0.44251411 0.3158802  0.17054445 0.03607673 0.39022543 0.57289385 0.64627513 0.56862071 0.13995811 0.53873724 0.55213954 0.19749088 0.12800406 0.28314056 0.60955001 0.63644043 0.48181774 0.54201872 0.38264029 0.46071133 0.17917316 0.35100762 0.65421003 0.40246873 0.34620134 0.66758601 0.36215226 0.59050552 0.21127748 0.14469006 0.52991718 0.24767955 0.49855432 0.34346986 0.16294908 0.16859464 0.30428379 0.02836677 0.70789231 0.50295432 0.50467635 0.29014788 0.45836052 0.36272537 0.54866777 0.5971103  0.27659575 0.61553045 0.18433197 0.17450525 0.24610898 0.13715007 0.37288804 0.08026015 0.63894459 0.24738199 0.37478786 0.37058844 0.4340181  0.43598526 0.47329353 0.53505016 0.03934219 0.43141901 0.37196559 0.41693913\n",
      "  0.24561586 0.52994121 0.45245764 0.47984421 0.         0.55940754 0.17359632 0.40115038 0.33404525 0.51954898]\n",
      " [0.611178   0.99168683 0.10216178 0.47706183 0.14109419 0.53564509 0.55627462 0.79302766 0.11905318 0.3721166  0.36791787 0.24200003 0.62880268 0.17482036 0.70862461 0.59116407 0.2685769  0.12652326 0.10472711 0.71493517 0.26339045 0.39585197 0.22366637 0.13787485 0.46586835 0.86697045 0.71370254 0.53143542 0.29320953 0.30457085 0.74248762 0.18878697 0.48671643 1.07220006 0.03841418 0.68982351 0.6753156  0.33857623 0.18773091 0.7099002  0.194828   0.34320355 0.94095852 0.98861708 0.38322804 0.82432154 0.5308661  0.92130936 0.66360087 0.1412449  0.24798563 0.70318649 0.3669399  0.63918998 0.04763502 0.72472904 0.79872659 0.74059199 0.44406901 0.67519988 0.26985104 0.56691274 0.15605631 0.17917022 0.76129985 0.75113129 0.7136791  0.90128571 0.17448734 0.16993035 0.57251557 0.14392164 0.49598498 0.71668788 0.66353776 0.58531747 0.3491394  0.63887764 0.61768276 0.77365248 0.78090205 0.82974315 0.74175978 0.95451528 0.81721149 0.61590293 0.59420898 0.98131194 0.91197057 0.97609845\n",
      "  0.38591605 0.41903357 0.60055131 1.00254685 0.55940754 0.         0.38581599 0.92615793 0.22716448 0.58024242]\n",
      " [0.61607354 0.64010198 0.47078259 0.50928992 0.52690986 0.17725275 0.18391731 0.45673179 0.499583   0.30023483 0.06139626 0.28423786 0.28022497 0.21226981 0.68700607 0.22422617 0.23436946 0.27123244 0.28157776 0.4444485  0.25126029 0.39571375 0.32862925 0.32110045 0.36904218 0.48466194 0.33365728 0.14668734 0.25522558 0.43451738 0.6272947  0.40826598 0.14242368 0.70030541 0.37902523 0.3285438  0.29277889 0.15549423 0.44789996 0.60833405 0.32444323 0.4157901  0.55558998 0.6190147  0.02826926 0.47900924 0.56280201 0.55553649 0.38936098 0.49679059 0.20569447 0.57286969 0.07579699 0.27198298 0.35704345 0.37251413 0.54896933 0.43045209 0.11097315 0.30722578 0.13907793 0.18268181 0.53486175 0.3422175  0.53615485 0.40698439 0.48678493 0.52489528 0.38788927 0.43304248 0.29678839 0.44773323 0.18204985 0.33704943 0.33456982 0.2293575  0.25741748 0.25318665 0.57808867 0.40159534 0.46891308 0.49065376 0.48245118 0.58937472 0.54201511 0.49924487 0.20905019 0.6003935  0.53559218 0.59044015\n",
      "  0.14333806 0.42662197 0.43249865 0.63580454 0.17359632 0.38581599 0.         0.557346   0.16138849 0.4740006 ]\n",
      " [0.80770503 0.12116715 1.01992773 0.78832309 1.06397961 0.4960462  0.45788073 0.5278507  1.02835667 0.80562016 0.55986396 0.73857833 0.30033385 0.75343111 0.81227107 0.45437014 0.78055654 0.824136   0.82269502 0.67209803 0.79758638 0.72171468 0.88050857 0.82424416 0.62217161 0.30002222 0.23088508 0.43699529 0.6822596  0.83800239 0.65452254 0.96465942 0.43944754 0.1465813  0.92703497 0.23656365 0.35263084 0.59649953 0.92368087 0.66708809 0.7976488  0.78826817 0.2480783  0.06246233 0.55079368 0.14270046 0.81165674 0.01876167 0.64805703 1.00924187 0.75914887 0.61215896 0.55956173 0.43518746 0.88849583 0.20822019 0.75352744 0.26623734 0.56310804 0.25183553 0.69598007 0.38156713 1.08113976 0.89858536 0.78611751 0.49599032 0.43473901 0.36135319 0.8655091  0.99036041 0.40325145 1.00441779 0.43588202 0.22681337 0.28514249 0.3409142  0.77279334 0.34335236 0.7374756  0.15586067 0.2468502  0.52744834 0.70622304 0.03782822 0.70372407 0.61258526 0.36184878 0.11391037 0.05701364 0.20254403\n",
      "  0.64637977 0.7363096  0.53214433 0.07881014 0.40115038 0.92615793 0.557346   0.         0.70149138 0.62150645]\n",
      " [0.56127862 0.77260845 0.31843635 0.43599472 0.36780154 0.32659766 0.34076663 0.6002338  0.33863878 0.29466177 0.14168198 0.16707895 0.40761891 0.05238643 0.64691355 0.37897623 0.18368904 0.12712419 0.12246705 0.55632084 0.19451694 0.32458541 0.23877192 0.16647093 0.34324078 0.64595471 0.48659085 0.3080758  0.17137017 0.31617138 0.62832646 0.29207537 0.26325757 0.84698484 0.22554367 0.46605866 0.45399496 0.14098558 0.29675374 0.60194381 0.18536962 0.31607307 0.71659505 0.76387587 0.15626356 0.60633763 0.49350495 0.69746238 0.50122155 0.33581647 0.14154718 0.57920697 0.14246127 0.42742041 0.19587509 0.50369735 0.65382824 0.53402699 0.24051888 0.44982775 0.09370364 0.34019671 0.38019549 0.2313279  0.629013   0.55343981 0.5415808  0.68488837 0.23962701 0.30644044 0.37335097 0.31094923 0.27990153 0.48960549 0.4487887  0.36169905 0.25301068 0.41407684 0.54097759 0.54781807 0.57437356 0.63579209 0.59003543 0.73094658 0.65864465 0.49487415 0.36783032 0.75423576 0.68552441 0.74982851\n",
      "  0.21096184 0.35592361 0.45142801 0.7786367  0.33404525 0.22716448 0.16138849 0.70149138 0.         0.46267566]\n",
      " [0.18890337 0.61570177 0.67876029 0.18734516 0.67205208 0.61153497 0.59345442 0.86118423 0.62375876 0.74666132 0.41518904 0.34137644 0.39701756 0.48454787 0.22459437 0.63105597 0.64410245 0.56122957 0.51859298 0.90014595 0.65627908 0.19210581 0.69743262 0.44246284 0.12021405 0.76635236 0.53639974 0.52878823 0.3017423  0.32132866 0.16652821 0.73036748 0.38416563 0.74905917 0.60631285 0.45140257 0.62632803 0.33691487 0.45879014 0.13935224 0.38576068 0.26377871 0.78685969 0.6722059  0.44574254 0.47911285 0.19423725 0.60652268 0.84769306 0.5761288  0.60234626 0.12295234 0.40093789 0.6641381  0.5327602  0.44174446 1.00669086 0.35544605 0.58000284 0.46616884 0.54068995 0.49782496 0.71500134 0.68024608 1.00213456 0.80870384 0.20817608 0.83093798 0.42556197 0.73073065 0.25892291 0.71753194 0.33599746 0.5356779  0.36334501 0.40525597 0.70270495 0.56797594 0.12394913 0.53206433 0.3802504  0.88684022 0.94021421 0.62905356 0.98848932 0.03580253 0.51852072 0.72553769 0.64491082 0.78050126\n",
      "  0.6128188  0.18070628 0.08942028 0.67208051 0.51954898 0.58024242 0.4740006  0.62150645 0.46267566 0.        ]]\n"
     ]
    }
   ],
   "source": [
    "vector = np.random.random((100,2))\n",
    "X,Y = np.atleast_2d(vector[:,0], vector[:,1])\n",
    "D = np.sqrt((X-X.T)**2 + (Y-Y.T)**2)\n",
    "print(D)"
   ]
  },
  {
   "cell_type": "markdown",
   "id": "3a87c92b",
   "metadata": {},
   "source": [
    "#### 53. How to convert a float (32 bits) array into an integer (32 bits) in place?"
   ]
  },
  {
   "cell_type": "code",
   "execution_count": 129,
   "id": "03c9e9d6",
   "metadata": {},
   "outputs": [
    {
     "name": "stdout",
     "output_type": "stream",
     "text": [
      "[1.37e-43 3.08e-44 5.89e-44 9.25e-44 9.81e-45 1.29e-43 3.08e-44 8.41e-45 1.25e-43 1.37e-43]\n",
      "[98 22 42 66  7 92 22  6 89 98]\n"
     ]
    }
   ],
   "source": [
    "vectorFloat = (np.random.randint(1, 100, 10)).astype(np.float32)\n",
    "vectorInt = vectorFloat.view(np.int32)\n",
    "vectorInt[:] = vectorFloat # новое представление тех же данных\n",
    "print(vectorFloat)\n",
    "print(vectorInt)"
   ]
  },
  {
   "cell_type": "markdown",
   "id": "64561f4c",
   "metadata": {},
   "source": [
    "#### 54. How to read the following file? (★★☆)\n",
    "```\n",
    "1, 2, 3, 4, 5\n",
    "6,  ,  , 7, 8\n",
    " ,  , 9,10,11\n",
    "```"
   ]
  },
  {
   "cell_type": "code",
   "execution_count": 134,
   "id": "d65cd1bb",
   "metadata": {},
   "outputs": [
    {
     "name": "stdout",
     "output_type": "stream",
     "text": [
      "[[ 1  2  3  4  5]\n",
      " [ 6 -1 -1  7  8]\n",
      " [-1 -1  9 10 11]]\n"
     ]
    }
   ],
   "source": [
    "from io import StringIO\n",
    "\n",
    "s = StringIO('''1, 2, 3, 4, 5\n",
    "\n",
    "                6,  ,  , 7, 8\n",
    "\n",
    "                 ,  , 9,10,11\n",
    "''')\n",
    "vectorFromFile = np.genfromtxt(s, delimiter=\",\", dtype=np.int)\n",
    "print(vectorFromFile)"
   ]
  },
  {
   "cell_type": "markdown",
   "id": "a261251f",
   "metadata": {},
   "source": [
    "#### 55. What is the equivalent of enumerate for numpy arrays? (★★☆)"
   ]
  },
  {
   "cell_type": "code",
   "execution_count": 138,
   "id": "34e5a670",
   "metadata": {},
   "outputs": [
    {
     "name": "stdout",
     "output_type": "stream",
     "text": [
      "(0, 0) 0\n",
      "(0, 1) 1\n",
      "(0, 2) 2\n",
      "(1, 0) 3\n",
      "(1, 1) 4\n",
      "(1, 2) 5\n",
      "--------\n",
      "(0, 0) 0\n",
      "(0, 1) 1\n",
      "(0, 2) 2\n",
      "(1, 0) 3\n",
      "(1, 1) 4\n",
      "(1, 2) 5\n"
     ]
    }
   ],
   "source": [
    "matrix = np.arange(6).reshape(2,3)\n",
    "for index, value in np.ndenumerate(matrix):\n",
    "    print(index, value)\n",
    "print(\"--------\")\n",
    "for index in np.ndindex(matrix.shape):\n",
    "    print(index, matrix[index])"
   ]
  },
  {
   "cell_type": "markdown",
   "id": "d6b4e01a",
   "metadata": {},
   "source": [
    "#### 56. Generate a generic 2D Gaussian-like array (★★☆)"
   ]
  },
  {
   "cell_type": "code",
   "execution_count": 139,
   "id": "d5f8e323",
   "metadata": {},
   "outputs": [
    {
     "name": "stdout",
     "output_type": "stream",
     "text": [
      "[[0.36787944 0.44822088 0.51979489 0.57375342 0.60279818 0.60279818 0.57375342 0.51979489 0.44822088 0.36787944]\n",
      " [0.44822088 0.54610814 0.63331324 0.69905581 0.73444367 0.73444367 0.69905581 0.63331324 0.54610814 0.44822088]\n",
      " [0.51979489 0.63331324 0.73444367 0.81068432 0.85172308 0.85172308 0.81068432 0.73444367 0.63331324 0.51979489]\n",
      " [0.57375342 0.69905581 0.81068432 0.89483932 0.9401382  0.9401382  0.89483932 0.81068432 0.69905581 0.57375342]\n",
      " [0.60279818 0.73444367 0.85172308 0.9401382  0.98773022 0.98773022 0.9401382  0.85172308 0.73444367 0.60279818]\n",
      " [0.60279818 0.73444367 0.85172308 0.9401382  0.98773022 0.98773022 0.9401382  0.85172308 0.73444367 0.60279818]\n",
      " [0.57375342 0.69905581 0.81068432 0.89483932 0.9401382  0.9401382  0.89483932 0.81068432 0.69905581 0.57375342]\n",
      " [0.51979489 0.63331324 0.73444367 0.81068432 0.85172308 0.85172308 0.81068432 0.73444367 0.63331324 0.51979489]\n",
      " [0.44822088 0.54610814 0.63331324 0.69905581 0.73444367 0.73444367 0.69905581 0.63331324 0.54610814 0.44822088]\n",
      " [0.36787944 0.44822088 0.51979489 0.57375342 0.60279818 0.60279818 0.57375342 0.51979489 0.44822088 0.36787944]]\n"
     ]
    }
   ],
   "source": [
    "X, Y = np.meshgrid(np.linspace(-1,1,10), np.linspace(-1,1,10))\n",
    "D = np.sqrt(X**2+Y**2)\n",
    "sigma, mu = 1.0, 0.0\n",
    "G = np.exp(-( (D-mu)**2 / ( 2.0 * sigma**2 ) ) )\n",
    "print(G)"
   ]
  },
  {
   "cell_type": "markdown",
   "id": "66285d0d",
   "metadata": {},
   "source": [
    "#### 57. How to randomly place p elements in a 2D array? (★★☆)"
   ]
  },
  {
   "cell_type": "code",
   "execution_count": 145,
   "id": "6d357e6d",
   "metadata": {},
   "outputs": [
    {
     "name": "stdout",
     "output_type": "stream",
     "text": [
      "[[0. 0. 5. 0. 0.]\n",
      " [0. 5. 0. 5. 0.]\n",
      " [5. 0. 5. 0. 5.]\n",
      " [5. 0. 0. 0. 5.]\n",
      " [5. 0. 0. 0. 5.]]\n"
     ]
    }
   ],
   "source": [
    "n = 5\n",
    "p = 10\n",
    "matrix = np.zeros((n,n))\n",
    "np.put(matrix, np.random.choice(range(n*n), p, replace=False), 5)\n",
    "print(matrix)"
   ]
  },
  {
   "cell_type": "markdown",
   "id": "64c93184",
   "metadata": {},
   "source": [
    "#### 58. Subtract the mean of each row of a matrix (★★☆)"
   ]
  },
  {
   "cell_type": "code",
   "execution_count": 153,
   "id": "3da5e0d5",
   "metadata": {},
   "outputs": [
    {
     "name": "stdout",
     "output_type": "stream",
     "text": [
      "[[ 0.06510381 -0.20957978  0.53187574 -0.39928258  0.02945789 -0.00222008 -0.2342303   0.00728871  0.45912458 -0.24753798]\n",
      " [-0.43907454  0.20050242  0.04757152  0.07568986 -0.33221749  0.09203244  0.04885216  0.32624442 -0.14283688  0.12323608]\n",
      " [ 0.05082988 -0.46473662  0.30473727 -0.32429202  0.24981005  0.06747206  0.13488759  0.21266851  0.08432236 -0.3156991 ]\n",
      " [ 0.12092907  0.49649012 -0.37236079 -0.42725695  0.34261111  0.19344037 -0.22850272 -0.34172673 -0.05167502  0.26805153]\n",
      " [ 0.19256999  0.36931253  0.28425807 -0.35235778  0.16185712  0.37823152 -0.06894204 -0.14163098 -0.3771802  -0.44611824]]\n"
     ]
    }
   ],
   "source": [
    "X = np.random.rand(5, 10)\n",
    "Y = X - X.mean(axis = 1, keepdims=True)\n",
    "\n",
    "print(Y)"
   ]
  },
  {
   "cell_type": "markdown",
   "id": "0d86cdd8",
   "metadata": {},
   "source": [
    "#### 59. How to sort an array by the nth column? (★★☆)"
   ]
  },
  {
   "cell_type": "code",
   "execution_count": 160,
   "id": "d9539a54",
   "metadata": {},
   "outputs": [
    {
     "name": "stdout",
     "output_type": "stream",
     "text": [
      "[[1 5 8]\n",
      " [8 3 4]\n",
      " [6 3 9]]\n",
      "----------\n",
      "[[1 3 4]\n",
      " [6 3 8]\n",
      " [8 5 9]]\n"
     ]
    }
   ],
   "source": [
    "matrix = np.random.randint(0,10,(3,3))\n",
    "print(matrix)\n",
    "print(\"----------\")\n",
    "print(np.sort(matrix, axis=0))"
   ]
  },
  {
   "cell_type": "markdown",
   "id": "f08dd280",
   "metadata": {},
   "source": [
    "#### 60. How to tell if a given 2D array has null columns? (★★☆)"
   ]
  },
  {
   "cell_type": "code",
   "execution_count": 177,
   "id": "2032dbd5",
   "metadata": {},
   "outputs": [
    {
     "name": "stdout",
     "output_type": "stream",
     "text": [
      "[[0 1 0]\n",
      " [1 0 0]\n",
      " [1 1 0]]\n",
      "----------\n",
      "True\n"
     ]
    }
   ],
   "source": [
    "matrix = np.random.randint(0,2,(3,3))\n",
    "print(matrix)\n",
    "print(\"----------\")\n",
    "print((~matrix.any(axis=0)).any())"
   ]
  },
  {
   "cell_type": "markdown",
   "id": "4b88fc66",
   "metadata": {},
   "source": [
    "#### 61. Find the nearest value from a given value in an array (★★☆)"
   ]
  },
  {
   "cell_type": "code",
   "execution_count": 179,
   "id": "40e4f5d6",
   "metadata": {},
   "outputs": [
    {
     "name": "stdout",
     "output_type": "stream",
     "text": [
      "[0.49187231 0.04382919 0.59779472 0.92718134 0.71600571 0.32522742 0.90155529 0.60649076 0.51292056 0.96126088]\n",
      "0.7160057051881582\n"
     ]
    }
   ],
   "source": [
    "matrix = np.random.uniform(0,1,10)\n",
    "value = 0.7\n",
    "nearest = matrix.flat[np.abs(matrix - value).argmin()]\n",
    "print(matrix)\n",
    "print(nearest)"
   ]
  },
  {
   "cell_type": "markdown",
   "id": "00cdd918",
   "metadata": {},
   "source": [
    "#### 62. Considering two arrays with shape (1,3) and (3,1), how to compute their sum using an iterator? (★★☆)"
   ]
  },
  {
   "cell_type": "code",
   "execution_count": 183,
   "id": "ebc54f67",
   "metadata": {},
   "outputs": [
    {
     "name": "stdout",
     "output_type": "stream",
     "text": [
      "[[0 1 2]\n",
      " [1 2 3]\n",
      " [2 3 4]]\n"
     ]
    }
   ],
   "source": [
    "A = np.arange(3).reshape(3,1)\n",
    "B = np.arange(3).reshape(1,3)\n",
    "it = np.nditer([A,B,None])\n",
    "for x,y,z in it: z[...] = x + y\n",
    "print(it.operands[2])"
   ]
  },
  {
   "cell_type": "markdown",
   "id": "10607801",
   "metadata": {},
   "source": [
    "#### 63. Create an array class that has a name attribute (★★☆)"
   ]
  },
  {
   "cell_type": "code",
   "execution_count": 186,
   "id": "1cf3e7f4",
   "metadata": {},
   "outputs": [
    {
     "name": "stdout",
     "output_type": "stream",
     "text": [
      "range_10\n"
     ]
    }
   ],
   "source": [
    "class NamedArray(np.ndarray):\n",
    "    def __new__(cls, array, name=\"no name\"):\n",
    "        obj = np.asarray(array).view(cls)\n",
    "        obj.name = name\n",
    "        return obj\n",
    "    def __array_finalize__(self, obj):\n",
    "        if obj is None: return\n",
    "        self.info = getattr(obj, 'name', \"no name\")\n",
    "\n",
    "Z = NamedArray(np.arange(10), \"range_10\")\n",
    "print (Z.name)"
   ]
  },
  {
   "cell_type": "markdown",
   "id": "493c8d7e",
   "metadata": {},
   "source": [
    "#### 64. Consider a given vector, how to add 1 to each element indexed by a second vector (be careful with repeated indices)? (★★★)"
   ]
  },
  {
   "cell_type": "code",
   "execution_count": 187,
   "id": "9bd57409",
   "metadata": {},
   "outputs": [
    {
     "name": "stdout",
     "output_type": "stream",
     "text": [
      "[2. 3. 2. 2. 3. 4. 4. 4. 3. 3.]\n"
     ]
    }
   ],
   "source": [
    "matrix = np.ones(10)\n",
    "another = np.random.randint(0,len(matrix),20)\n",
    "matrix += np.bincount(another, minlength=len(matrix))\n",
    "print(matrix)"
   ]
  },
  {
   "cell_type": "markdown",
   "id": "97adc229",
   "metadata": {},
   "source": [
    "#### 65. How to accumulate elements of a vector (X) to an array (F) based on an index list (I)? (★★★)"
   ]
  },
  {
   "cell_type": "code",
   "execution_count": 191,
   "id": "194091c8",
   "metadata": {},
   "outputs": [
    {
     "name": "stdout",
     "output_type": "stream",
     "text": [
      "[0. 0. 1. 2. 3. 4. 5. 6. 7. 8. 9.]\n"
     ]
    }
   ],
   "source": [
    "X = [x for x in range(10)]\n",
    "I = [y for y in range(1, 11, 1)]\n",
    "F = np.bincount(I,X)\n",
    "print(F)"
   ]
  },
  {
   "cell_type": "markdown",
   "id": "69c727fb",
   "metadata": {},
   "source": [
    "#### 66. Considering a (w,h,3) image of (dtype=ubyte), compute the number of unique colors (★★☆)"
   ]
  },
  {
   "cell_type": "code",
   "execution_count": 192,
   "id": "8f7bc00a",
   "metadata": {},
   "outputs": [
    {
     "name": "stdout",
     "output_type": "stream",
     "text": [
      "64\n"
     ]
    }
   ],
   "source": [
    "w, h = 256, 256\n",
    "I = np.random.randint(0, 4, (h, w, 3)).astype(np.ubyte)\n",
    "colors = np.unique(I.reshape(-1, 3), axis=0)\n",
    "n = len(colors)\n",
    "print(n)"
   ]
  },
  {
   "cell_type": "markdown",
   "id": "c676ceb9",
   "metadata": {},
   "source": [
    "#### 67. Considering a four dimensions array, how to get sum over the last two axis at once? (★★★)"
   ]
  },
  {
   "cell_type": "code",
   "execution_count": 199,
   "id": "52841334",
   "metadata": {},
   "outputs": [
    {
     "name": "stdout",
     "output_type": "stream",
     "text": [
      "[[17 19]\n",
      " [14 13]\n",
      " [19  6]\n",
      " [29 19]\n",
      " [26 15]\n",
      " [29 15]]\n"
     ]
    }
   ],
   "source": [
    "A = np.random.randint(0,10,(6,2,1,4))\n",
    "sum = A.sum(axis=(-2,-1))\n",
    "print(sum)"
   ]
  },
  {
   "cell_type": "markdown",
   "id": "25b47471",
   "metadata": {},
   "source": [
    "#### 68. Considering a one-dimensional vector D, how to compute means of subsets of D using a vector S of same size describing subset  indices? (★★★)"
   ]
  },
  {
   "cell_type": "code",
   "execution_count": 200,
   "id": "e3fc29e7",
   "metadata": {},
   "outputs": [
    {
     "name": "stdout",
     "output_type": "stream",
     "text": [
      "[0.54141069 0.55202143 0.44802675 0.52462953 0.63658549 0.50288487 0.622077   0.5150738  0.51886575 0.44545454]\n"
     ]
    }
   ],
   "source": [
    "D = np.random.uniform(0,1,100)\n",
    "S = np.random.randint(0,10,100)\n",
    "D_sums = np.bincount(S, weights=D)\n",
    "D_counts = np.bincount(S)\n",
    "D_means = D_sums / D_counts\n",
    "print(D_means)"
   ]
  },
  {
   "cell_type": "markdown",
   "id": "f0c30dd5",
   "metadata": {},
   "source": [
    "#### 69. How to get the diagonal of a dot product? (★★★)"
   ]
  },
  {
   "cell_type": "code",
   "execution_count": 203,
   "id": "6d4883bf",
   "metadata": {},
   "outputs": [
    {
     "name": "stdout",
     "output_type": "stream",
     "text": [
      "[1.52467784 0.7622601  0.71043524 1.53448725]\n"
     ]
    }
   ],
   "source": [
    "A = np.random.uniform(0,1,(4,4))\n",
    "B = np.random.uniform(0,1,(4,4))\n",
    "\n",
    "print(np.diag(np.dot(A, B)))"
   ]
  },
  {
   "cell_type": "markdown",
   "id": "9fc243ff",
   "metadata": {},
   "source": [
    "#### 70. Consider the vector [1, 2, 3, 4, 5], how to build a new vector with 3 consecutive zeros interleaved between each value? (★★★)"
   ]
  },
  {
   "cell_type": "code",
   "execution_count": 204,
   "id": "175ae1af",
   "metadata": {},
   "outputs": [
    {
     "name": "stdout",
     "output_type": "stream",
     "text": [
      "[1. 0. 0. 0. 2. 0. 0. 0. 3. 0. 0. 0. 4. 0. 0. 0. 5.]\n"
     ]
    }
   ],
   "source": [
    "matrix = np.array([1,2,3,4,5])\n",
    "nz = 3\n",
    "matrix0 = np.zeros(len(matrix) + (len(matrix)-1)*(nz))\n",
    "matrix0[::nz+1] = matrix\n",
    "print(matrix0)"
   ]
  },
  {
   "cell_type": "markdown",
   "id": "6b823e5f",
   "metadata": {},
   "source": [
    "#### 71. Consider an array of dimension (5,5,3), how to mulitply it by an array with dimensions (5,5)? (★★★)"
   ]
  },
  {
   "cell_type": "code",
   "execution_count": 205,
   "id": "eca3c0fa",
   "metadata": {},
   "outputs": [
    {
     "name": "stdout",
     "output_type": "stream",
     "text": [
      "[[[5. 5. 5.]\n",
      "  [5. 5. 5.]\n",
      "  [5. 5. 5.]\n",
      "  [5. 5. 5.]\n",
      "  [5. 5. 5.]]\n",
      "\n",
      " [[5. 5. 5.]\n",
      "  [5. 5. 5.]\n",
      "  [5. 5. 5.]\n",
      "  [5. 5. 5.]\n",
      "  [5. 5. 5.]]\n",
      "\n",
      " [[5. 5. 5.]\n",
      "  [5. 5. 5.]\n",
      "  [5. 5. 5.]\n",
      "  [5. 5. 5.]\n",
      "  [5. 5. 5.]]\n",
      "\n",
      " [[5. 5. 5.]\n",
      "  [5. 5. 5.]\n",
      "  [5. 5. 5.]\n",
      "  [5. 5. 5.]\n",
      "  [5. 5. 5.]]\n",
      "\n",
      " [[5. 5. 5.]\n",
      "  [5. 5. 5.]\n",
      "  [5. 5. 5.]\n",
      "  [5. 5. 5.]\n",
      "  [5. 5. 5.]]]\n"
     ]
    }
   ],
   "source": [
    "A = np.ones((5,5,3))\n",
    "B = 5*np.ones((5,5))\n",
    "print(A * B[:,:,None])"
   ]
  },
  {
   "cell_type": "markdown",
   "id": "fcdccf0e",
   "metadata": {},
   "source": [
    "#### 72. How to swap two rows of an array? (★★★)"
   ]
  },
  {
   "cell_type": "code",
   "execution_count": 207,
   "id": "8ed9e863",
   "metadata": {},
   "outputs": [
    {
     "name": "stdout",
     "output_type": "stream",
     "text": [
      "[[10 11 12 13 14]\n",
      " [ 5  6  7  8  9]\n",
      " [ 0  1  2  3  4]\n",
      " [15 16 17 18 19]\n",
      " [20 21 22 23 24]]\n"
     ]
    }
   ],
   "source": [
    "A = np.arange(25).reshape(5,5)\n",
    "A[[0,2]] = A[[2,0]]\n",
    "print(A)"
   ]
  },
  {
   "cell_type": "markdown",
   "id": "bb4140d3",
   "metadata": {},
   "source": [
    "#### 73. Consider a set of 10 triplets describing 10 triangles (with shared vertices), find the set of unique line segments composing all the  triangles (★★★)"
   ]
  },
  {
   "cell_type": "code",
   "execution_count": 208,
   "id": "94dd8669",
   "metadata": {},
   "outputs": [
    {
     "name": "stdout",
     "output_type": "stream",
     "text": [
      "[( 1, 53) ( 1, 71) ( 2, 88) ( 2, 93) ( 3, 11) ( 3, 19) ( 3, 28) ( 3, 38) ( 6, 31) ( 6, 70) (11, 38) (19, 28) (28, 55) (28, 68) (31, 70) (36, 45) (36, 52) (39, 50) (39, 77) (45, 52) (50, 77) (53, 71) (55, 68) (56, 78) (56, 96) (64, 88) (64, 99) (78, 96) (88, 93) (88, 99)]\n"
     ]
    }
   ],
   "source": [
    "faces = np.random.randint(0,100,(10,3))\n",
    "F = np.roll(faces.repeat(2,axis=1),-1,axis=1)\n",
    "F = F.reshape(len(F)*3,2)\n",
    "F = np.sort(F,axis=1)\n",
    "G = F.view( dtype=[('p0',F.dtype),('p1',F.dtype)] )\n",
    "G = np.unique(G)\n",
    "print(G)"
   ]
  },
  {
   "cell_type": "markdown",
   "id": "78e97a2c",
   "metadata": {},
   "source": [
    "#### 74. Given a sorted array C that corresponds to a bincount, how to produce an array A such that np.bincount(A) == C? (★★★)"
   ]
  },
  {
   "cell_type": "code",
   "execution_count": 209,
   "id": "f5e53c07",
   "metadata": {},
   "outputs": [
    {
     "name": "stdout",
     "output_type": "stream",
     "text": [
      "[1 1 2 3 4 4 6]\n"
     ]
    }
   ],
   "source": [
    "C = np.bincount([1,1,2,3,4,4,6])\n",
    "A = np.repeat(np.arange(len(C)), C)\n",
    "print(A)"
   ]
  },
  {
   "cell_type": "markdown",
   "id": "12280fc4",
   "metadata": {},
   "source": [
    "#### 75. How to compute averages using a sliding window over an array? (★★★)"
   ]
  },
  {
   "cell_type": "code",
   "execution_count": 212,
   "id": "93ed2b49",
   "metadata": {},
   "outputs": [
    {
     "name": "stdout",
     "output_type": "stream",
     "text": [
      "[ 1.  2.  3.  4.  5.  6.  7.  8.  9. 10. 11. 12. 13. 14. 15. 16. 17. 18. 19. 20.]\n"
     ]
    }
   ],
   "source": [
    "def moving_average(a, n=3) :\n",
    "    ret = np.cumsum(a, dtype=float)\n",
    "    ret[n:] = ret[n:] - ret[:-n]\n",
    "    return ret[n - 1:] / n\n",
    "Z = np.arange(22)\n",
    "print(moving_average(Z, n=3))"
   ]
  },
  {
   "cell_type": "markdown",
   "id": "a47d7ba1",
   "metadata": {},
   "source": [
    "#### 76. Consider a one-dimensional array Z, build a two-dimensional array whose first row is (Z[0],Z[1],Z[2]) and each subsequent row is  shifted by 1 (last row should be (Z[-3],Z[-2],Z[-1]) (★★★)"
   ]
  },
  {
   "cell_type": "code",
   "execution_count": 213,
   "id": "68100140",
   "metadata": {},
   "outputs": [
    {
     "name": "stdout",
     "output_type": "stream",
     "text": [
      "[[0 1 2]\n",
      " [1 2 3]\n",
      " [2 3 4]\n",
      " [3 4 5]\n",
      " [4 5 6]\n",
      " [5 6 7]\n",
      " [6 7 8]\n",
      " [7 8 9]]\n"
     ]
    }
   ],
   "source": [
    "from numpy.lib import stride_tricks\n",
    "\n",
    "def rolling(a, window):\n",
    "    shape = (a.size - window + 1, window)\n",
    "    strides = (a.strides[0], a.strides[0])\n",
    "    return stride_tricks.as_strided(a, shape=shape, strides=strides)\n",
    "matrix = rolling(np.arange(10), 3)\n",
    "print(matrix)"
   ]
  },
  {
   "cell_type": "markdown",
   "id": "28eec273",
   "metadata": {},
   "source": [
    "#### 77. How to negate a boolean, or to change the sign of a float inplace? (★★★)"
   ]
  },
  {
   "cell_type": "code",
   "execution_count": 218,
   "id": "307f757a",
   "metadata": {},
   "outputs": [
    {
     "name": "stdout",
     "output_type": "stream",
     "text": [
      "[0 1 1 0 1 0 0 1 0 0]\n",
      "-------------------------------------\n",
      "[ 0.22875431  0.21531671  0.64168528  0.62457334 -0.4263629   0.74424912 -0.19444359 -0.45102359  0.19965018 -0.91410085]\n"
     ]
    }
   ],
   "source": [
    "Z = np.random.randint(0,2,10)\n",
    "print(np.logical_not(Z, out=Z))\n",
    "print(\"-------------------------------------\")\n",
    "Z = np.random.uniform(-1.0,1.0,10)\n",
    "print(np.negative(Z, out=Z))"
   ]
  },
  {
   "cell_type": "markdown",
   "id": "e4395681",
   "metadata": {},
   "source": [
    "#### 78. Consider 2 sets of points P0,P1 describing lines (2d) and a point p, how to compute distance from p to each line i (P0[i],P1[i])? (★★★)"
   ]
  },
  {
   "cell_type": "code",
   "execution_count": 219,
   "id": "0de1dfe4",
   "metadata": {},
   "outputs": [
    {
     "name": "stdout",
     "output_type": "stream",
     "text": [
      "[10.87169787  2.66038596  1.3849224   0.20292447  4.54244395  3.15233809 10.47063403  4.31431683  4.86376467 13.15829821]\n"
     ]
    }
   ],
   "source": [
    "def distance(P0, P1, p):\n",
    "    T = P1 - P0\n",
    "    L = (T**2).sum(axis=1)\n",
    "    U = -((P0[:,0]-p[...,0])*T[:,0] + (P0[:,1]-p[...,1])*T[:,1]) / L\n",
    "    U = U.reshape(len(U),1)\n",
    "    D = P0 + U*T - p\n",
    "    return np.sqrt((D**2).sum(axis=1))\n",
    "\n",
    "P0 = np.random.uniform(-10,10,(10,2))\n",
    "P1 = np.random.uniform(-10,10,(10,2))\n",
    "p  = np.random.uniform(-10,10,( 1,2))\n",
    "print(distance(P0, P1, p))"
   ]
  },
  {
   "cell_type": "markdown",
   "id": "058f79d3",
   "metadata": {},
   "source": [
    "#### 79. Consider 2 sets of points P0,P1 describing lines (2d) and a set of points P, how to compute distance from each point j (P[j]) to each line i (P0[i],P1[i])? (★★★)"
   ]
  },
  {
   "cell_type": "code",
   "execution_count": 220,
   "id": "74a774ee",
   "metadata": {},
   "outputs": [
    {
     "name": "stdout",
     "output_type": "stream",
     "text": [
      "[[ 5.20161532  0.95992007  6.17535256  4.22206934  2.34339229  7.63199033  4.9668183   1.23902743  3.40417168  1.7229297 ]\n",
      " [14.1582566   9.32867699  3.06607961  4.24107124  2.50676948 16.41901278  9.07133951  4.05302541 12.6509364   6.71604776]\n",
      " [15.4809206  14.30185374  6.68200625  4.65684247  0.5192731  20.95808883 15.13749884  0.13952139 16.24585168 11.62797586]\n",
      " [ 4.04739238  3.61337161  9.47141071  4.53279627  0.53104214  3.46849054  0.66787141  5.1854942   0.12781073  6.23829917]\n",
      " [14.95835794 11.07404219  4.49264134  4.77442513  1.94093341 18.06935669 10.89569923  3.07414512 14.0721547   8.44856535]\n",
      " [ 6.1507993   1.80896664  5.21877858  3.31674087  1.79150797  8.53038286  5.34652029  1.58389378  4.36153146  0.86571642]\n",
      " [13.42604861 13.92099515  5.48890735  2.3717202   3.17319868 20.27705746 16.44441688  2.68286889 15.04255198 11.20151247]\n",
      " [ 7.22504323  4.52199609  3.080771    2.68312987  2.92135089 11.0667895   8.33599456  0.18615038  6.49020875  1.82297994]\n",
      " [ 0.61659914  2.39861031 10.92699137 10.18338402  7.57459873  3.72607421  5.33607396  3.15084818  1.36305039  5.16689196]\n",
      " [ 9.51073254  0.74326407  5.18040448  1.12819771  5.72712795  6.89022124  1.42889019  9.65725971  4.43510374  3.28253642]]\n"
     ]
    }
   ],
   "source": [
    "P0 = np.random.uniform(-10, 10, (10,2))\n",
    "P1 = np.random.uniform(-10,10,(10,2))\n",
    "p = np.random.uniform(-10, 10, (10,2))\n",
    "print(np.array([distance(P0,P1,p_i) for p_i in p]))"
   ]
  },
  {
   "cell_type": "markdown",
   "id": "3565cd22",
   "metadata": {},
   "source": [
    "#### 80. Consider an arbitrary array, write a function that extract a subpart with a fixed shape and centered on a given element (pad with a `fill` value when necessary) (★★★)"
   ]
  },
  {
   "cell_type": "code",
   "execution_count": 221,
   "id": "0727209b",
   "metadata": {},
   "outputs": [
    {
     "name": "stdout",
     "output_type": "stream",
     "text": [
      "[[ 3 72 90 86 91 15 51 76 54 30]\n",
      " [81 66 29 57  8 54 18 28 25 40]\n",
      " [71 58 78  4 13 18 32 67 91 55]\n",
      " [90  7 88 18 24 21 61 58 90  3]\n",
      " [78 86  5 90 98  1 70 31 90 78]\n",
      " [69 35 35 84 34 64 78 57 44 22]\n",
      " [97 30 22 34 67 87 94 72 11 79]\n",
      " [ 0 31 48 28 35 58 48  5 32 62]\n",
      " [ 2 59 82 62 54 71 35 64 52 30]\n",
      " [46 26 20 26 35 34 59 86 63 17]]\n",
      "[[ 0  0  0  0  0]\n",
      " [ 0  3 72 90 86]\n",
      " [ 0 81 66 29 57]\n",
      " [ 0 71 58 78  4]\n",
      " [ 0 90  7 88 18]]\n"
     ]
    },
    {
     "name": "stderr",
     "output_type": "stream",
     "text": [
      "<ipython-input-221-93a85e3becaf>:23: FutureWarning: Using a non-tuple sequence for multidimensional indexing is deprecated; use `arr[tuple(seq)]` instead of `arr[seq]`. In the future this will be interpreted as an array index, `arr[np.array(seq)]`, which will result either in an error or a different result.\n",
      "  R[r] = Z[z]\n"
     ]
    }
   ],
   "source": [
    "Z = np.random.randint(0,100,(10,10))\n",
    "shape = (5,5)\n",
    "fill  = 0\n",
    "position = (1,1)\n",
    "\n",
    "R = np.ones(shape, dtype=Z.dtype)*fill\n",
    "P  = np.array(list(position)).astype(int)\n",
    "Rs = np.array(list(R.shape)).astype(int)\n",
    "Zs = np.array(list(Z.shape)).astype(int)\n",
    "\n",
    "R_start = np.zeros((len(shape),)).astype(int)\n",
    "R_stop  = np.array(list(shape)).astype(int)\n",
    "Z_start = (P-Rs//2)\n",
    "Z_stop  = (P+Rs//2)+Rs%2\n",
    "\n",
    "R_start = (R_start - np.minimum(Z_start,0)).tolist()\n",
    "Z_start = (np.maximum(Z_start,0)).tolist()\n",
    "R_stop = np.maximum(R_start, (R_stop - np.maximum(Z_stop-Zs,0))).tolist()\n",
    "Z_stop = (np.minimum(Z_stop,Zs)).tolist()\n",
    "\n",
    "r = [slice(start,stop) for start,stop in zip(R_start,R_stop)]\n",
    "z = [slice(start,stop) for start,stop in zip(Z_start,Z_stop)]\n",
    "R[r] = Z[z]\n",
    "print(Z)\n",
    "print(R)"
   ]
  },
  {
   "cell_type": "markdown",
   "id": "47608782",
   "metadata": {},
   "source": [
    "#### 81. Consider an array Z = [1,2,3,4,5,6,7,8,9,10,11,12,13,14], how to generate an array R = [[1,2,3,4], [2,3,4,5], [3,4,5,6], ..., [11,12,13,14]]? (★★★)"
   ]
  },
  {
   "cell_type": "code",
   "execution_count": 222,
   "id": "ae1bde34",
   "metadata": {},
   "outputs": [
    {
     "name": "stdout",
     "output_type": "stream",
     "text": [
      "[[ 1  2  3  4]\n",
      " [ 2  3  4  5]\n",
      " [ 3  4  5  6]\n",
      " [ 4  5  6  7]\n",
      " [ 5  6  7  8]\n",
      " [ 6  7  8  9]\n",
      " [ 7  8  9 10]\n",
      " [ 8  9 10 11]\n",
      " [ 9 10 11 12]\n",
      " [10 11 12 13]\n",
      " [11 12 13 14]]\n"
     ]
    }
   ],
   "source": [
    "Z = np.arange(1,15,dtype=np.uint32)\n",
    "R = stride_tricks.as_strided(Z,(11,4),(4,4))\n",
    "print(R)"
   ]
  },
  {
   "cell_type": "markdown",
   "id": "de2a8261",
   "metadata": {},
   "source": [
    "#### 82. Compute a matrix rank (★★★)"
   ]
  },
  {
   "cell_type": "code",
   "execution_count": 224,
   "id": "b6911935",
   "metadata": {},
   "outputs": [
    {
     "name": "stdout",
     "output_type": "stream",
     "text": [
      "10\n"
     ]
    }
   ],
   "source": [
    "Z = np.random.uniform(0,1,(10,10))\n",
    "U, S, V = np.linalg.svd(Z\n",
    "rank = np.sum(S > 1e-10)\n",
    "print(rank)"
   ]
  },
  {
   "cell_type": "markdown",
   "id": "a75699b2",
   "metadata": {},
   "source": [
    "#### 83. How to find the most frequent value in an array?"
   ]
  },
  {
   "cell_type": "code",
   "execution_count": 231,
   "id": "1523bcc9",
   "metadata": {},
   "outputs": [
    {
     "name": "stdout",
     "output_type": "stream",
     "text": [
      "[7 2 7 9 3 7 8 7 6 1]\n",
      "7\n"
     ]
    }
   ],
   "source": [
    "Z = np.random.randint(0,10,10)\n",
    "print(Z)\n",
    "print(np.bincount(Z).argmax())"
   ]
  },
  {
   "cell_type": "markdown",
   "id": "0b0daa99",
   "metadata": {},
   "source": [
    "#### 84. Extract all the contiguous 3x3 blocks from a random 10x10 matrix (★★★)"
   ]
  },
  {
   "cell_type": "code",
   "execution_count": 232,
   "id": "19540f2c",
   "metadata": {},
   "outputs": [
    {
     "name": "stdout",
     "output_type": "stream",
     "text": [
      "[[[[1 4 1]\n",
      "   [2 2 0]\n",
      "   [2 4 1]]\n",
      "\n",
      "  [[4 1 1]\n",
      "   [2 0 1]\n",
      "   [4 1 3]]\n",
      "\n",
      "  [[1 1 1]\n",
      "   [0 1 4]\n",
      "   [1 3 1]]\n",
      "\n",
      "  [[1 1 4]\n",
      "   [1 4 1]\n",
      "   [3 1 4]]\n",
      "\n",
      "  [[1 4 3]\n",
      "   [4 1 4]\n",
      "   [1 4 1]]\n",
      "\n",
      "  [[4 3 0]\n",
      "   [1 4 2]\n",
      "   [4 1 1]]\n",
      "\n",
      "  [[3 0 4]\n",
      "   [4 2 1]\n",
      "   [1 1 0]]\n",
      "\n",
      "  [[0 4 4]\n",
      "   [2 1 3]\n",
      "   [1 0 1]]]\n",
      "\n",
      "\n",
      " [[[2 2 0]\n",
      "   [2 4 1]\n",
      "   [2 0 0]]\n",
      "\n",
      "  [[2 0 1]\n",
      "   [4 1 3]\n",
      "   [0 0 4]]\n",
      "\n",
      "  [[0 1 4]\n",
      "   [1 3 1]\n",
      "   [0 4 3]]\n",
      "\n",
      "  [[1 4 1]\n",
      "   [3 1 4]\n",
      "   [4 3 4]]\n",
      "\n",
      "  [[4 1 4]\n",
      "   [1 4 1]\n",
      "   [3 4 2]]\n",
      "\n",
      "  [[1 4 2]\n",
      "   [4 1 1]\n",
      "   [4 2 3]]\n",
      "\n",
      "  [[4 2 1]\n",
      "   [1 1 0]\n",
      "   [2 3 3]]\n",
      "\n",
      "  [[2 1 3]\n",
      "   [1 0 1]\n",
      "   [3 3 1]]]\n",
      "\n",
      "\n",
      " [[[2 4 1]\n",
      "   [2 0 0]\n",
      "   [4 4 0]]\n",
      "\n",
      "  [[4 1 3]\n",
      "   [0 0 4]\n",
      "   [4 0 0]]\n",
      "\n",
      "  [[1 3 1]\n",
      "   [0 4 3]\n",
      "   [0 0 0]]\n",
      "\n",
      "  [[3 1 4]\n",
      "   [4 3 4]\n",
      "   [0 0 3]]\n",
      "\n",
      "  [[1 4 1]\n",
      "   [3 4 2]\n",
      "   [0 3 2]]\n",
      "\n",
      "  [[4 1 1]\n",
      "   [4 2 3]\n",
      "   [3 2 4]]\n",
      "\n",
      "  [[1 1 0]\n",
      "   [2 3 3]\n",
      "   [2 4 1]]\n",
      "\n",
      "  [[1 0 1]\n",
      "   [3 3 1]\n",
      "   [4 1 3]]]\n",
      "\n",
      "\n",
      " [[[2 0 0]\n",
      "   [4 4 0]\n",
      "   [2 2 3]]\n",
      "\n",
      "  [[0 0 4]\n",
      "   [4 0 0]\n",
      "   [2 3 3]]\n",
      "\n",
      "  [[0 4 3]\n",
      "   [0 0 0]\n",
      "   [3 3 1]]\n",
      "\n",
      "  [[4 3 4]\n",
      "   [0 0 3]\n",
      "   [3 1 1]]\n",
      "\n",
      "  [[3 4 2]\n",
      "   [0 3 2]\n",
      "   [1 1 2]]\n",
      "\n",
      "  [[4 2 3]\n",
      "   [3 2 4]\n",
      "   [1 2 1]]\n",
      "\n",
      "  [[2 3 3]\n",
      "   [2 4 1]\n",
      "   [2 1 4]]\n",
      "\n",
      "  [[3 3 1]\n",
      "   [4 1 3]\n",
      "   [1 4 4]]]\n",
      "\n",
      "\n",
      " [[[4 4 0]\n",
      "   [2 2 3]\n",
      "   [2 0 2]]\n",
      "\n",
      "  [[4 0 0]\n",
      "   [2 3 3]\n",
      "   [0 2 1]]\n",
      "\n",
      "  [[0 0 0]\n",
      "   [3 3 1]\n",
      "   [2 1 2]]\n",
      "\n",
      "  [[0 0 3]\n",
      "   [3 1 1]\n",
      "   [1 2 1]]\n",
      "\n",
      "  [[0 3 2]\n",
      "   [1 1 2]\n",
      "   [2 1 3]]\n",
      "\n",
      "  [[3 2 4]\n",
      "   [1 2 1]\n",
      "   [1 3 2]]\n",
      "\n",
      "  [[2 4 1]\n",
      "   [2 1 4]\n",
      "   [3 2 4]]\n",
      "\n",
      "  [[4 1 3]\n",
      "   [1 4 4]\n",
      "   [2 4 4]]]\n",
      "\n",
      "\n",
      " [[[2 2 3]\n",
      "   [2 0 2]\n",
      "   [0 4 4]]\n",
      "\n",
      "  [[2 3 3]\n",
      "   [0 2 1]\n",
      "   [4 4 3]]\n",
      "\n",
      "  [[3 3 1]\n",
      "   [2 1 2]\n",
      "   [4 3 1]]\n",
      "\n",
      "  [[3 1 1]\n",
      "   [1 2 1]\n",
      "   [3 1 0]]\n",
      "\n",
      "  [[1 1 2]\n",
      "   [2 1 3]\n",
      "   [1 0 1]]\n",
      "\n",
      "  [[1 2 1]\n",
      "   [1 3 2]\n",
      "   [0 1 3]]\n",
      "\n",
      "  [[2 1 4]\n",
      "   [3 2 4]\n",
      "   [1 3 0]]\n",
      "\n",
      "  [[1 4 4]\n",
      "   [2 4 4]\n",
      "   [3 0 1]]]\n",
      "\n",
      "\n",
      " [[[2 0 2]\n",
      "   [0 4 4]\n",
      "   [0 0 0]]\n",
      "\n",
      "  [[0 2 1]\n",
      "   [4 4 3]\n",
      "   [0 0 4]]\n",
      "\n",
      "  [[2 1 2]\n",
      "   [4 3 1]\n",
      "   [0 4 0]]\n",
      "\n",
      "  [[1 2 1]\n",
      "   [3 1 0]\n",
      "   [4 0 0]]\n",
      "\n",
      "  [[2 1 3]\n",
      "   [1 0 1]\n",
      "   [0 0 4]]\n",
      "\n",
      "  [[1 3 2]\n",
      "   [0 1 3]\n",
      "   [0 4 1]]\n",
      "\n",
      "  [[3 2 4]\n",
      "   [1 3 0]\n",
      "   [4 1 0]]\n",
      "\n",
      "  [[2 4 4]\n",
      "   [3 0 1]\n",
      "   [1 0 1]]]\n",
      "\n",
      "\n",
      " [[[0 4 4]\n",
      "   [0 0 0]\n",
      "   [0 3 3]]\n",
      "\n",
      "  [[4 4 3]\n",
      "   [0 0 4]\n",
      "   [3 3 0]]\n",
      "\n",
      "  [[4 3 1]\n",
      "   [0 4 0]\n",
      "   [3 0 0]]\n",
      "\n",
      "  [[3 1 0]\n",
      "   [4 0 0]\n",
      "   [0 0 2]]\n",
      "\n",
      "  [[1 0 1]\n",
      "   [0 0 4]\n",
      "   [0 2 1]]\n",
      "\n",
      "  [[0 1 3]\n",
      "   [0 4 1]\n",
      "   [2 1 4]]\n",
      "\n",
      "  [[1 3 0]\n",
      "   [4 1 0]\n",
      "   [1 4 3]]\n",
      "\n",
      "  [[3 0 1]\n",
      "   [1 0 1]\n",
      "   [4 3 2]]]]\n"
     ]
    }
   ],
   "source": [
    "Z = np.random.randint(0,5,(10,10))\n",
    "n = 3\n",
    "i = 1 + (Z.shape[0]-3)\n",
    "j = 1 + (Z.shape[1]-3)\n",
    "C = stride_tricks.as_strided(Z, shape=(i, j, n, n), strides=Z.strides + Z.strides)\n",
    "print(C)"
   ]
  },
  {
   "cell_type": "markdown",
   "id": "1d25c3c6",
   "metadata": {},
   "source": [
    "#### 85. Create a 2D array subclass such that Z[i,j] == Z[j,i] (★★★)"
   ]
  },
  {
   "cell_type": "code",
   "execution_count": 233,
   "id": "75736bb4",
   "metadata": {},
   "outputs": [
    {
     "name": "stdout",
     "output_type": "stream",
     "text": [
      "[[ 6  8 14  0 15]\n",
      " [ 8  6 11 12  7]\n",
      " [14 11  7 42 18]\n",
      " [ 0 12 42  2  4]\n",
      " [15  7 18  4  9]]\n"
     ]
    }
   ],
   "source": [
    "class Symetric(np.ndarray):\n",
    "    def __setitem__(self, index, value):\n",
    "        i,j = index\n",
    "        super(Symetric, self).__setitem__((i,j), value)\n",
    "        super(Symetric, self).__setitem__((j,i), value)\n",
    "\n",
    "def symetric(Z):\n",
    "    return np.asarray(Z + Z.T - np.diag(Z.diagonal())).view(Symetric)\n",
    "\n",
    "S = symetric(np.random.randint(0,10,(5,5)))\n",
    "S[2,3] = 42\n",
    "print(S)"
   ]
  },
  {
   "cell_type": "markdown",
   "id": "77ff341f",
   "metadata": {},
   "source": [
    "#### 86. Consider a set of p matrices wich shape (n,n) and a set of p vectors with shape (n,1). How to compute the sum of of the p matrix products at once? (result has shape (n,1)) (★★★)"
   ]
  },
  {
   "cell_type": "code",
   "execution_count": 234,
   "id": "5a227cb2",
   "metadata": {},
   "outputs": [
    {
     "name": "stdout",
     "output_type": "stream",
     "text": [
      "[[200.]\n",
      " [200.]\n",
      " [200.]\n",
      " [200.]\n",
      " [200.]\n",
      " [200.]\n",
      " [200.]\n",
      " [200.]\n",
      " [200.]\n",
      " [200.]\n",
      " [200.]\n",
      " [200.]\n",
      " [200.]\n",
      " [200.]\n",
      " [200.]\n",
      " [200.]\n",
      " [200.]\n",
      " [200.]\n",
      " [200.]\n",
      " [200.]]\n"
     ]
    }
   ],
   "source": [
    "p, n = 10, 20\n",
    "M = np.ones((p,n,n))\n",
    "V = np.ones((p,n,1))\n",
    "S = np.tensordot(M, V, axes=[[0, 2], [0, 1]])\n",
    "print(S)"
   ]
  },
  {
   "cell_type": "markdown",
   "id": "764e2f3e",
   "metadata": {},
   "source": [
    "#### 87. Consider a 16x16 array, how to get the block-sum (block size is 4x4)? (★★★)"
   ]
  },
  {
   "cell_type": "code",
   "execution_count": 235,
   "id": "13968fe7",
   "metadata": {},
   "outputs": [
    {
     "name": "stdout",
     "output_type": "stream",
     "text": [
      "[[16. 16. 16. 16.]\n",
      " [16. 16. 16. 16.]\n",
      " [16. 16. 16. 16.]\n",
      " [16. 16. 16. 16.]]\n"
     ]
    }
   ],
   "source": [
    "Z = np.ones((16,16))\n",
    "k = 4\n",
    "S = np.add.reduceat(np.add.reduceat(Z, np.arange(0, Z.shape[0], k), axis=0),\n",
    "                                       np.arange(0, Z.shape[1], k), axis=1)\n",
    "print(S)"
   ]
  },
  {
   "cell_type": "markdown",
   "id": "07c86f17",
   "metadata": {},
   "source": [
    "#### 88. How to implement the Game of Life using numpy arrays? (★★★)"
   ]
  },
  {
   "cell_type": "code",
   "execution_count": 242,
   "id": "e898fd56",
   "metadata": {},
   "outputs": [
    {
     "name": "stdout",
     "output_type": "stream",
     "text": [
      "[[0 0 0 0 0 0 0 0 0 0 0 0 0 0 0 0 0 0 0 0]\n",
      " [0 0 0 0 0 0 0 0 0 0 0 0 0 0 0 0 0 0 0 0]\n",
      " [0 0 0 0 0 0 0 1 1 1 0 0 0 0 0 0 0 0 0 0]\n",
      " [0 0 0 0 0 0 0 0 0 0 1 0 0 0 0 0 0 0 0 0]\n",
      " [0 0 0 0 0 0 0 1 1 0 1 0 0 0 0 0 0 0 0 0]\n",
      " [0 0 0 0 0 0 0 0 1 1 0 1 0 0 0 0 0 0 0 0]\n",
      " [0 0 0 0 0 0 0 0 0 0 1 1 1 0 0 0 0 0 0 0]\n",
      " [0 0 0 0 1 1 1 0 0 0 1 1 0 0 0 0 0 0 0 0]\n",
      " [0 0 0 0 1 0 1 0 0 0 1 1 0 0 0 0 1 0 0 0]\n",
      " [0 0 0 0 0 1 1 1 0 1 1 1 0 0 0 1 0 1 0 0]\n",
      " [0 0 0 0 0 0 0 1 1 1 1 0 0 0 0 1 1 0 0 0]\n",
      " [0 0 0 0 0 0 0 0 1 1 0 0 0 0 0 0 0 0 0 0]\n",
      " [0 0 0 0 0 0 0 0 0 0 0 0 0 0 0 0 0 0 0 0]\n",
      " [0 0 0 0 0 0 0 0 0 0 0 0 0 0 0 0 0 0 0 0]\n",
      " [0 0 0 0 0 0 0 0 0 0 0 0 0 0 0 0 0 0 0 0]\n",
      " [0 0 0 0 0 0 0 0 0 0 0 0 0 0 0 0 0 0 0 0]\n",
      " [0 0 0 0 0 0 0 0 0 0 0 0 0 0 0 0 0 0 0 0]\n",
      " [0 0 0 0 0 0 0 0 0 0 0 0 0 0 0 0 0 0 0 0]\n",
      " [0 0 0 0 0 0 0 0 0 0 0 0 0 0 0 0 0 0 0 0]\n",
      " [0 0 0 0 0 0 0 0 0 0 0 0 0 0 0 0 0 0 0 0]]\n"
     ]
    }
   ],
   "source": [
    "def iterate(Z):\n",
    "    N = (Z[0:-2,0:-2] + Z[0:-2,1:-1] + Z[0:-2,2:] +\n",
    "         Z[1:-1,0:-2]                + Z[1:-1,2:] +\n",
    "         Z[2:  ,0:-2] + Z[2:  ,1:-1] + Z[2:  ,2:])\n",
    "\n",
    "    birth = (N==3) & (Z[1:-1,1:-1]==0)\n",
    "    survive = ((N==2) | (N==3)) & (Z[1:-1,1:-1]==1)\n",
    "    Z[...] = 0\n",
    "    Z[1:-1,1:-1][birth | survive] = 1\n",
    "    return Z\n",
    "\n",
    "Z = np.random.randint(0,2,(20,20))\n",
    "for i in range(100): Z = iterate(Z)\n",
    "print(Z)"
   ]
  },
  {
   "cell_type": "markdown",
   "id": "0ba47b6f",
   "metadata": {},
   "source": [
    "#### 89. How to get the n largest values of an array (★★★)"
   ]
  },
  {
   "cell_type": "code",
   "execution_count": 243,
   "id": "a53c6d49",
   "metadata": {},
   "outputs": [
    {
     "name": "stdout",
     "output_type": "stream",
     "text": [
      "[9995 9996 9997 9998 9999]\n"
     ]
    }
   ],
   "source": [
    "Z = np.arange(10000)\n",
    "np.random.shuffle(Z)\n",
    "n = 5\n",
    "print (Z[np.argsort(Z)[-n:]])"
   ]
  },
  {
   "cell_type": "markdown",
   "id": "a5e4a50b",
   "metadata": {},
   "source": [
    "#### 90. Given an arbitrary number of vectors, build the cartesian product (every combinations of every item) (★★★)"
   ]
  },
  {
   "cell_type": "code",
   "execution_count": 244,
   "id": "43f57d11",
   "metadata": {},
   "outputs": [
    {
     "name": "stdout",
     "output_type": "stream",
     "text": [
      "[[1 4 6]\n",
      " [1 4 7]\n",
      " [1 5 6]\n",
      " [1 5 7]\n",
      " [2 4 6]\n",
      " [2 4 7]\n",
      " [2 5 6]\n",
      " [2 5 7]\n",
      " [3 4 6]\n",
      " [3 4 7]\n",
      " [3 5 6]\n",
      " [3 5 7]]\n"
     ]
    }
   ],
   "source": [
    "def cartesian(arrays):\n",
    "    arrays = [np.asarray(a) for a in arrays]\n",
    "    shape = (len(x) for x in arrays)\n",
    "\n",
    "    ix = np.indices(shape, dtype=int)\n",
    "    ix = ix.reshape(len(arrays), -1).T\n",
    "\n",
    "    for n, arr in enumerate(arrays):\n",
    "        ix[:, n] = arrays[n][ix[:, n]]\n",
    "\n",
    "    return ix\n",
    "\n",
    "print (cartesian(([1, 2, 3], [4, 5], [6, 7])))"
   ]
  },
  {
   "cell_type": "markdown",
   "id": "f1387b6b",
   "metadata": {},
   "source": [
    "#### 91. How to create a record array from a regular array? (★★★)"
   ]
  },
  {
   "cell_type": "code",
   "execution_count": 247,
   "id": "798d5944",
   "metadata": {},
   "outputs": [
    {
     "name": "stdout",
     "output_type": "stream",
     "text": [
      "[(b'bla',  1.65 , 36) (b'foo', 35.768, 72)]\n"
     ]
    }
   ],
   "source": [
    "Z = np.array([(\"bla\", 1.65, 36),\n",
    "              (\"foo\", 35.768, 72)])\n",
    "R = np.core.records.fromarrays(Z.T,\n",
    "                               names='col1, col2, col3',\n",
    "                               formats = 'S8, f8, i8')\n",
    "print(R)"
   ]
  },
  {
   "cell_type": "markdown",
   "id": "68fc917e",
   "metadata": {},
   "source": [
    "#### 92. Consider a large vector Z, compute Z to the power of 3 using 3 different methods (★★★)"
   ]
  },
  {
   "cell_type": "code",
   "execution_count": null,
   "id": "ca2f67d4",
   "metadata": {},
   "outputs": [],
   "source": [
    "x = np.random.rand(int(5e7))\n",
    "\n",
    "print(np.power(x,3))\n",
    "print(x*x*x)\n",
    "print(np.einsum('i,i,i->i',x,x,x))"
   ]
  },
  {
   "cell_type": "markdown",
   "id": "3f40237f",
   "metadata": {},
   "source": [
    "#### 93. Consider two arrays A and B of shape (8,3) and (2,2). How to find rows of A that contain elements of each row of B regardless of the order of the elements in B? (★★★)"
   ]
  },
  {
   "cell_type": "code",
   "execution_count": 3,
   "id": "e6749365",
   "metadata": {},
   "outputs": [
    {
     "name": "stdout",
     "output_type": "stream",
     "text": [
      "[1 2 3 6 7]\n"
     ]
    }
   ],
   "source": [
    "A = np.random.randint(0,5,(8,3))\n",
    "B = np.random.randint(0,5,(2,2))\n",
    "\n",
    "C = (A[..., np.newaxis, np.newaxis] == B)\n",
    "rows = np.where(C.any((3,1)).all(1))[0]\n",
    "print(rows)"
   ]
  },
  {
   "cell_type": "markdown",
   "id": "a4dc59f2",
   "metadata": {},
   "source": [
    "#### 94. Considering a 10x3 matrix, extract rows with unequal values (e.g. [2,2,3]) (★★★)"
   ]
  },
  {
   "cell_type": "code",
   "execution_count": 4,
   "id": "8bc42455",
   "metadata": {},
   "outputs": [
    {
     "name": "stdout",
     "output_type": "stream",
     "text": [
      "[[4 4 3]\n",
      " [4 1 1]\n",
      " [3 0 3]\n",
      " [3 3 1]\n",
      " [2 4 1]\n",
      " [1 0 0]\n",
      " [3 2 4]\n",
      " [2 1 3]\n",
      " [4 1 4]\n",
      " [3 3 2]]\n",
      "[[4 4 3]\n",
      " [4 1 1]\n",
      " [3 0 3]\n",
      " [3 3 1]\n",
      " [2 4 1]\n",
      " [1 0 0]\n",
      " [3 2 4]\n",
      " [2 1 3]\n",
      " [4 1 4]\n",
      " [3 3 2]]\n"
     ]
    }
   ],
   "source": [
    "Z = np.random.randint(0,5,(10,3))\n",
    "print(Z)\n",
    "E = np.all(Z[:,1:] == Z[:,:-1], axis=1)\n",
    "U = Z[~E]\n",
    "print(U)"
   ]
  },
  {
   "cell_type": "markdown",
   "id": "d906fde2",
   "metadata": {},
   "source": [
    "#### 95. Convert a vector of ints into a matrix binary representation (★★★)"
   ]
  },
  {
   "cell_type": "code",
   "execution_count": 5,
   "id": "031efac7",
   "metadata": {},
   "outputs": [
    {
     "name": "stdout",
     "output_type": "stream",
     "text": [
      "[[0 0 0 0 0 0 0 0]\n",
      " [0 0 0 0 0 0 0 1]\n",
      " [0 0 0 0 0 0 1 0]\n",
      " [0 0 0 0 0 0 1 1]\n",
      " [0 0 0 0 1 1 1 1]\n",
      " [0 0 0 1 0 0 0 0]\n",
      " [0 0 1 0 0 0 0 0]\n",
      " [0 1 0 0 0 0 0 0]\n",
      " [1 0 0 0 0 0 0 0]]\n"
     ]
    }
   ],
   "source": [
    "I = np.array([0, 1, 2, 3, 15, 16, 32, 64, 128], dtype=np.uint8)\n",
    "print(np.unpackbits(I[:, np.newaxis], axis=1))"
   ]
  },
  {
   "cell_type": "markdown",
   "id": "740fcde7",
   "metadata": {},
   "source": [
    "#### 96. Given a two dimensional array, how to extract unique rows? (★★★)"
   ]
  },
  {
   "cell_type": "code",
   "execution_count": 13,
   "id": "dca9f7e6",
   "metadata": {},
   "outputs": [
    {
     "name": "stdout",
     "output_type": "stream",
     "text": [
      "[[7 9 0]\n",
      " [3 1 5]\n",
      " [3 0 1]\n",
      " [4 1 8]\n",
      " [9 8 5]\n",
      " [7 5 9]]\n",
      "----------\n",
      "[[3 0 1]\n",
      " [3 1 5]\n",
      " [4 1 8]\n",
      " [7 5 9]\n",
      " [7 9 0]\n",
      " [9 8 5]]\n"
     ]
    }
   ],
   "source": [
    "Z = np.random.randint(0,10,(6,3))\n",
    "print(Z)\n",
    "print(\"----------\")\n",
    "uZ = np.unique(Z, axis=0)\n",
    "print(uZ)"
   ]
  },
  {
   "cell_type": "markdown",
   "id": "ce018d8b",
   "metadata": {},
   "source": [
    "#### 97. Considering 2 vectors A & B, write the einsum equivalent of inner, outer, sum, and mul function (★★★)"
   ]
  },
  {
   "cell_type": "code",
   "execution_count": 15,
   "id": "c3b52e85",
   "metadata": {},
   "outputs": [
    {
     "name": "stdout",
     "output_type": "stream",
     "text": [
      "4.848805091623396\n",
      "[0.07522351 0.34064344 0.01632863 0.11039498 0.32783846 0.05529026\n",
      " 0.1233705  0.30885263 0.45120515 0.21947482]\n",
      "2.028622376943641\n",
      "[[0.07522351 0.2373565  0.01834658 0.19734715 0.1164063  0.02719342\n",
      "  0.12105622 0.10622504 0.19133119 0.28808954]\n",
      " [0.10795742 0.34064344 0.0263302  0.2832238  0.16706112 0.03902678\n",
      "  0.17373448 0.15244943 0.27458998 0.41345323]\n",
      " [0.06694961 0.21124946 0.01632863 0.17564077 0.10360267 0.02420239\n",
      "  0.10774115 0.09454126 0.17028651 0.25640233]\n",
      " [0.04207965 0.13277601 0.01026298 0.11039498 0.06511709 0.01521186\n",
      "  0.06771823 0.05942174 0.10702969 0.16115581]\n",
      " [0.21185417 0.66847402 0.05167002 0.55579452 0.32783846 0.07658562\n",
      "  0.34093417 0.29916469 0.53885161 0.81135497]\n",
      " [0.1529461  0.48259846 0.03730268 0.40125056 0.23667985 0.05529026\n",
      "  0.24613418 0.2159791  0.3890188  0.58575   ]\n",
      " [0.07666159 0.24189413 0.01869732 0.2011199  0.11863168 0.02771329\n",
      "  0.1233705  0.10825579 0.19498894 0.29359705]\n",
      " [0.21871471 0.69012142 0.05334326 0.57379299 0.33845495 0.07906572\n",
      "  0.35197475 0.30885263 0.55630142 0.83762933]\n",
      " [0.1773952  0.55974393 0.04326567 0.46539222 0.27451416 0.06412865\n",
      "  0.2854798  0.2505043  0.45120515 0.6793847 ]\n",
      " [0.05730742 0.18082495 0.01397695 0.15034468 0.08868164 0.02071672\n",
      "  0.09222408 0.08092527 0.14576156 0.21947482]]\n"
     ]
    }
   ],
   "source": [
    "A = np.random.uniform(0,1,10)\n",
    "B = np.random.uniform(0,1,10)\n",
    "\n",
    "print(np.einsum('i->', A))     # np.sum(A)\n",
    "print(np.einsum('i,i->i', A, B)) # A * B\n",
    "print(np.einsum('i,i', A, B))    # np.inner(A, B)\n",
    "print(np.einsum('i,j->ij', A, B))    # np.outer(A, B)"
   ]
  },
  {
   "cell_type": "markdown",
   "id": "cf43a13d",
   "metadata": {},
   "source": [
    "#### 98. Considering a path described by two vectors (X,Y), how to sample it using equidistant samples (★★★)?"
   ]
  },
  {
   "cell_type": "code",
   "execution_count": 17,
   "id": "a8a13c6f",
   "metadata": {},
   "outputs": [],
   "source": [
    "phi = np.arange(0, 10*np.pi, 0.1)\n",
    "a = 1\n",
    "x = a*phi*np.cos(phi)\n",
    "y = a*phi*np.sin(phi)\n",
    "\n",
    "dr = (np.diff(x)**2 + np.diff(y)**2)**.5\n",
    "r = np.zeros_like(x)\n",
    "r[1:] = np.cumsum(dr)               \n",
    "r_int = np.linspace(0, r.max(), 200)\n",
    "x_int = np.interp(r_int, r, x)\n",
    "y_int = np.interp(r_int, r, y)"
   ]
  },
  {
   "cell_type": "markdown",
   "id": "4e055d69",
   "metadata": {},
   "source": [
    "#### 99. Given an integer n and a 2D array X, select from X the rows which can be interpreted as draws from a multinomial distribution with n degrees, i.e., the rows which only contain integers and which sum to n. (★★★)"
   ]
  },
  {
   "cell_type": "code",
   "execution_count": 18,
   "id": "8acf46f8",
   "metadata": {},
   "outputs": [
    {
     "name": "stdout",
     "output_type": "stream",
     "text": [
      "[[2. 0. 1. 1.]]\n"
     ]
    }
   ],
   "source": [
    "X = np.asarray([[1.0, 0.0, 3.0, 8.0],\n",
    "                [2.0, 0.0, 1.0, 1.0],\n",
    "                [1.5, 2.5, 1.0, 0.0]])\n",
    "n = 4\n",
    "M = np.logical_and.reduce(np.mod(X, 1) == 0, axis=-1)\n",
    "M &= (X.sum(axis=-1) == n)\n",
    "print(X[M])"
   ]
  },
  {
   "cell_type": "markdown",
   "id": "950d4258",
   "metadata": {},
   "source": [
    "#### 100. Compute bootstrapped 95% confidence intervals for the mean of a 1D array X (i.e., resample the elements of an array with replacement N times, compute the mean of each sample, and then compute percentiles over the means). (★★★)"
   ]
  },
  {
   "cell_type": "code",
   "execution_count": 20,
   "id": "cf140e59",
   "metadata": {},
   "outputs": [
    {
     "name": "stdout",
     "output_type": "stream",
     "text": [
      "[-0.1812294   0.22712309]\n"
     ]
    }
   ],
   "source": [
    "X = np.random.randn(100)\n",
    "N = 1000 \n",
    "idx = np.random.randint(0, X.size, (N, X.size))\n",
    "means = X[idx].mean(axis=1)\n",
    "confint = np.percentile(means, [2.5, 97.5])\n",
    "print(confint)"
   ]
  }
 ],
 "metadata": {
  "kernelspec": {
   "display_name": "Python 3",
   "language": "python",
   "name": "python3"
  },
  "language_info": {
   "codemirror_mode": {
    "name": "ipython",
    "version": 3
   },
   "file_extension": ".py",
   "mimetype": "text/x-python",
   "name": "python",
   "nbconvert_exporter": "python",
   "pygments_lexer": "ipython3",
   "version": "3.8.10"
  }
 },
 "nbformat": 4,
 "nbformat_minor": 5
}
